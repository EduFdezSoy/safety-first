{
  "nbformat": 4,
  "nbformat_minor": 0,
  "metadata": {
    "colab": {
      "name": "Hola.ipynb",
      "provenance": [],
      "collapsed_sections": [],
      "include_colab_link": true
    },
    "kernelspec": {
      "name": "python3",
      "display_name": "Python 3"
    },
    "accelerator": "GPU"
  },
  "cells": [
    {
      "cell_type": "markdown",
      "metadata": {
        "id": "view-in-github",
        "colab_type": "text"
      },
      "source": [
        "<a href=\"https://colab.research.google.com/github/EduFdezSoy/safety-first/blob/master/base.ipynb\" target=\"_parent\"><img src=\"https://colab.research.google.com/assets/colab-badge.svg\" alt=\"Open In Colab\"/></a>"
      ]
    },
    {
      "cell_type": "markdown",
      "metadata": {
        "id": "0MS0bl_OzJhu"
      },
      "source": [
        "# Safety helmet detector"
      ]
    },
    {
      "cell_type": "markdown",
      "metadata": {
        "id": "ki8M96GzzElM"
      },
      "source": [
        "Source: https://www.kaggle.com/ehddnr301/helmet-classification"
      ]
    },
    {
      "cell_type": "code",
      "metadata": {
        "id": "xOoHKAbJ6eVy"
      },
      "source": [
        "# Uncomment for install tensorflow 1.15.\n",
        "#!pip install tensorflow==1.15"
      ],
      "execution_count": 1,
      "outputs": []
    },
    {
      "cell_type": "code",
      "metadata": {
        "id": "NtCxUQ1_TmhB",
        "outputId": "66be28a5-379e-470b-9446-f474321a3d6e",
        "colab": {
          "base_uri": "https://localhost:8080/",
          "height": 35
        }
      },
      "source": [
        "import cv2\n",
        "import os\n",
        "import pandas as pd \n",
        "import matplotlib.pyplot as plt\n",
        "import matplotlib.image as mpimg\n",
        "import numpy as np\n",
        "from skimage import io, transform\n",
        "from PIL import Image\n",
        "\n",
        "from sklearn.model_selection import train_test_split\n",
        "\n",
        "import tensorflow as tf\n",
        "from tensorflow.keras.callbacks import ReduceLROnPlateau\n",
        "from tensorflow.keras.applications import ResNet152V2\n",
        "from tensorflow.keras.models import Sequential\n",
        "from tensorflow.keras.layers import Dense, Dropout\n",
        "from tensorflow.keras.callbacks import ModelCheckpoint\n",
        "from tensorflow.keras.optimizers import Adam, RMSprop\n",
        "from tensorflow.keras.preprocessing.image import ImageDataGenerator\n",
        "\n",
        "# create model\n",
        "from tensorflow.keras.layers import Conv2D, Flatten, Dense, Activation, BatchNormalization, MaxPooling2D, Dropout\n",
        "\n",
        "# Check Tensorflow version.\n",
        "tf.version.VERSION"
      ],
      "execution_count": 2,
      "outputs": [
        {
          "output_type": "execute_result",
          "data": {
            "application/vnd.google.colaboratory.intrinsic+json": {
              "type": "string"
            },
            "text/plain": [
              "'2.3.0'"
            ]
          },
          "metadata": {
            "tags": []
          },
          "execution_count": 2
        }
      ]
    },
    {
      "cell_type": "code",
      "metadata": {
        "id": "2kwAMq-36izW",
        "outputId": "abf1d289-2cf8-4c1a-fe2c-4769120d6c5c",
        "colab": {
          "base_uri": "https://localhost:8080/"
        }
      },
      "source": [
        "!git clone https://github.com/sergiorodenas/ml-data.git"
      ],
      "execution_count": 3,
      "outputs": [
        {
          "output_type": "stream",
          "text": [
            "Cloning into 'ml-data'...\n",
            "remote: Enumerating objects: 13236, done.\u001b[K\n",
            "remote: Total 13236 (delta 0), reused 0 (delta 0), pack-reused 13236\u001b[K\n",
            "Receiving objects: 100% (13236/13236), 64.73 MiB | 36.54 MiB/s, done.\n",
            "Resolving deltas: 100% (84/84), done.\n"
          ],
          "name": "stdout"
        }
      ]
    },
    {
      "cell_type": "code",
      "metadata": {
        "id": "pxZKXv5KyM7T"
      },
      "source": [
        "IMAGE_WIDTH=100\n",
        "IMAGE_HEIGHT=100\n",
        "IMAGE_SIZE=(IMAGE_WIDTH, IMAGE_HEIGHT)\n",
        "IMAGE_CHANNELS=3\n",
        "BATCH_SIZE=32\n",
        "EPOCHS=3\n",
        "PATH1='./ml-data/helmet-dataset/Train_positive/Train_positive/'\n",
        "PATH2='./ml-data/helmet-dataset/Train_negative/Train_negative/'"
      ],
      "execution_count": 4,
      "outputs": []
    },
    {
      "cell_type": "code",
      "metadata": {
        "id": "wQCi3ERdyM96",
        "outputId": "f482835d-691b-4343-c0e1-bfd0dd690ea8",
        "colab": {
          "base_uri": "https://localhost:8080/"
        }
      },
      "source": [
        "# train dataset\n",
        "filenames_helmet_yes = os.listdir(PATH1)\n",
        "filenames_helmet_no = os.listdir(PATH2)\n",
        "\n",
        "filenames_list_yes = []\n",
        "filenames_list_no = []\n",
        "categories_yes = []\n",
        "categories_no = []\n",
        "\n",
        "for filename in filenames_helmet_yes:\n",
        "    filenames_list_yes.append(PATH1 + filename)\n",
        "    categories_yes.append(str(1))\n",
        "for filename in filenames_helmet_no:\n",
        "    filenames_list_no.append(PATH2 + filename)\n",
        "    categories_no.append(str(0))\n",
        "    \n",
        "\n",
        "df_yes = pd.DataFrame({\n",
        "    'image': filenames_list_yes,\n",
        "    'category': categories_yes\n",
        "})\n",
        "df_no = pd.DataFrame({\n",
        "    'image': filenames_list_no,\n",
        "    'category': categories_no\n",
        "})\n",
        "print(df_yes.shape, df_no.shape)\n",
        "df = df_yes.append(df_no, ignore_index=True)\n",
        "print(df['image'][0])"
      ],
      "execution_count": 5,
      "outputs": [
        {
          "output_type": "stream",
          "text": [
            "(5160, 2) (6580, 2)\n",
            "./ml-data/helmet-dataset/Train_positive/Train_positive/6238.jpg\n"
          ],
          "name": "stdout"
        }
      ]
    },
    {
      "cell_type": "code",
      "metadata": {
        "id": "FGJ3njNpyNA4",
        "outputId": "bd86592d-355d-4b5f-e40e-874d43e1cda7",
        "colab": {
          "base_uri": "https://localhost:8080/"
        }
      },
      "source": [
        "#split data into train and valid set\n",
        "train_df, valid_df = train_test_split(df, test_size = 0.15, stratify = df['category'], random_state = 3)\n",
        "train_df = train_df.reset_index(drop=True)\n",
        "valid_df = valid_df.reset_index(drop=True)\n",
        "total_train = train_df.shape[0]\n",
        "total_valid = valid_df.shape[0]\n",
        "print(train_df.shape)\n",
        "print(valid_df.shape)"
      ],
      "execution_count": 6,
      "outputs": [
        {
          "output_type": "stream",
          "text": [
            "(9979, 2)\n",
            "(1761, 2)\n"
          ],
          "name": "stdout"
        }
      ]
    },
    {
      "cell_type": "code",
      "metadata": {
        "id": "tD1sYQF-yYFW",
        "outputId": "9ac5ce8c-f45c-4249-9e7d-1193e8d67b28",
        "colab": {
          "base_uri": "https://localhost:8080/"
        }
      },
      "source": [
        "#We'll perform individually on train and validation set.\n",
        "train_datagen = ImageDataGenerator(\n",
        "                                   rescale=1./255,\n",
        "                                   )\n",
        "\n",
        "train_gen = train_datagen.flow_from_dataframe(train_df,\n",
        "                                              x_col = 'image',\n",
        "                                              y_col = 'category',\n",
        "                                              target_size = IMAGE_SIZE,\n",
        "                                              batch_size = BATCH_SIZE,\n",
        "                                              class_mode='binary',\n",
        "                                              validate_filenames=False\n",
        "                                             )\n",
        "\n",
        "#we do not augment validation data.\n",
        "validation_datagen = ImageDataGenerator(rescale=1./255)\n",
        "valid_gen = validation_datagen.flow_from_dataframe(\n",
        "    valid_df, \n",
        "    x_col=\"image\",\n",
        "    y_col=\"category\",\n",
        "    target_size=IMAGE_SIZE,\n",
        "    class_mode='binary',\n",
        "    batch_size=BATCH_SIZE,\n",
        "    validate_filenames=False\n",
        ")"
      ],
      "execution_count": 7,
      "outputs": [
        {
          "output_type": "stream",
          "text": [
            "Found 9979 non-validated image filenames belonging to 2 classes.\n",
            "Found 1761 non-validated image filenames belonging to 2 classes.\n"
          ],
          "name": "stdout"
        }
      ]
    },
    {
      "cell_type": "code",
      "metadata": {
        "id": "IFtLlcADyY8h"
      },
      "source": [
        "def create_model():\n",
        "    model = Sequential()\n",
        "    model.add(Conv2D(64, (3,3), activation='relu', strides=(2,2), input_shape=(IMAGE_WIDTH,IMAGE_HEIGHT,IMAGE_CHANNELS)))\n",
        "    model.add(Conv2D(64, (3,3), activation='relu'))\n",
        "    model.add(Dropout(0.2))\n",
        "    model.add(Conv2D(64, (3,3), activation='relu'))\n",
        "    model.add(MaxPooling2D((2, 2)))\n",
        "    model.add(Dropout(0.2))\n",
        "    model.add(Conv2D(64, (3,3), activation='relu'))\n",
        "    model.add(MaxPooling2D((2, 2)))\n",
        "    model.add(Dropout(0.2))\n",
        "    model.add(Conv2D(126, (3,3), activation='relu'))\n",
        "    model.add(MaxPooling2D((2, 2)))\n",
        "    model.add(Dropout(0.2))\n",
        "    model.add(Conv2D(126, (3,3), activation='relu'))\n",
        "    model.add(Dropout(0.3))\n",
        "    model.add(Flatten())\n",
        "    model.add(Dense(256, activation='relu'))\n",
        "    model.add(Dropout(0.3))\n",
        "    model.add(Dense(1, activation = 'sigmoid'))\n",
        "    model.compile(loss='binary_crossentropy', optimizer='adam', metrics=['acc'])\n",
        "    return model"
      ],
      "execution_count": 8,
      "outputs": []
    },
    {
      "cell_type": "code",
      "metadata": {
        "id": "j3A3LoTIycAf"
      },
      "source": [
        "model = create_model()"
      ],
      "execution_count": 9,
      "outputs": []
    },
    {
      "cell_type": "code",
      "metadata": {
        "id": "eMNO2GhJye6l",
        "outputId": "0f779ff3-b077-4706-f268-61e8efb34220",
        "colab": {
          "base_uri": "https://localhost:8080/"
        }
      },
      "source": [
        "model.summary()"
      ],
      "execution_count": 10,
      "outputs": [
        {
          "output_type": "stream",
          "text": [
            "Model: \"sequential\"\n",
            "_________________________________________________________________\n",
            "Layer (type)                 Output Shape              Param #   \n",
            "=================================================================\n",
            "conv2d (Conv2D)              (None, 49, 49, 64)        1792      \n",
            "_________________________________________________________________\n",
            "conv2d_1 (Conv2D)            (None, 47, 47, 64)        36928     \n",
            "_________________________________________________________________\n",
            "dropout (Dropout)            (None, 47, 47, 64)        0         \n",
            "_________________________________________________________________\n",
            "conv2d_2 (Conv2D)            (None, 45, 45, 64)        36928     \n",
            "_________________________________________________________________\n",
            "max_pooling2d (MaxPooling2D) (None, 22, 22, 64)        0         \n",
            "_________________________________________________________________\n",
            "dropout_1 (Dropout)          (None, 22, 22, 64)        0         \n",
            "_________________________________________________________________\n",
            "conv2d_3 (Conv2D)            (None, 20, 20, 64)        36928     \n",
            "_________________________________________________________________\n",
            "max_pooling2d_1 (MaxPooling2 (None, 10, 10, 64)        0         \n",
            "_________________________________________________________________\n",
            "dropout_2 (Dropout)          (None, 10, 10, 64)        0         \n",
            "_________________________________________________________________\n",
            "conv2d_4 (Conv2D)            (None, 8, 8, 126)         72702     \n",
            "_________________________________________________________________\n",
            "max_pooling2d_2 (MaxPooling2 (None, 4, 4, 126)         0         \n",
            "_________________________________________________________________\n",
            "dropout_3 (Dropout)          (None, 4, 4, 126)         0         \n",
            "_________________________________________________________________\n",
            "conv2d_5 (Conv2D)            (None, 2, 2, 126)         143010    \n",
            "_________________________________________________________________\n",
            "dropout_4 (Dropout)          (None, 2, 2, 126)         0         \n",
            "_________________________________________________________________\n",
            "flatten (Flatten)            (None, 504)               0         \n",
            "_________________________________________________________________\n",
            "dense (Dense)                (None, 256)               129280    \n",
            "_________________________________________________________________\n",
            "dropout_5 (Dropout)          (None, 256)               0         \n",
            "_________________________________________________________________\n",
            "dense_1 (Dense)              (None, 1)                 257       \n",
            "=================================================================\n",
            "Total params: 457,825\n",
            "Trainable params: 457,825\n",
            "Non-trainable params: 0\n",
            "_________________________________________________________________\n"
          ],
          "name": "stdout"
        }
      ]
    },
    {
      "cell_type": "code",
      "metadata": {
        "id": "LDqX4hWTye8i"
      },
      "source": [
        "learning_rate_reduction = ReduceLROnPlateau(monitor='val_acc', \n",
        "                                            patience=2, \n",
        "                                            verbose=1, \n",
        "                                            factor=0.5, \n",
        "                                            min_lr=0.00001)\n",
        "checkpointer = ModelCheckpoint(filepath = 'mask.weights.best.hdf5', save_best_only = True, save_weights_only = True)\n",
        "callbacks = [learning_rate_reduction, checkpointer]"
      ],
      "execution_count": 11,
      "outputs": []
    },
    {
      "cell_type": "code",
      "metadata": {
        "id": "BqURES9vye_j",
        "outputId": "43227436-91e8-485b-e305-5bc5c27545af",
        "colab": {
          "base_uri": "https://localhost:8080/"
        }
      },
      "source": [
        "model.fit_generator(train_gen,\n",
        "                    epochs = EPOCHS,\n",
        "                    validation_data = valid_gen,\n",
        "                    validation_steps=total_valid//BATCH_SIZE,\n",
        "                    steps_per_epoch=total_train//BATCH_SIZE,\n",
        "                    callbacks = callbacks)"
      ],
      "execution_count": null,
      "outputs": [
        {
          "output_type": "stream",
          "text": [
            "WARNING:tensorflow:From <ipython-input-12-44e5730a9fad>:6: Model.fit_generator (from tensorflow.python.keras.engine.training) is deprecated and will be removed in a future version.\n",
            "Instructions for updating:\n",
            "Please use Model.fit, which supports generators.\n",
            "Epoch 1/3\n",
            "311/311 [==============================] - 12s 39ms/step - loss: 0.2147 - acc: 0.9122 - val_loss: 0.1144 - val_acc: 0.9619\n",
            "Epoch 2/3\n",
            "203/311 [==================>...........] - ETA: 3s - loss: 0.1424 - acc: 0.9498"
          ],
          "name": "stdout"
        }
      ]
    },
    {
      "cell_type": "code",
      "metadata": {
        "id": "jDcAQxo3ynRp"
      },
      "source": [
        "loss = pd.DataFrame(model.history.history)\n",
        "loss[['loss', 'val_loss']].plot()\n",
        "loss[['acc', 'val_acc']].plot()"
      ],
      "execution_count": null,
      "outputs": []
    },
    {
      "cell_type": "code",
      "metadata": {
        "id": "oyrcgfE4yr7D"
      },
      "source": [
        "PATH3='../input/construction-worker/construction worker/construction workerx8.png'"
      ],
      "execution_count": null,
      "outputs": []
    },
    {
      "cell_type": "code",
      "metadata": {
        "id": "hif7Mw6Xyr9g"
      },
      "source": [
        "# face detection with opencv\n",
        "def face_detection(img):\n",
        "    \n",
        "    face_cascade = cv2.CascadeClassifier('../input/haar-cascades-for-face-detection/haarcascade_frontalface_default.xml')\n",
        "    \n",
        "    gray = cv2.cvtColor(img, cv2.COLOR_BGR2GRAY)\n",
        "    faces = face_cascade.detectMultiScale(gray)\n",
        "        \n",
        "    for (x,y,w,h) in faces:\n",
        "#         cv2.rectangle(img,(x-20,y-20),((x+w)+20,(y+h)+20),(255,0,0),2)\n",
        "        img = img[y-20:y+h-40, x-20:x+w+20] # for cropping\n",
        "    cv_rgb = cv2.cvtColor(img, cv2.COLOR_BGR2RGB)\n",
        "    return cv_rgb"
      ],
      "execution_count": null,
      "outputs": []
    },
    {
      "cell_type": "code",
      "metadata": {
        "id": "G7xF_T4yysAU"
      },
      "source": [
        "# img = mpimg.imread(test_df['image'][1])\n",
        "plt.figure(figsize=(5,5))\n",
        "img = cv2.imread(PATH3)\n",
        "c=face_detection(img)\n",
        "plt.imshow(c)"
      ],
      "execution_count": null,
      "outputs": []
    },
    {
      "cell_type": "code",
      "metadata": {
        "id": "ylEoa2xayxO5"
      },
      "source": [
        "c = transform.resize(c, (100,100))\n",
        "plt.imshow(c)\n",
        "# c = c / 255.0"
      ],
      "execution_count": null,
      "outputs": []
    },
    {
      "cell_type": "code",
      "metadata": {
        "id": "5d0xW0Roy1_D"
      },
      "source": [
        "predict_image = np.expand_dims(c, axis=0)"
      ],
      "execution_count": null,
      "outputs": []
    },
    {
      "cell_type": "code",
      "metadata": {
        "id": "kZ-Xpuguy2Bl"
      },
      "source": [
        "print(predict_image.shape)"
      ],
      "execution_count": null,
      "outputs": []
    },
    {
      "cell_type": "code",
      "metadata": {
        "id": "_y4pFj4Qy2Ep"
      },
      "source": [
        "print(predict_image)"
      ],
      "execution_count": null,
      "outputs": []
    },
    {
      "cell_type": "code",
      "metadata": {
        "id": "_xM4J0WNyxR0"
      },
      "source": [
        "a = model.predict(predict_image)"
      ],
      "execution_count": null,
      "outputs": []
    },
    {
      "cell_type": "code",
      "metadata": {
        "id": "6buqwXZXy--Q"
      },
      "source": [
        "print(a)"
      ],
      "execution_count": null,
      "outputs": []
    }
  ]
}