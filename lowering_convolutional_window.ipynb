{
  "nbformat": 4,
  "nbformat_minor": 0,
  "metadata": {
    "colab": {
      "name": "Hola.ipynb",
      "provenance": [],
      "collapsed_sections": [],
      "toc_visible": true,
      "include_colab_link": true
    },
    "kernelspec": {
      "name": "python3",
      "display_name": "Python 3"
    },
    "accelerator": "GPU"
  },
  "cells": [
    {
      "cell_type": "markdown",
      "metadata": {
        "id": "view-in-github",
        "colab_type": "text"
      },
      "source": [
        "<a href=\"https://colab.research.google.com/github/EduFdezSoy/safety-first/blob/master/lowering_convolutional_window.ipynb\" target=\"_parent\"><img src=\"https://colab.research.google.com/assets/colab-badge.svg\" alt=\"Open In Colab\"/></a>"
      ]
    },
    {
      "cell_type": "markdown",
      "metadata": {
        "id": "0MS0bl_OzJhu"
      },
      "source": [
        "# Safety helmet detector"
      ]
    },
    {
      "cell_type": "markdown",
      "metadata": {
        "id": "ki8M96GzzElM"
      },
      "source": [
        "Source: https://www.kaggle.com/ehddnr301/helmet-classification"
      ]
    },
    {
      "cell_type": "code",
      "metadata": {
        "id": "xOoHKAbJ6eVy",
        "colab": {
          "base_uri": "https://localhost:8080/"
        },
        "outputId": "e89198e7-e874-4a39-872b-0a408fa4e853"
      },
      "source": [
        "# Uncomment for install tensorflow 1.15.\n",
        "!pip install tensorflow==1.15"
      ],
      "execution_count": 1,
      "outputs": [
        {
          "output_type": "stream",
          "text": [
            "Collecting tensorflow==1.15\n",
            "\u001b[?25l  Downloading https://files.pythonhosted.org/packages/3f/98/5a99af92fb911d7a88a0005ad55005f35b4c1ba8d75fba02df726cd936e6/tensorflow-1.15.0-cp36-cp36m-manylinux2010_x86_64.whl (412.3MB)\n",
            "\u001b[K     |████████████████████████████████| 412.3MB 42kB/s \n",
            "\u001b[?25hRequirement already satisfied: astor>=0.6.0 in /usr/local/lib/python3.6/dist-packages (from tensorflow==1.15) (0.8.1)\n",
            "Requirement already satisfied: wheel>=0.26 in /usr/local/lib/python3.6/dist-packages (from tensorflow==1.15) (0.35.1)\n",
            "Requirement already satisfied: numpy<2.0,>=1.16.0 in /usr/local/lib/python3.6/dist-packages (from tensorflow==1.15) (1.18.5)\n",
            "Requirement already satisfied: termcolor>=1.1.0 in /usr/local/lib/python3.6/dist-packages (from tensorflow==1.15) (1.1.0)\n",
            "Requirement already satisfied: absl-py>=0.7.0 in /usr/local/lib/python3.6/dist-packages (from tensorflow==1.15) (0.10.0)\n",
            "Collecting keras-applications>=1.0.8\n",
            "\u001b[?25l  Downloading https://files.pythonhosted.org/packages/71/e3/19762fdfc62877ae9102edf6342d71b28fbfd9dea3d2f96a882ce099b03f/Keras_Applications-1.0.8-py3-none-any.whl (50kB)\n",
            "\u001b[K     |████████████████████████████████| 51kB 7.8MB/s \n",
            "\u001b[?25hCollecting tensorboard<1.16.0,>=1.15.0\n",
            "\u001b[?25l  Downloading https://files.pythonhosted.org/packages/1e/e9/d3d747a97f7188f48aa5eda486907f3b345cd409f0a0850468ba867db246/tensorboard-1.15.0-py3-none-any.whl (3.8MB)\n",
            "\u001b[K     |████████████████████████████████| 3.8MB 45.7MB/s \n",
            "\u001b[?25hRequirement already satisfied: protobuf>=3.6.1 in /usr/local/lib/python3.6/dist-packages (from tensorflow==1.15) (3.12.4)\n",
            "Requirement already satisfied: grpcio>=1.8.6 in /usr/local/lib/python3.6/dist-packages (from tensorflow==1.15) (1.33.2)\n",
            "Collecting tensorflow-estimator==1.15.1\n",
            "\u001b[?25l  Downloading https://files.pythonhosted.org/packages/de/62/2ee9cd74c9fa2fa450877847ba560b260f5d0fb70ee0595203082dafcc9d/tensorflow_estimator-1.15.1-py2.py3-none-any.whl (503kB)\n",
            "\u001b[K     |████████████████████████████████| 512kB 56.8MB/s \n",
            "\u001b[?25hCollecting gast==0.2.2\n",
            "  Downloading https://files.pythonhosted.org/packages/4e/35/11749bf99b2d4e3cceb4d55ca22590b0d7c2c62b9de38ac4a4a7f4687421/gast-0.2.2.tar.gz\n",
            "Requirement already satisfied: wrapt>=1.11.1 in /usr/local/lib/python3.6/dist-packages (from tensorflow==1.15) (1.12.1)\n",
            "Requirement already satisfied: opt-einsum>=2.3.2 in /usr/local/lib/python3.6/dist-packages (from tensorflow==1.15) (3.3.0)\n",
            "Requirement already satisfied: keras-preprocessing>=1.0.5 in /usr/local/lib/python3.6/dist-packages (from tensorflow==1.15) (1.1.2)\n",
            "Requirement already satisfied: google-pasta>=0.1.6 in /usr/local/lib/python3.6/dist-packages (from tensorflow==1.15) (0.2.0)\n",
            "Requirement already satisfied: six>=1.10.0 in /usr/local/lib/python3.6/dist-packages (from tensorflow==1.15) (1.15.0)\n",
            "Requirement already satisfied: h5py in /usr/local/lib/python3.6/dist-packages (from keras-applications>=1.0.8->tensorflow==1.15) (2.10.0)\n",
            "Requirement already satisfied: werkzeug>=0.11.15 in /usr/local/lib/python3.6/dist-packages (from tensorboard<1.16.0,>=1.15.0->tensorflow==1.15) (1.0.1)\n",
            "Requirement already satisfied: setuptools>=41.0.0 in /usr/local/lib/python3.6/dist-packages (from tensorboard<1.16.0,>=1.15.0->tensorflow==1.15) (50.3.2)\n",
            "Requirement already satisfied: markdown>=2.6.8 in /usr/local/lib/python3.6/dist-packages (from tensorboard<1.16.0,>=1.15.0->tensorflow==1.15) (3.3.3)\n",
            "Requirement already satisfied: importlib-metadata; python_version < \"3.8\" in /usr/local/lib/python3.6/dist-packages (from markdown>=2.6.8->tensorboard<1.16.0,>=1.15.0->tensorflow==1.15) (2.0.0)\n",
            "Requirement already satisfied: zipp>=0.5 in /usr/local/lib/python3.6/dist-packages (from importlib-metadata; python_version < \"3.8\"->markdown>=2.6.8->tensorboard<1.16.0,>=1.15.0->tensorflow==1.15) (3.4.0)\n",
            "Building wheels for collected packages: gast\n",
            "  Building wheel for gast (setup.py) ... \u001b[?25l\u001b[?25hdone\n",
            "  Created wheel for gast: filename=gast-0.2.2-cp36-none-any.whl size=7542 sha256=1264c06b64bae8f00473206394e803aab2693d32eb7815972a1a268290105f1c\n",
            "  Stored in directory: /root/.cache/pip/wheels/5c/2e/7e/a1d4d4fcebe6c381f378ce7743a3ced3699feb89bcfbdadadd\n",
            "Successfully built gast\n",
            "\u001b[31mERROR: tensorflow-probability 0.11.0 has requirement gast>=0.3.2, but you'll have gast 0.2.2 which is incompatible.\u001b[0m\n",
            "Installing collected packages: keras-applications, tensorboard, tensorflow-estimator, gast, tensorflow\n",
            "  Found existing installation: tensorboard 2.3.0\n",
            "    Uninstalling tensorboard-2.3.0:\n",
            "      Successfully uninstalled tensorboard-2.3.0\n",
            "  Found existing installation: tensorflow-estimator 2.3.0\n",
            "    Uninstalling tensorflow-estimator-2.3.0:\n",
            "      Successfully uninstalled tensorflow-estimator-2.3.0\n",
            "  Found existing installation: gast 0.3.3\n",
            "    Uninstalling gast-0.3.3:\n",
            "      Successfully uninstalled gast-0.3.3\n",
            "  Found existing installation: tensorflow 2.3.0\n",
            "    Uninstalling tensorflow-2.3.0:\n",
            "      Successfully uninstalled tensorflow-2.3.0\n",
            "Successfully installed gast-0.2.2 keras-applications-1.0.8 tensorboard-1.15.0 tensorflow-1.15.0 tensorflow-estimator-1.15.1\n"
          ],
          "name": "stdout"
        }
      ]
    },
    {
      "cell_type": "code",
      "metadata": {
        "id": "NtCxUQ1_TmhB",
        "colab": {
          "base_uri": "https://localhost:8080/",
          "height": 35
        },
        "outputId": "0dd6f0c6-8d2c-4792-9feb-ed5cacf3653e"
      },
      "source": [
        "# Imports\n",
        "import cv2\n",
        "import os\n",
        "import pandas as pd \n",
        "import matplotlib.pyplot as plt\n",
        "import matplotlib.image as mpimg\n",
        "import numpy as np\n",
        "import time\n",
        "from skimage import io, transform\n",
        "from PIL import Image\n",
        "\n",
        "from sklearn.model_selection import train_test_split\n",
        "\n",
        "import tensorflow as tf\n",
        "from tensorflow.keras.callbacks import ReduceLROnPlateau\n",
        "from tensorflow.keras.applications import ResNet152V2\n",
        "from tensorflow.keras.models import Sequential\n",
        "from tensorflow.keras.layers import Dense, Dropout\n",
        "from tensorflow.keras.callbacks import ModelCheckpoint, EarlyStopping\n",
        "from tensorflow.keras.optimizers import Adam, RMSprop\n",
        "from tensorflow.keras.preprocessing.image import ImageDataGenerator\n",
        "\n",
        "# Create model\n",
        "from tensorflow.keras.layers import Conv2D, Flatten, Dense, Activation, BatchNormalization, MaxPooling2D, Dropout\n",
        "# Check Tensorflow version.\n",
        "tf.version.VERSION"
      ],
      "execution_count": 2,
      "outputs": [
        {
          "output_type": "execute_result",
          "data": {
            "application/vnd.google.colaboratory.intrinsic+json": {
              "type": "string"
            },
            "text/plain": [
              "'1.15.0'"
            ]
          },
          "metadata": {
            "tags": []
          },
          "execution_count": 2
        }
      ]
    },
    {
      "cell_type": "markdown",
      "metadata": {
        "id": "LO5VaK6_2kHB"
      },
      "source": [
        "## 1. Loading Data"
      ]
    },
    {
      "cell_type": "code",
      "metadata": {
        "id": "2kwAMq-36izW",
        "colab": {
          "base_uri": "https://localhost:8080/"
        },
        "outputId": "28fc6887-2ea5-4947-c90a-4f7fac6c0b8e"
      },
      "source": [
        "# Uncomment for clonning the repository\n",
        "!git clone https://github.com/sergiorodenas/ml-data.git"
      ],
      "execution_count": 3,
      "outputs": [
        {
          "output_type": "stream",
          "text": [
            "Cloning into 'ml-data'...\n",
            "remote: Enumerating objects: 13236, done.\u001b[K\n",
            "remote: Total 13236 (delta 0), reused 0 (delta 0), pack-reused 13236\u001b[K\n",
            "Receiving objects: 100% (13236/13236), 64.73 MiB | 35.31 MiB/s, done.\n",
            "Resolving deltas: 100% (84/84), done.\n"
          ],
          "name": "stdout"
        }
      ]
    },
    {
      "cell_type": "code",
      "metadata": {
        "id": "pxZKXv5KyM7T"
      },
      "source": [
        "# Image constants\n",
        "IMAGE_WIDTH=100\n",
        "IMAGE_HEIGHT=100\n",
        "IMAGE_SIZE=(IMAGE_WIDTH, IMAGE_HEIGHT)\n",
        "IMAGE_CHANNELS=3\n",
        "PATH1='./ml-data/helmet-dataset/Train_positive/Train_positive/'\n",
        "PATH2='./ml-data/helmet-dataset/Train_negative/Train_negative/'"
      ],
      "execution_count": 4,
      "outputs": []
    },
    {
      "cell_type": "code",
      "metadata": {
        "id": "wQCi3ERdyM96",
        "colab": {
          "base_uri": "https://localhost:8080/"
        },
        "outputId": "e9afe290-2881-4cee-dfef-2a90947ae14e"
      },
      "source": [
        "# Getting the images\n",
        "filenames_list_yes = []\n",
        "filenames_list_no = []\n",
        "\n",
        "for filename in os.listdir(PATH1):\n",
        "    filenames_list_yes.append(PATH1 + filename)\n",
        "    \n",
        "for filename in os.listdir(PATH2):\n",
        "    filenames_list_no.append(PATH2 + filename)\n",
        "\n",
        "df_yes = pd.DataFrame({\n",
        "    'image': filenames_list_yes,\n",
        "    'category': np.ones(len(filenames_list_yes), str)\n",
        "})\n",
        "df_no = pd.DataFrame({\n",
        "    'image': filenames_list_no,\n",
        "    'category': np.zeros(len(filenames_list_no), str)\n",
        "})\n",
        "print(df_yes.shape, df_no.shape)\n",
        "df = df_yes.append(df_no, ignore_index=True)\n",
        "print(df['image'][0])"
      ],
      "execution_count": 5,
      "outputs": [
        {
          "output_type": "stream",
          "text": [
            "(5160, 2) (6580, 2)\n",
            "./ml-data/helmet-dataset/Train_positive/Train_positive/4325.jpg\n"
          ],
          "name": "stdout"
        }
      ]
    },
    {
      "cell_type": "markdown",
      "metadata": {
        "id": "YGKxg5LT2kHD"
      },
      "source": [
        "## 2. Training data"
      ]
    },
    {
      "cell_type": "code",
      "metadata": {
        "id": "ldR4U_TD2kHD"
      },
      "source": [
        "# Hyperparameters\n",
        "BATCH_SIZE=32\n",
        "EPOCHS=20"
      ],
      "execution_count": 6,
      "outputs": []
    },
    {
      "cell_type": "code",
      "metadata": {
        "id": "FGJ3njNpyNA4",
        "colab": {
          "base_uri": "https://localhost:8080/"
        },
        "outputId": "c057e029-2d57-4adf-c157-cac868bb8e7a"
      },
      "source": [
        "#split data into train and valid set\n",
        "train_df, valid_df = train_test_split(df, test_size = 0.15, stratify = df['category'], random_state = 3)\n",
        "train_df = train_df.reset_index(drop=True)\n",
        "valid_df = valid_df.reset_index(drop=True)\n",
        "total_train = train_df.shape[0]\n",
        "total_valid = valid_df.shape[0]\n",
        "print(train_df.shape)\n",
        "print(valid_df.shape)"
      ],
      "execution_count": 7,
      "outputs": [
        {
          "output_type": "stream",
          "text": [
            "(9979, 2)\n",
            "(1761, 2)\n"
          ],
          "name": "stdout"
        }
      ]
    },
    {
      "cell_type": "code",
      "metadata": {
        "id": "tD1sYQF-yYFW",
        "colab": {
          "base_uri": "https://localhost:8080/"
        },
        "outputId": "37bbc7aa-ccda-4355-cf3b-8e72f0ec6d3b"
      },
      "source": [
        "#We'll perform individually on train and validation set.\n",
        "train_datagen = ImageDataGenerator(\n",
        "                                   rescale=1./255,\n",
        "                                   )\n",
        "\n",
        "train_gen = train_datagen.flow_from_dataframe(train_df,\n",
        "                                              x_col = 'image',\n",
        "                                              y_col = 'category',\n",
        "                                              target_size = IMAGE_SIZE,\n",
        "                                              batch_size = BATCH_SIZE,\n",
        "                                              class_mode='binary',\n",
        "                                              validate_filenames=False\n",
        "                                             )\n",
        "\n",
        "#we do not augment validation data.\n",
        "validation_datagen = ImageDataGenerator(rescale=1./255)\n",
        "valid_gen = validation_datagen.flow_from_dataframe(\n",
        "    valid_df, \n",
        "    x_col=\"image\",\n",
        "    y_col=\"category\",\n",
        "    target_size=IMAGE_SIZE,\n",
        "    class_mode='binary',\n",
        "    batch_size=BATCH_SIZE,\n",
        "    validate_filenames=False\n",
        ")"
      ],
      "execution_count": 8,
      "outputs": [
        {
          "output_type": "stream",
          "text": [
            "Found 9979 non-validated image filenames belonging to 2 classes.\n",
            "Found 1761 non-validated image filenames belonging to 2 classes.\n"
          ],
          "name": "stdout"
        }
      ]
    },
    {
      "cell_type": "code",
      "metadata": {
        "id": "IFtLlcADyY8h",
        "outputId": "ba375aea-17fd-4535-eb29-c458ffd95861",
        "colab": {
          "base_uri": "https://localhost:8080/"
        }
      },
      "source": [
        "model = Sequential()\n",
        "model.add(Conv2D(64, (2,2), activation='relu', input_shape=(IMAGE_WIDTH, IMAGE_HEIGHT, IMAGE_CHANNELS)))\n",
        "model.add(Conv2D(32, (3,3), activation='relu'))\n",
        "model.add(Dropout(0.2))\n",
        "model.add(Conv2D(16, (3,3), activation='relu'))\n",
        "model.add(MaxPooling2D((2,2)))\n",
        "model.add(Dropout(0.1))\n",
        "model.add(Conv2D(8, (3,3), activation='relu'))\n",
        "model.add(MaxPooling2D((2,2)))\n",
        "model.add(Dropout(0.1))\n",
        "model.add(Flatten())\n",
        "model.add(Dense(256, activation='relu'))\n",
        "model.add(Dense(1, activation='sigmoid'))\n",
        "model.compile(loss='binary_crossentropy', optimizer='adam', metrics=['acc', tf.keras.metrics.Precision()])\n"
      ],
      "execution_count": 9,
      "outputs": [
        {
          "output_type": "stream",
          "text": [
            "WARNING:tensorflow:From /usr/local/lib/python3.6/dist-packages/tensorflow_core/python/ops/resource_variable_ops.py:1630: calling BaseResourceVariable.__init__ (from tensorflow.python.ops.resource_variable_ops) with constraint is deprecated and will be removed in a future version.\n",
            "Instructions for updating:\n",
            "If using Keras pass *_constraint arguments to layers.\n",
            "WARNING:tensorflow:From /usr/local/lib/python3.6/dist-packages/tensorflow_core/python/ops/nn_impl.py:183: where (from tensorflow.python.ops.array_ops) is deprecated and will be removed in a future version.\n",
            "Instructions for updating:\n",
            "Use tf.where in 2.0, which has the same broadcast rule as np.where\n"
          ],
          "name": "stdout"
        }
      ]
    },
    {
      "cell_type": "code",
      "metadata": {
        "id": "eMNO2GhJye6l",
        "colab": {
          "base_uri": "https://localhost:8080/"
        },
        "outputId": "35e281e0-ba51-4453-b807-e4fc385ac58d"
      },
      "source": [
        "model.summary()"
      ],
      "execution_count": 10,
      "outputs": [
        {
          "output_type": "stream",
          "text": [
            "Model: \"sequential\"\n",
            "_________________________________________________________________\n",
            "Layer (type)                 Output Shape              Param #   \n",
            "=================================================================\n",
            "conv2d (Conv2D)              (None, 99, 99, 64)        832       \n",
            "_________________________________________________________________\n",
            "conv2d_1 (Conv2D)            (None, 97, 97, 32)        18464     \n",
            "_________________________________________________________________\n",
            "dropout (Dropout)            (None, 97, 97, 32)        0         \n",
            "_________________________________________________________________\n",
            "conv2d_2 (Conv2D)            (None, 95, 95, 16)        4624      \n",
            "_________________________________________________________________\n",
            "max_pooling2d (MaxPooling2D) (None, 47, 47, 16)        0         \n",
            "_________________________________________________________________\n",
            "dropout_1 (Dropout)          (None, 47, 47, 16)        0         \n",
            "_________________________________________________________________\n",
            "conv2d_3 (Conv2D)            (None, 45, 45, 8)         1160      \n",
            "_________________________________________________________________\n",
            "max_pooling2d_1 (MaxPooling2 (None, 22, 22, 8)         0         \n",
            "_________________________________________________________________\n",
            "dropout_2 (Dropout)          (None, 22, 22, 8)         0         \n",
            "_________________________________________________________________\n",
            "flatten (Flatten)            (None, 3872)              0         \n",
            "_________________________________________________________________\n",
            "dense (Dense)                (None, 256)               991488    \n",
            "_________________________________________________________________\n",
            "dense_1 (Dense)              (None, 1)                 257       \n",
            "=================================================================\n",
            "Total params: 1,016,825\n",
            "Trainable params: 1,016,825\n",
            "Non-trainable params: 0\n",
            "_________________________________________________________________\n"
          ],
          "name": "stdout"
        }
      ]
    },
    {
      "cell_type": "markdown",
      "metadata": {
        "id": "syx8YWEp2kHD"
      },
      "source": [
        "## 3. Train the model"
      ]
    },
    {
      "cell_type": "code",
      "metadata": {
        "id": "LDqX4hWTye8i"
      },
      "source": [
        "learning_rate_reduction = ReduceLROnPlateau(monitor='val_acc', \n",
        "                                            patience=2, \n",
        "                                            verbose=1, \n",
        "                                            factor=0.5, \n",
        "                                            min_lr=0.00001)\n",
        "checkpointer = ModelCheckpoint(filepath = 'mask.weights.best.hdf5', save_best_only = True, save_weights_only = True)\n",
        "early_stop = EarlyStopping(monitor='loss', patience=3)\n",
        "callbacks = [learning_rate_reduction, checkpointer, early_stop]"
      ],
      "execution_count": 11,
      "outputs": []
    },
    {
      "cell_type": "code",
      "metadata": {
        "id": "BqURES9vye_j",
        "colab": {
          "base_uri": "https://localhost:8080/"
        },
        "outputId": "146edf92-2014-4b84-8a36-30187f9f99a7"
      },
      "source": [
        "start = time.time()\n",
        "\n",
        "model.fit_generator(train_gen,\n",
        "                    epochs = EPOCHS,\n",
        "                    validation_data = valid_gen,\n",
        "                    validation_steps=total_valid//BATCH_SIZE,\n",
        "                    steps_per_epoch=total_train//BATCH_SIZE,\n",
        "                    callbacks = callbacks)\n",
        "\n",
        "endTime = time.time() - start\n",
        "print(\"Total time: \", endTime, \"seconds\")"
      ],
      "execution_count": 12,
      "outputs": [
        {
          "output_type": "stream",
          "text": [
            "Epoch 1/20\n",
            "309/311 [============================>.] - ETA: 0s - loss: 0.1659 - acc: 0.9335 - precision: 0.9147Epoch 1/20\n",
            "311/311 [==============================] - 21s 67ms/step - loss: 0.1657 - acc: 0.9336 - precision: 0.9150 - val_loss: 0.1219 - val_acc: 0.9636 - val_precision: 0.9539\n",
            "Epoch 2/20\n",
            "309/311 [============================>.] - ETA: 0s - loss: 0.0996 - acc: 0.9654 - precision: 0.9585Epoch 1/20\n",
            "311/311 [==============================] - 13s 43ms/step - loss: 0.0991 - acc: 0.9656 - precision: 0.9588 - val_loss: 0.0867 - val_acc: 0.9682 - val_precision: 0.9799\n",
            "Epoch 3/20\n",
            "309/311 [============================>.] - ETA: 0s - loss: 0.0698 - acc: 0.9724 - precision: 0.9661Epoch 1/20\n",
            "311/311 [==============================] - 13s 43ms/step - loss: 0.0697 - acc: 0.9724 - precision: 0.9659 - val_loss: 0.0942 - val_acc: 0.9653 - val_precision: 0.9759\n",
            "Epoch 4/20\n",
            "310/311 [============================>.] - ETA: 0s - loss: 0.0724 - acc: 0.9748 - precision: 0.9707Epoch 1/20\n",
            "311/311 [==============================] - 13s 43ms/step - loss: 0.0723 - acc: 0.9748 - precision: 0.9708 - val_loss: 0.0639 - val_acc: 0.9767 - val_precision: 0.9633\n",
            "Epoch 5/20\n",
            "310/311 [============================>.] - ETA: 0s - loss: 0.0507 - acc: 0.9814 - precision: 0.9771Epoch 1/20\n",
            "311/311 [==============================] - 13s 43ms/step - loss: 0.0511 - acc: 0.9813 - precision: 0.9769 - val_loss: 0.0533 - val_acc: 0.9841 - val_precision: 0.9831\n",
            "Epoch 6/20\n",
            "309/311 [============================>.] - ETA: 0s - loss: 0.0537 - acc: 0.9809 - precision: 0.9762Epoch 1/20\n",
            "311/311 [==============================] - 14s 44ms/step - loss: 0.0537 - acc: 0.9808 - precision: 0.9764 - val_loss: 0.0818 - val_acc: 0.9659 - val_precision: 0.9945\n",
            "Epoch 7/20\n",
            "309/311 [============================>.] - ETA: 0s - loss: 0.0473 - acc: 0.9829 - precision: 0.9804Epoch 1/20\n",
            " 55/311 [====>.........................] - ETA: 8s - loss: 0.0900 - acc: 0.9636 - precision: 0.9903\n",
            "Epoch 00007: ReduceLROnPlateau reducing learning rate to 0.0005000000237487257.\n",
            "311/311 [==============================] - 14s 44ms/step - loss: 0.0474 - acc: 0.9829 - precision: 0.9805 - val_loss: 0.0900 - val_acc: 0.9636 - val_precision: 0.9903\n",
            "Epoch 8/20\n",
            "310/311 [============================>.] - ETA: 0s - loss: 0.0245 - acc: 0.9905 - precision: 0.9877Epoch 1/20\n",
            "311/311 [==============================] - 14s 44ms/step - loss: 0.0244 - acc: 0.9905 - precision: 0.9877 - val_loss: 0.0519 - val_acc: 0.9818 - val_precision: 0.9894\n",
            "Epoch 9/20\n",
            "309/311 [============================>.] - ETA: 0s - loss: 0.0243 - acc: 0.9911 - precision: 0.9881Epoch 1/20\n",
            "311/311 [==============================] - 13s 43ms/step - loss: 0.0243 - acc: 0.9911 - precision: 0.9879 - val_loss: 0.0444 - val_acc: 0.9847 - val_precision: 0.9807\n",
            "Epoch 10/20\n",
            "310/311 [============================>.] - ETA: 0s - loss: 0.0207 - acc: 0.9926 - precision: 0.9908Epoch 1/20\n",
            "311/311 [==============================] - 14s 44ms/step - loss: 0.0207 - acc: 0.9927 - precision: 0.9909 - val_loss: 0.0443 - val_acc: 0.9852 - val_precision: 0.9857\n",
            "Epoch 11/20\n",
            "309/311 [============================>.] - ETA: 0s - loss: 0.0155 - acc: 0.9945 - precision: 0.9940Epoch 1/20\n",
            "311/311 [==============================] - 14s 44ms/step - loss: 0.0157 - acc: 0.9945 - precision: 0.9938 - val_loss: 0.0499 - val_acc: 0.9869 - val_precision: 0.9870\n",
            "Epoch 12/20\n",
            "309/311 [============================>.] - ETA: 0s - loss: 0.0182 - acc: 0.9940 - precision: 0.9938Epoch 1/20\n",
            "311/311 [==============================] - 14s 44ms/step - loss: 0.0181 - acc: 0.9941 - precision: 0.9938 - val_loss: 0.0461 - val_acc: 0.9852 - val_precision: 0.9832\n",
            "Epoch 13/20\n",
            "309/311 [============================>.] - ETA: 0s - loss: 0.0167 - acc: 0.9949 - precision: 0.9936Epoch 1/20\n",
            " 54/311 [====>.........................] - ETA: 8s - loss: 0.0497 - acc: 0.9809 - precision: 0.9892\n",
            "Epoch 00013: ReduceLROnPlateau reducing learning rate to 0.0002500000118743628.\n",
            "311/311 [==============================] - 13s 43ms/step - loss: 0.0167 - acc: 0.9950 - precision: 0.9936 - val_loss: 0.0488 - val_acc: 0.9812 - val_precision: 0.9894\n",
            "Epoch 14/20\n",
            "310/311 [============================>.] - ETA: 0s - loss: 0.0098 - acc: 0.9969 - precision: 0.9963Epoch 1/20\n",
            "311/311 [==============================] - 14s 43ms/step - loss: 0.0098 - acc: 0.9969 - precision: 0.9963 - val_loss: 0.0402 - val_acc: 0.9858 - val_precision: 0.9895\n",
            "Epoch 15/20\n",
            "309/311 [============================>.] - ETA: 0s - loss: 0.0058 - acc: 0.9982 - precision: 0.9977Epoch 1/20\n",
            " 54/311 [====>.........................] - ETA: 8s - loss: 0.0421 - acc: 0.9861 - precision: 0.9894\n",
            "Epoch 00015: ReduceLROnPlateau reducing learning rate to 0.0001250000059371814.\n",
            "311/311 [==============================] - 14s 43ms/step - loss: 0.0058 - acc: 0.9982 - precision: 0.9977 - val_loss: 0.0413 - val_acc: 0.9864 - val_precision: 0.9895\n",
            "Epoch 16/20\n",
            "309/311 [============================>.] - ETA: 0s - loss: 0.0033 - acc: 0.9994 - precision: 0.9993Epoch 1/20\n",
            "311/311 [==============================] - 14s 45ms/step - loss: 0.0032 - acc: 0.9994 - precision: 0.9993 - val_loss: 0.0385 - val_acc: 0.9875 - val_precision: 0.9870\n",
            "Epoch 17/20\n",
            "310/311 [============================>.] - ETA: 0s - loss: 0.0023 - acc: 0.9995 - precision: 0.9993Epoch 1/20\n",
            "311/311 [==============================] - 13s 43ms/step - loss: 0.0023 - acc: 0.9995 - precision: 0.9993 - val_loss: 0.0437 - val_acc: 0.9881 - val_precision: 0.9870\n",
            "Epoch 18/20\n",
            "310/311 [============================>.] - ETA: 0s - loss: 0.0035 - acc: 0.9994 - precision: 0.9995Epoch 1/20\n",
            "311/311 [==============================] - 13s 43ms/step - loss: 0.0035 - acc: 0.9994 - precision: 0.9995 - val_loss: 0.0425 - val_acc: 0.9875 - val_precision: 0.9845\n",
            "Epoch 19/20\n",
            "310/311 [============================>.] - ETA: 0s - loss: 0.0028 - acc: 0.9995 - precision: 0.9991Epoch 1/20\n",
            " 55/311 [====>.........................] - ETA: 8s - loss: 0.0475 - acc: 0.9875 - precision: 0.9921\n",
            "Epoch 00019: ReduceLROnPlateau reducing learning rate to 6.25000029685907e-05.\n",
            "311/311 [==============================] - 13s 43ms/step - loss: 0.0029 - acc: 0.9994 - precision: 0.9991 - val_loss: 0.0475 - val_acc: 0.9875 - val_precision: 0.9921\n",
            "Epoch 20/20\n",
            "309/311 [============================>.] - ETA: 0s - loss: 0.0021 - acc: 0.9995 - precision: 0.9993Epoch 1/20\n",
            "311/311 [==============================] - 14s 44ms/step - loss: 0.0020 - acc: 0.9995 - precision: 0.9993 - val_loss: 0.0429 - val_acc: 0.9886 - val_precision: 0.9883\n",
            "Total time:  279.71854853630066 seconds\n"
          ],
          "name": "stdout"
        }
      ]
    },
    {
      "cell_type": "code",
      "metadata": {
        "id": "jDcAQxo3ynRp",
        "colab": {
          "base_uri": "https://localhost:8080/",
          "height": 778
        },
        "outputId": "027e4e66-bd87-4b7e-82a4-82ce4ef8c80b"
      },
      "source": [
        "loss = pd.DataFrame(model.history.history)\n",
        "loss[['loss', 'val_loss']].plot()\n",
        "loss[['acc', 'val_acc']].plot()\n",
        "loss[['precision', 'val_precision']].plot()"
      ],
      "execution_count": 14,
      "outputs": [
        {
          "output_type": "execute_result",
          "data": {
            "text/plain": [
              "<matplotlib.axes._subplots.AxesSubplot at 0x7f0dfa10efd0>"
            ]
          },
          "metadata": {
            "tags": []
          },
          "execution_count": 14
        },
        {
          "output_type": "display_data",
          "data": {
            "image/png": "[encoded data removed]",
            "text/plain": [
              "<Figure size 432x288 with 1 Axes>"
            ]
          },
          "metadata": {
            "tags": [],
            "needs_background": "light"
          }
        },
        {
          "output_type": "display_data",
          "data": {
            "image/png": "[encoded data removed]",
            "text/plain": [
              "<Figure size 432x288 with 1 Axes>"
            ]
          },
          "metadata": {
            "tags": [],
            "needs_background": "light"
          }
        },
        {
          "output_type": "display_data",
          "data": {
            "image/png": "[encoded data removed]",
            "text/plain": [
              "<Figure size 432x288 with 1 Axes>"
            ]
          },
          "metadata": {
            "tags": [],
            "needs_background": "light"
          }
        }
      ]
    },
    {
      "cell_type": "code",
      "metadata": {
        "colab": {
          "base_uri": "https://localhost:8080/"
        },
        "id": "FBJt2NeG67b2",
        "outputId": "f8e92895-c09c-449a-d10c-4234500279ad"
      },
      "source": [
        "loss.mean()"
      ],
      "execution_count": 15,
      "outputs": [
        {
          "output_type": "execute_result",
          "data": {
            "text/plain": [
              "loss             0.035424\n",
              "acc              0.987071\n",
              "precision        0.984133\n",
              "val_loss         0.058692\n",
              "val_acc          0.980199\n",
              "val_precision    0.983725\n",
              "lr               0.000553\n",
              "dtype: float64"
            ]
          },
          "metadata": {
            "tags": []
          },
          "execution_count": 15
        }
      ]
    },
    {
      "cell_type": "code",
      "metadata": {
        "colab": {
          "base_uri": "https://localhost:8080/"
        },
        "id": "8fBKEAlA7uYZ",
        "outputId": "bcee3ff7-6ac8-47c1-bdd5-278793846bf7"
      },
      "source": [
        "print(\"Epochs: \", EPOCHS)\n",
        "print(\"Train time: \", endTime, \"seconds\") "
      ],
      "execution_count": 16,
      "outputs": [
        {
          "output_type": "stream",
          "text": [
            "Epochs:  20\n",
            "Train time:  279.71854853630066 seconds\n"
          ],
          "name": "stdout"
        }
      ]
    }
  ]
}