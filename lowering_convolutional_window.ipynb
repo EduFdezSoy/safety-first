{
  "nbformat": 4,
  "nbformat_minor": 0,
  "metadata": {
    "colab": {
      "name": "Hola.ipynb",
      "provenance": [],
      "collapsed_sections": [],
      "toc_visible": true,
      "include_colab_link": true
    },
    "kernelspec": {
      "name": "python3",
      "display_name": "Python 3"
    },
    "accelerator": "GPU"
  },
  "cells": [
    {
      "cell_type": "markdown",
      "metadata": {
        "id": "view-in-github",
        "colab_type": "text"
      },
      "source": [
        "<a href=\"https://colab.research.google.com/github/EduFdezSoy/safety-first/blob/master/lowering_convolutional_window.ipynb\" target=\"_parent\"><img src=\"https://colab.research.google.com/assets/colab-badge.svg\" alt=\"Open In Colab\"/></a>"
      ]
    },
    {
      "cell_type": "markdown",
      "metadata": {
        "id": "0MS0bl_OzJhu"
      },
      "source": [
        "# Safety helmet detector"
      ]
    },
    {
      "cell_type": "markdown",
      "metadata": {
        "id": "ki8M96GzzElM"
      },
      "source": [
        "Source: https://www.kaggle.com/ehddnr301/helmet-classification"
      ]
    },
    {
      "cell_type": "code",
      "metadata": {
        "id": "xOoHKAbJ6eVy",
        "colab": {
          "base_uri": "https://localhost:8080/"
        },
        "outputId": "a51764e3-1b4d-4d8d-8ee3-e15dd3d02a1f"
      },
      "source": [
        "# Uncomment for install tensorflow 1.15.\n",
        "!pip install tensorflow==1.15"
      ],
      "execution_count": 1,
      "outputs": [
        {
          "output_type": "stream",
          "text": [
            "Collecting tensorflow==1.15\n",
            "\u001b[?25l  Downloading https://files.pythonhosted.org/packages/3f/98/5a99af92fb911d7a88a0005ad55005f35b4c1ba8d75fba02df726cd936e6/tensorflow-1.15.0-cp36-cp36m-manylinux2010_x86_64.whl (412.3MB)\n",
            "\u001b[K     |████████████████████████████████| 412.3MB 42kB/s \n",
            "\u001b[?25hCollecting gast==0.2.2\n",
            "  Downloading https://files.pythonhosted.org/packages/4e/35/11749bf99b2d4e3cceb4d55ca22590b0d7c2c62b9de38ac4a4a7f4687421/gast-0.2.2.tar.gz\n",
            "Collecting tensorflow-estimator==1.15.1\n",
            "\u001b[?25l  Downloading https://files.pythonhosted.org/packages/de/62/2ee9cd74c9fa2fa450877847ba560b260f5d0fb70ee0595203082dafcc9d/tensorflow_estimator-1.15.1-py2.py3-none-any.whl (503kB)\n",
            "\u001b[K     |████████████████████████████████| 512kB 46.8MB/s \n",
            "\u001b[?25hRequirement already satisfied: keras-preprocessing>=1.0.5 in /usr/local/lib/python3.6/dist-packages (from tensorflow==1.15) (1.1.2)\n",
            "Requirement already satisfied: absl-py>=0.7.0 in /usr/local/lib/python3.6/dist-packages (from tensorflow==1.15) (0.10.0)\n",
            "Requirement already satisfied: opt-einsum>=2.3.2 in /usr/local/lib/python3.6/dist-packages (from tensorflow==1.15) (3.3.0)\n",
            "Requirement already satisfied: six>=1.10.0 in /usr/local/lib/python3.6/dist-packages (from tensorflow==1.15) (1.15.0)\n",
            "Requirement already satisfied: protobuf>=3.6.1 in /usr/local/lib/python3.6/dist-packages (from tensorflow==1.15) (3.12.4)\n",
            "Requirement already satisfied: astor>=0.6.0 in /usr/local/lib/python3.6/dist-packages (from tensorflow==1.15) (0.8.1)\n",
            "Requirement already satisfied: numpy<2.0,>=1.16.0 in /usr/local/lib/python3.6/dist-packages (from tensorflow==1.15) (1.18.5)\n",
            "Requirement already satisfied: grpcio>=1.8.6 in /usr/local/lib/python3.6/dist-packages (from tensorflow==1.15) (1.33.2)\n",
            "Requirement already satisfied: wheel>=0.26 in /usr/local/lib/python3.6/dist-packages (from tensorflow==1.15) (0.35.1)\n",
            "Requirement already satisfied: termcolor>=1.1.0 in /usr/local/lib/python3.6/dist-packages (from tensorflow==1.15) (1.1.0)\n",
            "Collecting keras-applications>=1.0.8\n",
            "\u001b[?25l  Downloading https://files.pythonhosted.org/packages/71/e3/19762fdfc62877ae9102edf6342d71b28fbfd9dea3d2f96a882ce099b03f/Keras_Applications-1.0.8-py3-none-any.whl (50kB)\n",
            "\u001b[K     |████████████████████████████████| 51kB 7.7MB/s \n",
            "\u001b[?25hCollecting tensorboard<1.16.0,>=1.15.0\n",
            "\u001b[?25l  Downloading https://files.pythonhosted.org/packages/1e/e9/d3d747a97f7188f48aa5eda486907f3b345cd409f0a0850468ba867db246/tensorboard-1.15.0-py3-none-any.whl (3.8MB)\n",
            "\u001b[K     |████████████████████████████████| 3.8MB 48.3MB/s \n",
            "\u001b[?25hRequirement already satisfied: wrapt>=1.11.1 in /usr/local/lib/python3.6/dist-packages (from tensorflow==1.15) (1.12.1)\n",
            "Requirement already satisfied: google-pasta>=0.1.6 in /usr/local/lib/python3.6/dist-packages (from tensorflow==1.15) (0.2.0)\n",
            "Requirement already satisfied: setuptools in /usr/local/lib/python3.6/dist-packages (from protobuf>=3.6.1->tensorflow==1.15) (50.3.2)\n",
            "Requirement already satisfied: h5py in /usr/local/lib/python3.6/dist-packages (from keras-applications>=1.0.8->tensorflow==1.15) (2.10.0)\n",
            "Requirement already satisfied: werkzeug>=0.11.15 in /usr/local/lib/python3.6/dist-packages (from tensorboard<1.16.0,>=1.15.0->tensorflow==1.15) (1.0.1)\n",
            "Requirement already satisfied: markdown>=2.6.8 in /usr/local/lib/python3.6/dist-packages (from tensorboard<1.16.0,>=1.15.0->tensorflow==1.15) (3.3.3)\n",
            "Requirement already satisfied: importlib-metadata; python_version < \"3.8\" in /usr/local/lib/python3.6/dist-packages (from markdown>=2.6.8->tensorboard<1.16.0,>=1.15.0->tensorflow==1.15) (2.0.0)\n",
            "Requirement already satisfied: zipp>=0.5 in /usr/local/lib/python3.6/dist-packages (from importlib-metadata; python_version < \"3.8\"->markdown>=2.6.8->tensorboard<1.16.0,>=1.15.0->tensorflow==1.15) (3.4.0)\n",
            "Building wheels for collected packages: gast\n",
            "  Building wheel for gast (setup.py) ... \u001b[?25l\u001b[?25hdone\n",
            "  Created wheel for gast: filename=gast-0.2.2-cp36-none-any.whl size=7542 sha256=0d95fe8700412b41cd455b03c345326d767f7f8599a98f0d989151e75501c680\n",
            "  Stored in directory: /root/.cache/pip/wheels/5c/2e/7e/a1d4d4fcebe6c381f378ce7743a3ced3699feb89bcfbdadadd\n",
            "Successfully built gast\n",
            "\u001b[31mERROR: tensorflow-probability 0.11.0 has requirement gast>=0.3.2, but you'll have gast 0.2.2 which is incompatible.\u001b[0m\n",
            "Installing collected packages: gast, tensorflow-estimator, keras-applications, tensorboard, tensorflow\n",
            "  Found existing installation: gast 0.3.3\n",
            "    Uninstalling gast-0.3.3:\n",
            "      Successfully uninstalled gast-0.3.3\n",
            "  Found existing installation: tensorflow-estimator 2.3.0\n",
            "    Uninstalling tensorflow-estimator-2.3.0:\n",
            "      Successfully uninstalled tensorflow-estimator-2.3.0\n",
            "  Found existing installation: tensorboard 2.3.0\n",
            "    Uninstalling tensorboard-2.3.0:\n",
            "      Successfully uninstalled tensorboard-2.3.0\n",
            "  Found existing installation: tensorflow 2.3.0\n",
            "    Uninstalling tensorflow-2.3.0:\n",
            "      Successfully uninstalled tensorflow-2.3.0\n",
            "Successfully installed gast-0.2.2 keras-applications-1.0.8 tensorboard-1.15.0 tensorflow-1.15.0 tensorflow-estimator-1.15.1\n"
          ],
          "name": "stdout"
        }
      ]
    },
    {
      "cell_type": "code",
      "metadata": {
        "id": "NtCxUQ1_TmhB",
        "colab": {
          "base_uri": "https://localhost:8080/",
          "height": 35
        },
        "outputId": "be74ca2c-13f2-4523-a937-01b1df71d83b"
      },
      "source": [
        "# Imports\n",
        "import cv2\n",
        "import os\n",
        "import pandas as pd \n",
        "import matplotlib.pyplot as plt\n",
        "import matplotlib.image as mpimg\n",
        "import numpy as np\n",
        "import time\n",
        "from skimage import io, transform\n",
        "from PIL import Image\n",
        "\n",
        "from sklearn.model_selection import train_test_split\n",
        "\n",
        "import tensorflow as tf\n",
        "from tensorflow.keras.callbacks import ReduceLROnPlateau\n",
        "from tensorflow.keras.applications import ResNet152V2\n",
        "from tensorflow.keras.models import Sequential\n",
        "from tensorflow.keras.layers import Dense, Dropout\n",
        "from tensorflow.keras.callbacks import ModelCheckpoint, EarlyStopping\n",
        "from tensorflow.keras.optimizers import Adam, RMSprop\n",
        "from tensorflow.keras.preprocessing.image import ImageDataGenerator\n",
        "\n",
        "# Create model\n",
        "from tensorflow.keras.layers import Conv2D, Flatten, Dense, Activation, BatchNormalization, MaxPooling2D, Dropout\n",
        "# Check Tensorflow version.\n",
        "tf.version.VERSION"
      ],
      "execution_count": 2,
      "outputs": [
        {
          "output_type": "execute_result",
          "data": {
            "application/vnd.google.colaboratory.intrinsic+json": {
              "type": "string"
            },
            "text/plain": [
              "'1.15.0'"
            ]
          },
          "metadata": {
            "tags": []
          },
          "execution_count": 2
        }
      ]
    },
    {
      "cell_type": "markdown",
      "metadata": {
        "id": "LO5VaK6_2kHB"
      },
      "source": [
        "## 1. Loading Data"
      ]
    },
    {
      "cell_type": "code",
      "metadata": {
        "id": "2kwAMq-36izW",
        "colab": {
          "base_uri": "https://localhost:8080/"
        },
        "outputId": "c2f8f8f0-1c00-434d-bdaa-fa39c158c516"
      },
      "source": [
        "# Uncomment for clonning the repository\n",
        "!git clone https://github.com/sergiorodenas/ml-data.git"
      ],
      "execution_count": 3,
      "outputs": [
        {
          "output_type": "stream",
          "text": [
            "Cloning into 'ml-data'...\n",
            "remote: Enumerating objects: 13236, done.\u001b[K\n",
            "remote: Total 13236 (delta 0), reused 0 (delta 0), pack-reused 13236\u001b[K\n",
            "Receiving objects: 100% (13236/13236), 64.73 MiB | 33.41 MiB/s, done.\n",
            "Resolving deltas: 100% (84/84), done.\n"
          ],
          "name": "stdout"
        }
      ]
    },
    {
      "cell_type": "code",
      "metadata": {
        "id": "pxZKXv5KyM7T"
      },
      "source": [
        "# Image constants\n",
        "IMAGE_WIDTH=100\n",
        "IMAGE_HEIGHT=100\n",
        "IMAGE_SIZE=(IMAGE_WIDTH, IMAGE_HEIGHT)\n",
        "IMAGE_CHANNELS=3\n",
        "PATH1='./ml-data/helmet-dataset/Train_positive/Train_positive/'\n",
        "PATH2='./ml-data/helmet-dataset/Train_negative/Train_negative/'"
      ],
      "execution_count": 4,
      "outputs": []
    },
    {
      "cell_type": "code",
      "metadata": {
        "id": "wQCi3ERdyM96",
        "colab": {
          "base_uri": "https://localhost:8080/"
        },
        "outputId": "39bfe0a3-cc87-41aa-87fc-8b7610c059b9"
      },
      "source": [
        "# Getting the images\n",
        "filenames_list_yes = []\n",
        "filenames_list_no = []\n",
        "\n",
        "for filename in os.listdir(PATH1):\n",
        "    filenames_list_yes.append(PATH1 + filename)\n",
        "    \n",
        "for filename in os.listdir(PATH2):\n",
        "    filenames_list_no.append(PATH2 + filename)\n",
        "\n",
        "df_yes = pd.DataFrame({\n",
        "    'image': filenames_list_yes,\n",
        "    'category': np.ones(len(filenames_list_yes), str)\n",
        "})\n",
        "df_no = pd.DataFrame({\n",
        "    'image': filenames_list_no,\n",
        "    'category': np.zeros(len(filenames_list_no), str)\n",
        "})\n",
        "print(df_yes.shape, df_no.shape)\n",
        "df = df_yes.append(df_no, ignore_index=True)\n",
        "print(df['image'][0])"
      ],
      "execution_count": 5,
      "outputs": [
        {
          "output_type": "stream",
          "text": [
            "(5160, 2) (6580, 2)\n",
            "./ml-data/helmet-dataset/Train_positive/Train_positive/1824.jpg\n"
          ],
          "name": "stdout"
        }
      ]
    },
    {
      "cell_type": "markdown",
      "metadata": {
        "id": "YGKxg5LT2kHD"
      },
      "source": [
        "## 2. Training data"
      ]
    },
    {
      "cell_type": "code",
      "metadata": {
        "id": "ldR4U_TD2kHD"
      },
      "source": [
        "# Hyperparameters\n",
        "BATCH_SIZE=32\n",
        "EPOCHS=20"
      ],
      "execution_count": 6,
      "outputs": []
    },
    {
      "cell_type": "code",
      "metadata": {
        "id": "FGJ3njNpyNA4",
        "colab": {
          "base_uri": "https://localhost:8080/"
        },
        "outputId": "73693243-11a6-4f87-b0be-74a38b12f648"
      },
      "source": [
        "#split data into train and valid set\n",
        "train_df, valid_df = train_test_split(df, test_size = 0.15, stratify = df['category'], random_state = 3)\n",
        "train_df = train_df.reset_index(drop=True)\n",
        "valid_df = valid_df.reset_index(drop=True)\n",
        "total_train = train_df.shape[0]\n",
        "total_valid = valid_df.shape[0]\n",
        "print(train_df.shape)\n",
        "print(valid_df.shape)"
      ],
      "execution_count": 7,
      "outputs": [
        {
          "output_type": "stream",
          "text": [
            "(9979, 2)\n",
            "(1761, 2)\n"
          ],
          "name": "stdout"
        }
      ]
    },
    {
      "cell_type": "code",
      "metadata": {
        "id": "tD1sYQF-yYFW",
        "colab": {
          "base_uri": "https://localhost:8080/"
        },
        "outputId": "11cc3034-5ca1-4a43-c67f-f74b25be0d66"
      },
      "source": [
        "#We'll perform individually on train and validation set.\n",
        "train_datagen = ImageDataGenerator(\n",
        "                                   rescale=1./255,\n",
        "                                   )\n",
        "\n",
        "train_gen = train_datagen.flow_from_dataframe(train_df,\n",
        "                                              x_col = 'image',\n",
        "                                              y_col = 'category',\n",
        "                                              target_size = IMAGE_SIZE,\n",
        "                                              batch_size = BATCH_SIZE,\n",
        "                                              class_mode='binary',\n",
        "                                              validate_filenames=False\n",
        "                                             )\n",
        "\n",
        "#we do not augment validation data.\n",
        "validation_datagen = ImageDataGenerator(rescale=1./255)\n",
        "valid_gen = validation_datagen.flow_from_dataframe(\n",
        "    valid_df, \n",
        "    x_col=\"image\",\n",
        "    y_col=\"category\",\n",
        "    target_size=IMAGE_SIZE,\n",
        "    class_mode='binary',\n",
        "    batch_size=BATCH_SIZE,\n",
        "    validate_filenames=False\n",
        ")"
      ],
      "execution_count": 8,
      "outputs": [
        {
          "output_type": "stream",
          "text": [
            "Found 9979 non-validated image filenames belonging to 2 classes.\n",
            "Found 1761 non-validated image filenames belonging to 2 classes.\n"
          ],
          "name": "stdout"
        }
      ]
    },
    {
      "cell_type": "code",
      "metadata": {
        "id": "IFtLlcADyY8h",
        "colab": {
          "base_uri": "https://localhost:8080/"
        },
        "outputId": "b9f8a08f-42f7-4403-930c-fb0fcde31120"
      },
      "source": [
        "model = Sequential()\n",
        "model.add(Conv2D(64, (2,2), activation='relu', input_shape=(IMAGE_WIDTH, IMAGE_HEIGHT, IMAGE_CHANNELS)))\n",
        "model.add(Conv2D(32, (3,3), activation='relu'))\n",
        "model.add(Dropout(0.2))\n",
        "model.add(Conv2D(16, (3,3), activation='relu'))\n",
        "model.add(MaxPooling2D((2,2)))\n",
        "model.add(Dropout(0.1))\n",
        "model.add(Conv2D(8, (3,3), activation='relu'))\n",
        "model.add(MaxPooling2D((2,2)))\n",
        "model.add(Dropout(0.1))\n",
        "model.add(Flatten())\n",
        "model.add(Dense(256, activation='relu'))\n",
        "model.add(Dense(1, activation='sigmoid'))\n",
        "model.compile(loss='binary_crossentropy', optimizer='adam', metrics=['acc', tf.keras.metrics.Precision()])\n"
      ],
      "execution_count": 9,
      "outputs": [
        {
          "output_type": "stream",
          "text": [
            "WARNING:tensorflow:From /usr/local/lib/python3.6/dist-packages/tensorflow_core/python/ops/resource_variable_ops.py:1630: calling BaseResourceVariable.__init__ (from tensorflow.python.ops.resource_variable_ops) with constraint is deprecated and will be removed in a future version.\n",
            "Instructions for updating:\n",
            "If using Keras pass *_constraint arguments to layers.\n",
            "WARNING:tensorflow:From /usr/local/lib/python3.6/dist-packages/tensorflow_core/python/ops/nn_impl.py:183: where (from tensorflow.python.ops.array_ops) is deprecated and will be removed in a future version.\n",
            "Instructions for updating:\n",
            "Use tf.where in 2.0, which has the same broadcast rule as np.where\n"
          ],
          "name": "stdout"
        }
      ]
    },
    {
      "cell_type": "code",
      "metadata": {
        "id": "eMNO2GhJye6l",
        "colab": {
          "base_uri": "https://localhost:8080/"
        },
        "outputId": "ae54b768-3fdf-40a9-ccf7-57b249c96b10"
      },
      "source": [
        "model.summary()"
      ],
      "execution_count": 10,
      "outputs": [
        {
          "output_type": "stream",
          "text": [
            "Model: \"sequential\"\n",
            "_________________________________________________________________\n",
            "Layer (type)                 Output Shape              Param #   \n",
            "=================================================================\n",
            "conv2d (Conv2D)              (None, 99, 99, 64)        832       \n",
            "_________________________________________________________________\n",
            "conv2d_1 (Conv2D)            (None, 97, 97, 32)        18464     \n",
            "_________________________________________________________________\n",
            "dropout (Dropout)            (None, 97, 97, 32)        0         \n",
            "_________________________________________________________________\n",
            "conv2d_2 (Conv2D)            (None, 95, 95, 16)        4624      \n",
            "_________________________________________________________________\n",
            "max_pooling2d (MaxPooling2D) (None, 47, 47, 16)        0         \n",
            "_________________________________________________________________\n",
            "dropout_1 (Dropout)          (None, 47, 47, 16)        0         \n",
            "_________________________________________________________________\n",
            "conv2d_3 (Conv2D)            (None, 45, 45, 8)         1160      \n",
            "_________________________________________________________________\n",
            "max_pooling2d_1 (MaxPooling2 (None, 22, 22, 8)         0         \n",
            "_________________________________________________________________\n",
            "dropout_2 (Dropout)          (None, 22, 22, 8)         0         \n",
            "_________________________________________________________________\n",
            "flatten (Flatten)            (None, 3872)              0         \n",
            "_________________________________________________________________\n",
            "dense (Dense)                (None, 256)               991488    \n",
            "_________________________________________________________________\n",
            "dense_1 (Dense)              (None, 1)                 257       \n",
            "=================================================================\n",
            "Total params: 1,016,825\n",
            "Trainable params: 1,016,825\n",
            "Non-trainable params: 0\n",
            "_________________________________________________________________\n"
          ],
          "name": "stdout"
        }
      ]
    },
    {
      "cell_type": "markdown",
      "metadata": {
        "id": "syx8YWEp2kHD"
      },
      "source": [
        "## 3. Train the model"
      ]
    },
    {
      "cell_type": "code",
      "metadata": {
        "id": "LDqX4hWTye8i"
      },
      "source": [
        "learning_rate_reduction = ReduceLROnPlateau(monitor='val_acc', \n",
        "                                            patience=2, \n",
        "                                            verbose=1, \n",
        "                                            factor=0.5, \n",
        "                                            min_lr=0.00001)\n",
        "checkpointer = ModelCheckpoint(filepath = 'mask.weights.best.hdf5', save_best_only = True, save_weights_only = True)\n",
        "early_stop = EarlyStopping(monitor='loss', patience=3)\n",
        "callbacks = [learning_rate_reduction, checkpointer, early_stop]"
      ],
      "execution_count": 11,
      "outputs": []
    },
    {
      "cell_type": "code",
      "metadata": {
        "id": "BqURES9vye_j",
        "colab": {
          "base_uri": "https://localhost:8080/"
        },
        "outputId": "ac414405-7dc7-42f7-bad9-5bcb102c623e"
      },
      "source": [
        "start = time.time()\n",
        "\n",
        "model.fit_generator(train_gen,\n",
        "                    epochs = EPOCHS,\n",
        "                    validation_data = valid_gen,\n",
        "                    validation_steps=total_valid//BATCH_SIZE,\n",
        "                    steps_per_epoch=total_train//BATCH_SIZE,\n",
        "                    callbacks = callbacks)\n",
        "\n",
        "endTime = time.time() - start\n",
        "print(\"Total time: \", endTime, \"seconds\")"
      ],
      "execution_count": 12,
      "outputs": [
        {
          "output_type": "stream",
          "text": [
            "Epoch 1/20\n",
            "310/311 [============================>.] - ETA: 0s - loss: 0.1796 - acc: 0.9285 - precision: 0.9084Epoch 1/20\n",
            "311/311 [==============================] - 21s 68ms/step - loss: 0.1799 - acc: 0.9285 - precision: 0.9087 - val_loss: 0.1013 - val_acc: 0.9722 - val_precision: 0.9653\n",
            "Epoch 2/20\n",
            "309/311 [============================>.] - ETA: 0s - loss: 0.0821 - acc: 0.9698 - precision: 0.9615Epoch 1/20\n",
            "311/311 [==============================] - 14s 44ms/step - loss: 0.0822 - acc: 0.9697 - precision: 0.9610 - val_loss: 0.1420 - val_acc: 0.9545 - val_precision: 0.9200\n",
            "Epoch 3/20\n",
            "310/311 [============================>.] - ETA: 0s - loss: 0.0680 - acc: 0.9781 - precision: 0.9724Epoch 1/20\n",
            " 54/311 [====>.........................] - ETA: 8s - loss: 0.1145 - acc: 0.9514 - precision: 0.9114\n",
            "Epoch 00003: ReduceLROnPlateau reducing learning rate to 0.0005000000237487257.\n",
            "311/311 [==============================] - 14s 44ms/step - loss: 0.0681 - acc: 0.9781 - precision: 0.9725 - val_loss: 0.1152 - val_acc: 0.9511 - val_precision: 0.9114\n",
            "Epoch 4/20\n",
            "309/311 [============================>.] - ETA: 0s - loss: 0.0470 - acc: 0.9820 - precision: 0.9764Epoch 1/20\n",
            "311/311 [==============================] - 14s 44ms/step - loss: 0.0468 - acc: 0.9820 - precision: 0.9764 - val_loss: 0.0495 - val_acc: 0.9835 - val_precision: 0.9794\n",
            "Epoch 5/20\n",
            "310/311 [============================>.] - ETA: 0s - loss: 0.0398 - acc: 0.9857 - precision: 0.9824Epoch 1/20\n",
            "311/311 [==============================] - 14s 44ms/step - loss: 0.0397 - acc: 0.9857 - precision: 0.9824 - val_loss: 0.0545 - val_acc: 0.9801 - val_precision: 0.9868\n",
            "Epoch 6/20\n",
            "309/311 [============================>.] - ETA: 0s - loss: 0.0377 - acc: 0.9864 - precision: 0.9825Epoch 1/20\n",
            "311/311 [==============================] - 14s 44ms/step - loss: 0.0375 - acc: 0.9865 - precision: 0.9827 - val_loss: 0.0508 - val_acc: 0.9841 - val_precision: 0.9770\n",
            "Epoch 7/20\n",
            "310/311 [============================>.] - ETA: 0s - loss: 0.0301 - acc: 0.9896 - precision: 0.9857Epoch 1/20\n",
            "311/311 [==============================] - 14s 44ms/step - loss: 0.0303 - acc: 0.9895 - precision: 0.9855 - val_loss: 0.0539 - val_acc: 0.9784 - val_precision: 0.9682\n",
            "Epoch 8/20\n",
            "309/311 [============================>.] - ETA: 0s - loss: 0.0268 - acc: 0.9897 - precision: 0.9867Epoch 1/20\n",
            " 55/311 [====>.........................] - ETA: 8s - loss: 0.0524 - acc: 0.9784 - precision: 0.9868\n",
            "Epoch 00008: ReduceLROnPlateau reducing learning rate to 0.0002500000118743628.\n",
            "311/311 [==============================] - 14s 44ms/step - loss: 0.0267 - acc: 0.9897 - precision: 0.9868 - val_loss: 0.0524 - val_acc: 0.9784 - val_precision: 0.9868\n",
            "Epoch 9/20\n",
            "310/311 [============================>.] - ETA: 0s - loss: 0.0163 - acc: 0.9939 - precision: 0.9920Epoch 1/20\n",
            "311/311 [==============================] - 13s 43ms/step - loss: 0.0163 - acc: 0.9940 - precision: 0.9920 - val_loss: 0.0503 - val_acc: 0.9847 - val_precision: 0.9882\n",
            "Epoch 10/20\n",
            "310/311 [============================>.] - ETA: 0s - loss: 0.0127 - acc: 0.9949 - precision: 0.9927Epoch 1/20\n",
            "311/311 [==============================] - 13s 43ms/step - loss: 0.0127 - acc: 0.9949 - precision: 0.9927 - val_loss: 0.0543 - val_acc: 0.9812 - val_precision: 0.9830\n",
            "Epoch 11/20\n",
            "310/311 [============================>.] - ETA: 0s - loss: 0.0125 - acc: 0.9955 - precision: 0.9945Epoch 1/20\n",
            " 54/311 [====>.........................] - ETA: 8s - loss: 0.0498 - acc: 0.9844 - precision: 0.9855\n",
            "Epoch 00011: ReduceLROnPlateau reducing learning rate to 0.0001250000059371814.\n",
            "311/311 [==============================] - 14s 44ms/step - loss: 0.0125 - acc: 0.9955 - precision: 0.9945 - val_loss: 0.0513 - val_acc: 0.9841 - val_precision: 0.9857\n",
            "Epoch 12/20\n",
            "309/311 [============================>.] - ETA: 0s - loss: 0.0069 - acc: 0.9978 - precision: 0.9977Epoch 1/20\n",
            "311/311 [==============================] - 13s 43ms/step - loss: 0.0069 - acc: 0.9978 - precision: 0.9977 - val_loss: 0.0481 - val_acc: 0.9858 - val_precision: 0.9870\n",
            "Epoch 13/20\n",
            "309/311 [============================>.] - ETA: 0s - loss: 0.0078 - acc: 0.9976 - precision: 0.9968Epoch 1/20\n",
            "311/311 [==============================] - 13s 43ms/step - loss: 0.0079 - acc: 0.9975 - precision: 0.9966 - val_loss: 0.0522 - val_acc: 0.9835 - val_precision: 0.9844\n",
            "Epoch 14/20\n",
            "310/311 [============================>.] - ETA: 0s - loss: 0.0054 - acc: 0.9982 - precision: 0.9982Epoch 1/20\n",
            " 54/311 [====>.........................] - ETA: 8s - loss: 0.0504 - acc: 0.9838 - precision: 0.9804\n",
            "Epoch 00014: ReduceLROnPlateau reducing learning rate to 6.25000029685907e-05.\n",
            "311/311 [==============================] - 13s 43ms/step - loss: 0.0054 - acc: 0.9982 - precision: 0.9982 - val_loss: 0.0519 - val_acc: 0.9835 - val_precision: 0.9806\n",
            "Epoch 15/20\n",
            "309/311 [============================>.] - ETA: 0s - loss: 0.0050 - acc: 0.9986 - precision: 0.9982Epoch 1/20\n",
            "311/311 [==============================] - 13s 43ms/step - loss: 0.0050 - acc: 0.9986 - precision: 0.9982 - val_loss: 0.0528 - val_acc: 0.9841 - val_precision: 0.9844\n",
            "Epoch 16/20\n",
            "309/311 [============================>.] - ETA: 0s - loss: 0.0040 - acc: 0.9989 - precision: 0.9986Epoch 1/20\n",
            " 54/311 [====>.........................] - ETA: 8s - loss: 0.0545 - acc: 0.9838 - precision: 0.9867\n",
            "Epoch 00016: ReduceLROnPlateau reducing learning rate to 3.125000148429535e-05.\n",
            "311/311 [==============================] - 13s 43ms/step - loss: 0.0040 - acc: 0.9989 - precision: 0.9986 - val_loss: 0.0563 - val_acc: 0.9835 - val_precision: 0.9869\n",
            "Epoch 17/20\n",
            "310/311 [============================>.] - ETA: 0s - loss: 0.0037 - acc: 0.9987 - precision: 0.9979Epoch 1/20\n",
            "311/311 [==============================] - 13s 43ms/step - loss: 0.0036 - acc: 0.9987 - precision: 0.9980 - val_loss: 0.0553 - val_acc: 0.9847 - val_precision: 0.9869\n",
            "Epoch 18/20\n",
            "310/311 [============================>.] - ETA: 0s - loss: 0.0031 - acc: 0.9993 - precision: 0.9991Epoch 1/20\n",
            " 54/311 [====>.........................] - ETA: 8s - loss: 0.0530 - acc: 0.9850 - precision: 0.9855\n",
            "Epoch 00018: ReduceLROnPlateau reducing learning rate to 1.5625000742147677e-05.\n",
            "311/311 [==============================] - 13s 43ms/step - loss: 0.0031 - acc: 0.9993 - precision: 0.9991 - val_loss: 0.0553 - val_acc: 0.9847 - val_precision: 0.9857\n",
            "Epoch 19/20\n",
            "310/311 [============================>.] - ETA: 0s - loss: 0.0024 - acc: 0.9995 - precision: 0.9993Epoch 1/20\n",
            "311/311 [==============================] - 13s 43ms/step - loss: 0.0024 - acc: 0.9995 - precision: 0.9993 - val_loss: 0.0548 - val_acc: 0.9835 - val_precision: 0.9831\n",
            "Epoch 20/20\n",
            "310/311 [============================>.] - ETA: 0s - loss: 0.0026 - acc: 0.9994 - precision: 0.9991Epoch 1/20\n",
            " 54/311 [====>.........................] - ETA: 8s - loss: 0.0536 - acc: 0.9850 - precision: 0.9855\n",
            "Epoch 00020: ReduceLROnPlateau reducing learning rate to 1e-05.\n",
            "311/311 [==============================] - 13s 43ms/step - loss: 0.0026 - acc: 0.9994 - precision: 0.9991 - val_loss: 0.0560 - val_acc: 0.9847 - val_precision: 0.9857\n",
            "Total time:  279.79741764068604 seconds\n"
          ],
          "name": "stdout"
        }
      ]
    },
    {
      "cell_type": "code",
      "metadata": {
        "id": "jDcAQxo3ynRp",
        "colab": {
          "base_uri": "https://localhost:8080/",
          "height": 778
        },
        "outputId": "68ff54c6-6935-48a5-b4d4-ca33dd2df2e9"
      },
      "source": [
        "loss = pd.DataFrame(model.history.history)\n",
        "loss[['loss', 'val_loss']].plot()\n",
        "loss[['acc', 'val_acc']].plot()\n",
        "loss[['precision', 'val_precision']].plot()"
      ],
      "execution_count": 13,
      "outputs": [
        {
          "output_type": "execute_result",
          "data": {
            "text/plain": [
              "<matplotlib.axes._subplots.AxesSubplot at 0x7f15e6ec76d8>"
            ]
          },
          "metadata": {
            "tags": []
          },
          "execution_count": 13
        },
        {
          "output_type": "display_data",
          "data": {
            "image/png": "[encoded data removed]",
            "text/plain": [
              "<Figure size 432x288 with 1 Axes>"
            ]
          },
          "metadata": {
            "tags": [],
            "needs_background": "light"
          }
        },
        {
          "output_type": "display_data",
          "data": {
            "image/png": "[encoded data removed]",
            "text/plain": [
              "<Figure size 432x288 with 1 Axes>"
            ]
          },
          "metadata": {
            "tags": [],
            "needs_background": "light"
          }
        },
        {
          "output_type": "display_data",
          "data": {
            "image/png": "[encoded data removed]",
            "text/plain": [
              "<Figure size 432x288 with 1 Axes>"
            ]
          },
          "metadata": {
            "tags": [],
            "needs_background": "light"
          }
        }
      ]
    },
    {
      "cell_type": "code",
      "metadata": {
        "colab": {
          "base_uri": "https://localhost:8080/"
        },
        "id": "FBJt2NeG67b2",
        "outputId": "e183abcc-1f73-4f5c-dd4d-b454299f1c38"
      },
      "source": [
        "loss_mean = loss.mean()\n",
        "loss_mean"
      ],
      "execution_count": 17,
      "outputs": [
        {
          "output_type": "execute_result",
          "data": {
            "text/plain": [
              "loss             0.029684\n",
              "acc              0.989102\n",
              "precision        0.985991\n",
              "val_loss         0.062916\n",
              "val_acc          0.979517\n",
              "val_precision    0.975816\n",
              "lr               0.000342\n",
              "dtype: float64"
            ]
          },
          "metadata": {
            "tags": []
          },
          "execution_count": 17
        }
      ]
    },
    {
      "cell_type": "code",
      "metadata": {
        "colab": {
          "base_uri": "https://localhost:8080/"
        },
        "id": "8fBKEAlA7uYZ",
        "outputId": "e082c2b6-8a60-49da-de98-e2c504f7415c"
      },
      "source": [
        "print(\"Epochs: \", EPOCHS)\n",
        "print(\"Train time: \", endTime, \"seconds\") "
      ],
      "execution_count": 15,
      "outputs": [
        {
          "output_type": "stream",
          "text": [
            "Epochs:  20\n",
            "Train time:  279.79741764068604 seconds\n"
          ],
          "name": "stdout"
        }
      ]
    },
    {
      "cell_type": "code",
      "metadata": {
        "id": "8DXIXq4OHA08",
        "outputId": "6b5b7096-6d2a-4002-9a0a-f79533465dc2",
        "colab": {
          "base_uri": "https://localhost:8080/"
        }
      },
      "source": [
        "print(\"| ALGORITMO | {} | {} |  {} |   {} |  {} |      {} | {} |      {} |   {} |     |\".format(loss_mean.acc, loss_mean.loss, loss_mean.val_acc, loss_mean.val_loss, loss_mean.precision, loss_mean.val_precision, loss_mean.lr, len(model.history.epoch), endTime))\n"
      ],
      "execution_count": 18,
      "outputs": [
        {
          "output_type": "stream",
          "text": [
            "| ALGORITMO | 0.9891022354364395 | 0.029684181925849602 |  0.979517039656639 |   0.06291594725548127 |  0.9859909981489181 |      0.9758163005113601 | 0.0003421875162530341 |      20 |   279.79741764068604 |     |\n"
          ],
          "name": "stdout"
        }
      ]
    }
  ]
}