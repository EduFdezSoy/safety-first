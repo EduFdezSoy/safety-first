{
  "nbformat": 4,
  "nbformat_minor": 0,
  "metadata": {
    "colab": {
      "name": "Hola.ipynb",
      "provenance": [],
      "collapsed_sections": [],
      "toc_visible": true,
      "include_colab_link": true
    },
    "kernelspec": {
      "name": "python3",
      "display_name": "Python 3"
    },
    "accelerator": "GPU"
  },
  "cells": [
    {
      "cell_type": "markdown",
      "metadata": {
        "id": "view-in-github",
        "colab_type": "text"
      },
      "source": [
        "<a href=\"https://colab.research.google.com/github/EduFdezSoy/safety-first/blob/master/original_model.ipynb\" target=\"_parent\"><img src=\"https://colab.research.google.com/assets/colab-badge.svg\" alt=\"Open In Colab\"/></a>"
      ]
    },
    {
      "cell_type": "markdown",
      "metadata": {
        "id": "0MS0bl_OzJhu"
      },
      "source": [
        "# Safety helmet detector"
      ]
    },
    {
      "cell_type": "markdown",
      "metadata": {
        "id": "ki8M96GzzElM"
      },
      "source": [
        "Source: https://www.kaggle.com/ehddnr301/helmet-classification"
      ]
    },
    {
      "cell_type": "code",
      "metadata": {
        "id": "xOoHKAbJ6eVy",
        "colab": {
          "base_uri": "https://localhost:8080/"
        },
        "outputId": "b41e7412-ad69-493f-f695-abbd8d2ff6b8"
      },
      "source": [
        "# Uncomment for install tensorflow 1.15.\n",
        "!pip install tensorflow==1.15"
      ],
      "execution_count": 16,
      "outputs": [
        {
          "output_type": "stream",
          "text": [
            "Requirement already satisfied: tensorflow==1.15 in /usr/local/lib/python3.6/dist-packages (1.15.0)\n",
            "Requirement already satisfied: six>=1.10.0 in /usr/local/lib/python3.6/dist-packages (from tensorflow==1.15) (1.15.0)\n",
            "Requirement already satisfied: keras-preprocessing>=1.0.5 in /usr/local/lib/python3.6/dist-packages (from tensorflow==1.15) (1.1.2)\n",
            "Requirement already satisfied: wrapt>=1.11.1 in /usr/local/lib/python3.6/dist-packages (from tensorflow==1.15) (1.12.1)\n",
            "Requirement already satisfied: grpcio>=1.8.6 in /usr/local/lib/python3.6/dist-packages (from tensorflow==1.15) (1.33.2)\n",
            "Requirement already satisfied: wheel>=0.26 in /usr/local/lib/python3.6/dist-packages (from tensorflow==1.15) (0.35.1)\n",
            "Requirement already satisfied: absl-py>=0.7.0 in /usr/local/lib/python3.6/dist-packages (from tensorflow==1.15) (0.10.0)\n",
            "Requirement already satisfied: opt-einsum>=2.3.2 in /usr/local/lib/python3.6/dist-packages (from tensorflow==1.15) (3.3.0)\n",
            "Requirement already satisfied: protobuf>=3.6.1 in /usr/local/lib/python3.6/dist-packages (from tensorflow==1.15) (3.12.4)\n",
            "Requirement already satisfied: google-pasta>=0.1.6 in /usr/local/lib/python3.6/dist-packages (from tensorflow==1.15) (0.2.0)\n",
            "Requirement already satisfied: gast==0.2.2 in /usr/local/lib/python3.6/dist-packages (from tensorflow==1.15) (0.2.2)\n",
            "Requirement already satisfied: astor>=0.6.0 in /usr/local/lib/python3.6/dist-packages (from tensorflow==1.15) (0.8.1)\n",
            "Requirement already satisfied: termcolor>=1.1.0 in /usr/local/lib/python3.6/dist-packages (from tensorflow==1.15) (1.1.0)\n",
            "Requirement already satisfied: keras-applications>=1.0.8 in /usr/local/lib/python3.6/dist-packages (from tensorflow==1.15) (1.0.8)\n",
            "Requirement already satisfied: tensorboard<1.16.0,>=1.15.0 in /usr/local/lib/python3.6/dist-packages (from tensorflow==1.15) (1.15.0)\n",
            "Requirement already satisfied: numpy<2.0,>=1.16.0 in /usr/local/lib/python3.6/dist-packages (from tensorflow==1.15) (1.18.5)\n",
            "Requirement already satisfied: tensorflow-estimator==1.15.1 in /usr/local/lib/python3.6/dist-packages (from tensorflow==1.15) (1.15.1)\n",
            "Requirement already satisfied: setuptools in /usr/local/lib/python3.6/dist-packages (from protobuf>=3.6.1->tensorflow==1.15) (50.3.2)\n",
            "Requirement already satisfied: h5py in /usr/local/lib/python3.6/dist-packages (from keras-applications>=1.0.8->tensorflow==1.15) (2.10.0)\n",
            "Requirement already satisfied: werkzeug>=0.11.15 in /usr/local/lib/python3.6/dist-packages (from tensorboard<1.16.0,>=1.15.0->tensorflow==1.15) (1.0.1)\n",
            "Requirement already satisfied: markdown>=2.6.8 in /usr/local/lib/python3.6/dist-packages (from tensorboard<1.16.0,>=1.15.0->tensorflow==1.15) (3.3.3)\n",
            "Requirement already satisfied: importlib-metadata; python_version < \"3.8\" in /usr/local/lib/python3.6/dist-packages (from markdown>=2.6.8->tensorboard<1.16.0,>=1.15.0->tensorflow==1.15) (2.0.0)\n",
            "Requirement already satisfied: zipp>=0.5 in /usr/local/lib/python3.6/dist-packages (from importlib-metadata; python_version < \"3.8\"->markdown>=2.6.8->tensorboard<1.16.0,>=1.15.0->tensorflow==1.15) (3.4.0)\n"
          ],
          "name": "stdout"
        }
      ]
    },
    {
      "cell_type": "code",
      "metadata": {
        "id": "NtCxUQ1_TmhB",
        "colab": {
          "base_uri": "https://localhost:8080/",
          "height": 35
        },
        "outputId": "d72ceb46-abe2-479b-d534-03c3b5f2fc39"
      },
      "source": [
        "# Imports\n",
        "import cv2\n",
        "import os\n",
        "import pandas as pd \n",
        "import matplotlib.pyplot as plt\n",
        "import matplotlib.image as mpimg\n",
        "import numpy as np\n",
        "import time\n",
        "from skimage import io, transform\n",
        "from PIL import Image\n",
        "\n",
        "from sklearn.model_selection import train_test_split\n",
        "\n",
        "import tensorflow as tf\n",
        "from tensorflow.keras.callbacks import ReduceLROnPlateau\n",
        "from tensorflow.keras.applications import ResNet152V2\n",
        "from tensorflow.keras.models import Sequential\n",
        "from tensorflow.keras.layers import Dense, Dropout\n",
        "from tensorflow.keras.callbacks import ModelCheckpoint, EarlyStopping\n",
        "from tensorflow.keras.optimizers import Adam, RMSprop\n",
        "from tensorflow.keras.preprocessing.image import ImageDataGenerator\n",
        "\n",
        "# Create model\n",
        "from tensorflow.keras.layers import Conv2D, Flatten, Dense, Activation, BatchNormalization, MaxPooling2D, Dropout\n",
        "# Check Tensorflow version.\n",
        "tf.version.VERSION"
      ],
      "execution_count": 17,
      "outputs": [
        {
          "output_type": "execute_result",
          "data": {
            "application/vnd.google.colaboratory.intrinsic+json": {
              "type": "string"
            },
            "text/plain": [
              "'1.15.0'"
            ]
          },
          "metadata": {
            "tags": []
          },
          "execution_count": 17
        }
      ]
    },
    {
      "cell_type": "markdown",
      "metadata": {
        "id": "LO5VaK6_2kHB"
      },
      "source": [
        "## 1. Loading Data"
      ]
    },
    {
      "cell_type": "code",
      "metadata": {
        "id": "2kwAMq-36izW",
        "colab": {
          "base_uri": "https://localhost:8080/"
        },
        "outputId": "bfd5ffcf-814e-481f-f263-d1bcbc051db4"
      },
      "source": [
        "# Uncomment for clonning the repository\n",
        "!git clone https://github.com/sergiorodenas/ml-data.git"
      ],
      "execution_count": 18,
      "outputs": [
        {
          "output_type": "stream",
          "text": [
            "fatal: destination path 'ml-data' already exists and is not an empty directory.\n"
          ],
          "name": "stdout"
        }
      ]
    },
    {
      "cell_type": "code",
      "metadata": {
        "id": "pxZKXv5KyM7T"
      },
      "source": [
        "# Image constants\n",
        "IMAGE_WIDTH=100\n",
        "IMAGE_HEIGHT=100\n",
        "IMAGE_SIZE=(IMAGE_WIDTH, IMAGE_HEIGHT)\n",
        "IMAGE_CHANNELS=3\n",
        "PATH1='./ml-data/helmet-dataset/Train_positive/Train_positive/'\n",
        "PATH2='./ml-data/helmet-dataset/Train_negative/Train_negative/'"
      ],
      "execution_count": 19,
      "outputs": []
    },
    {
      "cell_type": "code",
      "metadata": {
        "id": "wQCi3ERdyM96",
        "colab": {
          "base_uri": "https://localhost:8080/"
        },
        "outputId": "e60a2a9a-f08f-43bb-83db-15d2785f067a"
      },
      "source": [
        "# Getting the images\n",
        "filenames_list_yes = []\n",
        "filenames_list_no = []\n",
        "\n",
        "for filename in os.listdir(PATH1):\n",
        "    filenames_list_yes.append(PATH1 + filename)\n",
        "    \n",
        "for filename in os.listdir(PATH2):\n",
        "    filenames_list_no.append(PATH2 + filename)\n",
        "\n",
        "df_yes = pd.DataFrame({\n",
        "    'image': filenames_list_yes,\n",
        "    'category': np.ones(len(filenames_list_yes), str)\n",
        "})\n",
        "df_no = pd.DataFrame({\n",
        "    'image': filenames_list_no,\n",
        "    'category': np.zeros(len(filenames_list_no), str)\n",
        "})\n",
        "print(df_yes.shape, df_no.shape)\n",
        "df = df_yes.append(df_no, ignore_index=True)\n",
        "print(df['image'][0])"
      ],
      "execution_count": 20,
      "outputs": [
        {
          "output_type": "stream",
          "text": [
            "(5160, 2) (6580, 2)\n",
            "./ml-data/helmet-dataset/Train_positive/Train_positive/4325.jpg\n"
          ],
          "name": "stdout"
        }
      ]
    },
    {
      "cell_type": "markdown",
      "metadata": {
        "id": "YGKxg5LT2kHD"
      },
      "source": [
        "## 2. Training data"
      ]
    },
    {
      "cell_type": "code",
      "metadata": {
        "id": "ldR4U_TD2kHD"
      },
      "source": [
        "# Hyperparameters\n",
        "BATCH_SIZE=32\n",
        "EPOCHS=20"
      ],
      "execution_count": 21,
      "outputs": []
    },
    {
      "cell_type": "code",
      "metadata": {
        "id": "FGJ3njNpyNA4",
        "colab": {
          "base_uri": "https://localhost:8080/"
        },
        "outputId": "269f37a9-41da-48fc-bc3e-2ddc4ffe0912"
      },
      "source": [
        "#split data into train and valid set\n",
        "train_df, valid_df = train_test_split(df, test_size = 0.15, stratify = df['category'], random_state = 3)\n",
        "train_df = train_df.reset_index(drop=True)\n",
        "valid_df = valid_df.reset_index(drop=True)\n",
        "total_train = train_df.shape[0]\n",
        "total_valid = valid_df.shape[0]\n",
        "print(train_df.shape)\n",
        "print(valid_df.shape)"
      ],
      "execution_count": 22,
      "outputs": [
        {
          "output_type": "stream",
          "text": [
            "(9979, 2)\n",
            "(1761, 2)\n"
          ],
          "name": "stdout"
        }
      ]
    },
    {
      "cell_type": "code",
      "metadata": {
        "id": "tD1sYQF-yYFW",
        "colab": {
          "base_uri": "https://localhost:8080/"
        },
        "outputId": "f2bee485-815d-452a-a8bd-a86be8675f45"
      },
      "source": [
        "#We'll perform individually on train and validation set.\n",
        "train_datagen = ImageDataGenerator(\n",
        "                                   rescale=1./255,\n",
        "                                   )\n",
        "\n",
        "train_gen = train_datagen.flow_from_dataframe(train_df,\n",
        "                                              x_col = 'image',\n",
        "                                              y_col = 'category',\n",
        "                                              target_size = IMAGE_SIZE,\n",
        "                                              batch_size = BATCH_SIZE,\n",
        "                                              class_mode='binary',\n",
        "                                              validate_filenames=False\n",
        "                                             )\n",
        "\n",
        "#we do not augment validation data.\n",
        "validation_datagen = ImageDataGenerator(rescale=1./255)\n",
        "valid_gen = validation_datagen.flow_from_dataframe(\n",
        "    valid_df, \n",
        "    x_col=\"image\",\n",
        "    y_col=\"category\",\n",
        "    target_size=IMAGE_SIZE,\n",
        "    class_mode='binary',\n",
        "    batch_size=BATCH_SIZE,\n",
        "    validate_filenames=False\n",
        ")"
      ],
      "execution_count": 23,
      "outputs": [
        {
          "output_type": "stream",
          "text": [
            "Found 9979 non-validated image filenames belonging to 2 classes.\n",
            "Found 1761 non-validated image filenames belonging to 2 classes.\n"
          ],
          "name": "stdout"
        }
      ]
    },
    {
      "cell_type": "code",
      "metadata": {
        "id": "IFtLlcADyY8h"
      },
      "source": [
        "model = Sequential()\n",
        "model.add(Conv2D(64, (3,3), activation='relu', strides=(2,2), input_shape=(IMAGE_WIDTH, IMAGE_HEIGHT, IMAGE_CHANNELS)))\n",
        "model.add(Conv2D(64, (3,3), activation='relu'))\n",
        "model.add(Dropout(0.2))\n",
        "model.add(Conv2D(64, (3,3), activation='relu'))\n",
        "model.add(MaxPooling2D((2,2)))\n",
        "model.add(Dropout(0.2))\n",
        "model.add(Conv2D(64, (3,3), activation='relu'))\n",
        "model.add(MaxPooling2D((2,2)))\n",
        "model.add(Dropout(0.2))\n",
        "model.add(Conv2D(126, (3,3), activation='relu'))\n",
        "model.add(MaxPooling2D((2,2)))\n",
        "model.add(Dropout(0.2))\n",
        "model.add(Conv2D(126, (3,3), activation='relu'))\n",
        "model.add(Dropout(0.3))\n",
        "model.add(Flatten())\n",
        "model.add(Dense(256, activation='relu'))\n",
        "model.add(Dropout(0.3))\n",
        "model.add(Dense(1, activation='sigmoid'))\n",
        "model.compile(loss='binary_crossentropy', optimizer='adam', metrics=['acc', 'Precision'])\n"
      ],
      "execution_count": 24,
      "outputs": []
    },
    {
      "cell_type": "code",
      "metadata": {
        "id": "eMNO2GhJye6l",
        "colab": {
          "base_uri": "https://localhost:8080/"
        },
        "outputId": "50b5aea9-f2a2-4cae-e195-619cdc51daf8"
      },
      "source": [
        "model.summary()"
      ],
      "execution_count": 25,
      "outputs": [
        {
          "output_type": "stream",
          "text": [
            "Model: \"sequential_1\"\n",
            "_________________________________________________________________\n",
            "Layer (type)                 Output Shape              Param #   \n",
            "=================================================================\n",
            "conv2d_2 (Conv2D)            (None, 49, 49, 64)        1792      \n",
            "_________________________________________________________________\n",
            "conv2d_3 (Conv2D)            (None, 47, 47, 64)        36928     \n",
            "_________________________________________________________________\n",
            "dropout_2 (Dropout)          (None, 47, 47, 64)        0         \n",
            "_________________________________________________________________\n",
            "conv2d_4 (Conv2D)            (None, 45, 45, 64)        36928     \n",
            "_________________________________________________________________\n",
            "max_pooling2d (MaxPooling2D) (None, 22, 22, 64)        0         \n",
            "_________________________________________________________________\n",
            "dropout_3 (Dropout)          (None, 22, 22, 64)        0         \n",
            "_________________________________________________________________\n",
            "conv2d_5 (Conv2D)            (None, 20, 20, 64)        36928     \n",
            "_________________________________________________________________\n",
            "max_pooling2d_1 (MaxPooling2 (None, 10, 10, 64)        0         \n",
            "_________________________________________________________________\n",
            "dropout_4 (Dropout)          (None, 10, 10, 64)        0         \n",
            "_________________________________________________________________\n",
            "conv2d_6 (Conv2D)            (None, 8, 8, 126)         72702     \n",
            "_________________________________________________________________\n",
            "max_pooling2d_2 (MaxPooling2 (None, 4, 4, 126)         0         \n",
            "_________________________________________________________________\n",
            "dropout_5 (Dropout)          (None, 4, 4, 126)         0         \n",
            "_________________________________________________________________\n",
            "conv2d_7 (Conv2D)            (None, 2, 2, 126)         143010    \n",
            "_________________________________________________________________\n",
            "dropout_6 (Dropout)          (None, 2, 2, 126)         0         \n",
            "_________________________________________________________________\n",
            "flatten_1 (Flatten)          (None, 504)               0         \n",
            "_________________________________________________________________\n",
            "dense_2 (Dense)              (None, 256)               129280    \n",
            "_________________________________________________________________\n",
            "dropout_7 (Dropout)          (None, 256)               0         \n",
            "_________________________________________________________________\n",
            "dense_3 (Dense)              (None, 1)                 257       \n",
            "=================================================================\n",
            "Total params: 457,825\n",
            "Trainable params: 457,825\n",
            "Non-trainable params: 0\n",
            "_________________________________________________________________\n"
          ],
          "name": "stdout"
        }
      ]
    },
    {
      "cell_type": "markdown",
      "metadata": {
        "id": "syx8YWEp2kHD"
      },
      "source": [
        "## 3. Train the model"
      ]
    },
    {
      "cell_type": "code",
      "metadata": {
        "id": "LDqX4hWTye8i"
      },
      "source": [
        "learning_rate_reduction = ReduceLROnPlateau(monitor='val_acc', \n",
        "                                            patience=2, \n",
        "                                            verbose=1, \n",
        "                                            factor=0.5, \n",
        "                                            min_lr=0.00001)\n",
        "checkpointer = ModelCheckpoint(filepath = 'mask.weights.best.hdf5', save_best_only = True, save_weights_only = True)\n",
        "early_stop = EarlyStopping(monitor='loss', patience=3)\n",
        "callbacks = [learning_rate_reduction, checkpointer, early_stop]"
      ],
      "execution_count": 26,
      "outputs": []
    },
    {
      "cell_type": "code",
      "metadata": {
        "id": "BqURES9vye_j",
        "colab": {
          "base_uri": "https://localhost:8080/"
        },
        "outputId": "7ef2c2f6-1368-42bf-8d72-58a9d0d065c7"
      },
      "source": [
        "start = time.time()\n",
        "\n",
        "model.fit_generator(train_gen,\n",
        "                    epochs = EPOCHS,\n",
        "                    validation_data = valid_gen,\n",
        "                    validation_steps=total_valid//BATCH_SIZE,\n",
        "                    steps_per_epoch=total_train//BATCH_SIZE,\n",
        "                    callbacks = callbacks)\n",
        "\n",
        "endTime = time.time() - start\n",
        "print(\"Total time: \", endTime, \"seconds\")"
      ],
      "execution_count": 27,
      "outputs": [
        {
          "output_type": "stream",
          "text": [
            "Epoch 1/20\n",
            "309/311 [============================>.] - ETA: 0s - loss: 0.2119 - acc: 0.9139 - precision_2: 0.9041Epoch 1/20\n",
            "311/311 [==============================] - 14s 44ms/step - loss: 0.2110 - acc: 0.9143 - precision_2: 0.9043 - val_loss: 0.1455 - val_acc: 0.9369 - val_precision_2: 0.9783\n",
            "Epoch 2/20\n",
            "310/311 [============================>.] - ETA: 0s - loss: 0.1268 - acc: 0.9579 - precision_2: 0.9484Epoch 1/20\n",
            "311/311 [==============================] - 12s 39ms/step - loss: 0.1273 - acc: 0.9577 - precision_2: 0.9481 - val_loss: 0.1146 - val_acc: 0.9659 - val_precision_2: 0.9697\n",
            "Epoch 3/20\n",
            "310/311 [============================>.] - ETA: 0s - loss: 0.1147 - acc: 0.9604 - precision_2: 0.9515Epoch 1/20\n",
            "311/311 [==============================] - 12s 39ms/step - loss: 0.1146 - acc: 0.9604 - precision_2: 0.9515 - val_loss: 0.1457 - val_acc: 0.9375 - val_precision_2: 0.8970\n",
            "Epoch 4/20\n",
            "310/311 [============================>.] - ETA: 0s - loss: 0.0948 - acc: 0.9679 - precision_2: 0.9573Epoch 1/20\n",
            "311/311 [==============================] - 12s 39ms/step - loss: 0.0951 - acc: 0.9677 - precision_2: 0.9572 - val_loss: 0.0803 - val_acc: 0.9722 - val_precision_2: 0.9751\n",
            "Epoch 5/20\n",
            "309/311 [============================>.] - ETA: 0s - loss: 0.0838 - acc: 0.9695 - precision_2: 0.9610Epoch 1/20\n",
            "311/311 [==============================] - 12s 39ms/step - loss: 0.0838 - acc: 0.9696 - precision_2: 0.9610 - val_loss: 0.0633 - val_acc: 0.9795 - val_precision_2: 0.9804\n",
            "Epoch 6/20\n",
            "310/311 [============================>.] - ETA: 0s - loss: 0.0611 - acc: 0.9778 - precision_2: 0.9697Epoch 1/20\n",
            "311/311 [==============================] - 12s 39ms/step - loss: 0.0610 - acc: 0.9779 - precision_2: 0.9698 - val_loss: 0.0673 - val_acc: 0.9767 - val_precision_2: 0.9741\n",
            "Epoch 7/20\n",
            "309/311 [============================>.] - ETA: 0s - loss: 0.0559 - acc: 0.9802 - precision_2: 0.9742Epoch 1/20\n",
            "311/311 [==============================] - 12s 38ms/step - loss: 0.0560 - acc: 0.9801 - precision_2: 0.9739 - val_loss: 0.0425 - val_acc: 0.9858 - val_precision_2: 0.9770\n",
            "Epoch 8/20\n",
            "309/311 [============================>.] - ETA: 0s - loss: 0.0674 - acc: 0.9751 - precision_2: 0.9690Epoch 1/20\n",
            "311/311 [==============================] - 12s 39ms/step - loss: 0.0671 - acc: 0.9753 - precision_2: 0.9692 - val_loss: 0.0565 - val_acc: 0.9830 - val_precision_2: 0.9697\n",
            "Epoch 9/20\n",
            "309/311 [============================>.] - ETA: 0s - loss: 0.0504 - acc: 0.9810 - precision_2: 0.9757Epoch 1/20\n",
            " 54/311 [====>.........................] - ETA: 8s - loss: 0.0444 - acc: 0.9821 - precision_2: 0.9815\n",
            "Epoch 00009: ReduceLROnPlateau reducing learning rate to 0.0005000000237487257.\n",
            "311/311 [==============================] - 12s 39ms/step - loss: 0.0506 - acc: 0.9810 - precision_2: 0.9757 - val_loss: 0.0462 - val_acc: 0.9812 - val_precision_2: 0.9818\n",
            "Epoch 10/20\n",
            "310/311 [============================>.] - ETA: 0s - loss: 0.0356 - acc: 0.9871 - precision_2: 0.9840Epoch 1/20\n",
            "311/311 [==============================] - 12s 39ms/step - loss: 0.0358 - acc: 0.9870 - precision_2: 0.9840 - val_loss: 0.0454 - val_acc: 0.9881 - val_precision_2: 0.9896\n",
            "Epoch 11/20\n",
            "309/311 [============================>.] - ETA: 0s - loss: 0.0299 - acc: 0.9889 - precision_2: 0.9862Epoch 1/20\n",
            "311/311 [==============================] - 12s 39ms/step - loss: 0.0300 - acc: 0.9887 - precision_2: 0.9858 - val_loss: 0.0379 - val_acc: 0.9886 - val_precision_2: 0.9821\n",
            "Epoch 12/20\n",
            "310/311 [============================>.] - ETA: 0s - loss: 0.0266 - acc: 0.9903 - precision_2: 0.9879Epoch 1/20\n",
            "311/311 [==============================] - 12s 39ms/step - loss: 0.0265 - acc: 0.9903 - precision_2: 0.9879 - val_loss: 0.0357 - val_acc: 0.9892 - val_precision_2: 0.9922\n",
            "Epoch 13/20\n",
            "309/311 [============================>.] - ETA: 0s - loss: 0.0260 - acc: 0.9911 - precision_2: 0.9896Epoch 1/20\n",
            "311/311 [==============================] - 12s 39ms/step - loss: 0.0261 - acc: 0.9911 - precision_2: 0.9897 - val_loss: 0.0290 - val_acc: 0.9898 - val_precision_2: 0.9846\n",
            "Epoch 14/20\n",
            "310/311 [============================>.] - ETA: 0s - loss: 0.0222 - acc: 0.9917 - precision_2: 0.9898Epoch 1/20\n",
            "311/311 [==============================] - 12s 39ms/step - loss: 0.0224 - acc: 0.9917 - precision_2: 0.9895 - val_loss: 0.0311 - val_acc: 0.9886 - val_precision_2: 0.9846\n",
            "Epoch 15/20\n",
            "310/311 [============================>.] - ETA: 0s - loss: 0.0230 - acc: 0.9910 - precision_2: 0.9892Epoch 1/20\n",
            " 54/311 [====>.........................] - ETA: 8s - loss: 0.0418 - acc: 0.9878 - precision_2: 0.9755\n",
            "Epoch 00015: ReduceLROnPlateau reducing learning rate to 0.0002500000118743628.\n",
            "311/311 [==============================] - 12s 39ms/step - loss: 0.0230 - acc: 0.9910 - precision_2: 0.9893 - val_loss: 0.0420 - val_acc: 0.9875 - val_precision_2: 0.9747\n",
            "Epoch 16/20\n",
            "310/311 [============================>.] - ETA: 0s - loss: 0.0149 - acc: 0.9946 - precision_2: 0.9940Epoch 1/20\n",
            "311/311 [==============================] - 12s 39ms/step - loss: 0.0149 - acc: 0.9945 - precision_2: 0.9938 - val_loss: 0.0314 - val_acc: 0.9898 - val_precision_2: 0.9871\n",
            "Epoch 17/20\n",
            "309/311 [============================>.] - ETA: 0s - loss: 0.0121 - acc: 0.9959 - precision_2: 0.9952Epoch 1/20\n",
            "311/311 [==============================] - 12s 39ms/step - loss: 0.0122 - acc: 0.9958 - precision_2: 0.9952 - val_loss: 0.0365 - val_acc: 0.9915 - val_precision_2: 0.9909\n",
            "Epoch 18/20\n",
            "310/311 [============================>.] - ETA: 0s - loss: 0.0110 - acc: 0.9962 - precision_2: 0.9952Epoch 1/20\n",
            "311/311 [==============================] - 12s 39ms/step - loss: 0.0109 - acc: 0.9962 - precision_2: 0.9952 - val_loss: 0.0345 - val_acc: 0.9932 - val_precision_2: 0.9910\n",
            "Epoch 19/20\n",
            "310/311 [============================>.] - ETA: 0s - loss: 0.0100 - acc: 0.9963 - precision_2: 0.9963Epoch 1/20\n",
            "311/311 [==============================] - 12s 39ms/step - loss: 0.0099 - acc: 0.9963 - precision_2: 0.9963 - val_loss: 0.0389 - val_acc: 0.9920 - val_precision_2: 0.9948\n",
            "Epoch 20/20\n",
            "310/311 [============================>.] - ETA: 0s - loss: 0.0106 - acc: 0.9956 - precision_2: 0.9948Epoch 1/20\n",
            " 54/311 [====>.........................] - ETA: 8s - loss: 0.0422 - acc: 0.9925 - precision_2: 0.9870\n",
            "Epoch 00020: ReduceLROnPlateau reducing learning rate to 0.0001250000059371814.\n",
            "311/311 [==============================] - 12s 39ms/step - loss: 0.0106 - acc: 0.9956 - precision_2: 0.9948 - val_loss: 0.0416 - val_acc: 0.9926 - val_precision_2: 0.9872\n",
            "Total time:  243.72427463531494 seconds\n"
          ],
          "name": "stdout"
        }
      ]
    },
    {
      "cell_type": "code",
      "metadata": {
        "id": "jDcAQxo3ynRp",
        "colab": {
          "base_uri": "https://localhost:8080/",
          "height": 783
        },
        "outputId": "24fd5c6e-95b7-4e5e-9f12-c09cccdffa4e"
      },
      "source": [
        "loss = pd.DataFrame(model.history.history)\n",
        "loss[['loss', 'val_loss']].plot()\n",
        "loss[['acc', 'val_acc']].plot()\n",
        "loss[['precision_2', 'val_precision_2']].plot()"
      ],
      "execution_count": 28,
      "outputs": [
        {
          "output_type": "execute_result",
          "data": {
            "text/plain": [
              "<matplotlib.axes._subplots.AxesSubplot at 0x7fe24b0519e8>"
            ]
          },
          "metadata": {
            "tags": []
          },
          "execution_count": 28
        },
        {
          "output_type": "display_data",
          "data": {
            "image/png": "[encoded data removed]",
            "text/plain": [
              "<Figure size 432x288 with 1 Axes>"
            ]
          },
          "metadata": {
            "tags": [],
            "needs_background": "light"
          }
        },
        {
          "output_type": "display_data",
          "data": {
            "image/png": "[encoded data removed]",
            "text/plain": [
              "<Figure size 432x288 with 1 Axes>"
            ]
          },
          "metadata": {
            "tags": [],
            "needs_background": "light"
          }
        },
        {
          "output_type": "display_data",
          "data": {
            "image/png": "[encoded data removed]",
            "text/plain": [
              "<Figure size 432x288 with 1 Axes>"
            ]
          },
          "metadata": {
            "tags": [],
            "needs_background": "light"
          }
        }
      ]
    },
    {
      "cell_type": "code",
      "metadata": {
        "colab": {
          "base_uri": "https://localhost:8080/"
        },
        "id": "FBJt2NeG67b2",
        "outputId": "25dced38-c1bc-49b0-ed20-03c5f5039d15"
      },
      "source": [
        "loss_mean = loss.mean()\n",
        "loss_mean"
      ],
      "execution_count": 33,
      "outputs": [
        {
          "output_type": "execute_result",
          "data": {
            "text/plain": [
              "loss               0.054444\n",
              "acc                0.980105\n",
              "precision_2        0.975613\n",
              "val_loss           0.058292\n",
              "val_acc            0.980483\n",
              "val_precision_2    0.978088\n",
              "lr                 0.000663\n",
              "dtype: float64"
            ]
          },
          "metadata": {
            "tags": []
          },
          "execution_count": 33
        }
      ]
    },
    {
      "cell_type": "code",
      "metadata": {
        "colab": {
          "base_uri": "https://localhost:8080/"
        },
        "id": "8fBKEAlA7uYZ",
        "outputId": "c618a817-82a6-466c-cfe1-d6e4233fbe37"
      },
      "source": [
        "print(\"Epochs: \", EPOCHS)\n",
        "print(\"Train time: \", endTime, \"seconds\") "
      ],
      "execution_count": 30,
      "outputs": [
        {
          "output_type": "stream",
          "text": [
            "Epochs:  20\n",
            "Train time:  243.72427463531494 seconds\n"
          ],
          "name": "stdout"
        }
      ]
    },
    {
      "cell_type": "code",
      "metadata": {
        "colab": {
          "base_uri": "https://localhost:8080/"
        },
        "id": "utq5K11xCM0J",
        "outputId": "da9ce4cb-f610-41eb-a75b-2c663c05df1a"
      },
      "source": [
        "print(\"| ALGORITMO | {} | {} |  {} |   {} |  {} |      {} | {} |      {} |   {} |     |\".format(loss_mean.acc, loss_mean.loss, loss_mean.val_acc, loss_mean.val_loss, loss_mean.precision_2, loss_mean.val_precision_2, loss_mean.lr, len(model.history.epoch), endTime))"
      ],
      "execution_count": 44,
      "outputs": [
        {
          "output_type": "stream",
          "text": [
            "| ALGORITMO | 0.9801045596599579 | 0.05444351230031882 |  0.9804829508066177 |   0.05829200801041597 |  0.975613358616829 |      0.9780876249074936 | 0.0006625000314670615 |      20 |   243.72427463531494 |     |\n"
          ],
          "name": "stdout"
        }
      ]
    }
  ]
}