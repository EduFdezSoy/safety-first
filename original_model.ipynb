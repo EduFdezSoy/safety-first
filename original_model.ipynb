{
  "nbformat": 4,
  "nbformat_minor": 0,
  "metadata": {
    "colab": {
      "name": "Hola.ipynb",
      "provenance": [],
      "collapsed_sections": [],
      "toc_visible": true,
      "include_colab_link": true
    },
    "kernelspec": {
      "name": "python3",
      "display_name": "Python 3"
    },
    "accelerator": "GPU"
  },
  "cells": [
    {
      "cell_type": "markdown",
      "metadata": {
        "id": "view-in-github",
        "colab_type": "text"
      },
      "source": [
        "<a href=\"https://colab.research.google.com/github/EduFdezSoy/safety-first/blob/master/original_model.ipynb\" target=\"_parent\"><img src=\"https://colab.research.google.com/assets/colab-badge.svg\" alt=\"Open In Colab\"/></a>"
      ]
    },
    {
      "cell_type": "markdown",
      "metadata": {
        "id": "0MS0bl_OzJhu"
      },
      "source": [
        "# Safety helmet detector"
      ]
    },
    {
      "cell_type": "markdown",
      "metadata": {
        "id": "ki8M96GzzElM"
      },
      "source": [
        "Source: https://www.kaggle.com/ehddnr301/helmet-classification"
      ]
    },
    {
      "cell_type": "code",
      "metadata": {
        "id": "xOoHKAbJ6eVy",
        "colab": {
          "base_uri": "https://localhost:8080/"
        },
        "outputId": "14e8d766-f74f-46a6-81fe-b6081728ee6d"
      },
      "source": [
        "# Uncomment for install tensorflow 1.15.\n",
        "!pip install tensorflow==1.15"
      ],
      "execution_count": 82,
      "outputs": [
        {
          "output_type": "stream",
          "text": [
            "Requirement already satisfied: tensorflow==1.15 in /usr/local/lib/python3.6/dist-packages (1.15.0)\n",
            "Requirement already satisfied: astor>=0.6.0 in /usr/local/lib/python3.6/dist-packages (from tensorflow==1.15) (0.8.1)\n",
            "Requirement already satisfied: numpy<2.0,>=1.16.0 in /usr/local/lib/python3.6/dist-packages (from tensorflow==1.15) (1.18.5)\n",
            "Requirement already satisfied: termcolor>=1.1.0 in /usr/local/lib/python3.6/dist-packages (from tensorflow==1.15) (1.1.0)\n",
            "Requirement already satisfied: grpcio>=1.8.6 in /usr/local/lib/python3.6/dist-packages (from tensorflow==1.15) (1.33.2)\n",
            "Requirement already satisfied: protobuf>=3.6.1 in /usr/local/lib/python3.6/dist-packages (from tensorflow==1.15) (3.12.4)\n",
            "Requirement already satisfied: tensorflow-estimator==1.15.1 in /usr/local/lib/python3.6/dist-packages (from tensorflow==1.15) (1.15.1)\n",
            "Requirement already satisfied: wrapt>=1.11.1 in /usr/local/lib/python3.6/dist-packages (from tensorflow==1.15) (1.12.1)\n",
            "Requirement already satisfied: six>=1.10.0 in /usr/local/lib/python3.6/dist-packages (from tensorflow==1.15) (1.15.0)\n",
            "Requirement already satisfied: keras-applications>=1.0.8 in /usr/local/lib/python3.6/dist-packages (from tensorflow==1.15) (1.0.8)\n",
            "Requirement already satisfied: wheel>=0.26 in /usr/local/lib/python3.6/dist-packages (from tensorflow==1.15) (0.35.1)\n",
            "Requirement already satisfied: google-pasta>=0.1.6 in /usr/local/lib/python3.6/dist-packages (from tensorflow==1.15) (0.2.0)\n",
            "Requirement already satisfied: opt-einsum>=2.3.2 in /usr/local/lib/python3.6/dist-packages (from tensorflow==1.15) (3.3.0)\n",
            "Requirement already satisfied: gast==0.2.2 in /usr/local/lib/python3.6/dist-packages (from tensorflow==1.15) (0.2.2)\n",
            "Requirement already satisfied: absl-py>=0.7.0 in /usr/local/lib/python3.6/dist-packages (from tensorflow==1.15) (0.10.0)\n",
            "Requirement already satisfied: tensorboard<1.16.0,>=1.15.0 in /usr/local/lib/python3.6/dist-packages (from tensorflow==1.15) (1.15.0)\n",
            "Requirement already satisfied: keras-preprocessing>=1.0.5 in /usr/local/lib/python3.6/dist-packages (from tensorflow==1.15) (1.1.2)\n",
            "Requirement already satisfied: setuptools in /usr/local/lib/python3.6/dist-packages (from protobuf>=3.6.1->tensorflow==1.15) (50.3.2)\n",
            "Requirement already satisfied: h5py in /usr/local/lib/python3.6/dist-packages (from keras-applications>=1.0.8->tensorflow==1.15) (2.10.0)\n",
            "Requirement already satisfied: markdown>=2.6.8 in /usr/local/lib/python3.6/dist-packages (from tensorboard<1.16.0,>=1.15.0->tensorflow==1.15) (3.3.3)\n",
            "Requirement already satisfied: werkzeug>=0.11.15 in /usr/local/lib/python3.6/dist-packages (from tensorboard<1.16.0,>=1.15.0->tensorflow==1.15) (1.0.1)\n",
            "Requirement already satisfied: importlib-metadata; python_version < \"3.8\" in /usr/local/lib/python3.6/dist-packages (from markdown>=2.6.8->tensorboard<1.16.0,>=1.15.0->tensorflow==1.15) (2.0.0)\n",
            "Requirement already satisfied: zipp>=0.5 in /usr/local/lib/python3.6/dist-packages (from importlib-metadata; python_version < \"3.8\"->markdown>=2.6.8->tensorboard<1.16.0,>=1.15.0->tensorflow==1.15) (3.4.0)\n"
          ],
          "name": "stdout"
        }
      ]
    },
    {
      "cell_type": "code",
      "metadata": {
        "id": "NtCxUQ1_TmhB",
        "colab": {
          "base_uri": "https://localhost:8080/",
          "height": 35
        },
        "outputId": "704c84d4-80d7-48bd-a574-94a071466bea"
      },
      "source": [
        "# Imports\n",
        "import cv2\n",
        "import os\n",
        "import pandas as pd \n",
        "import matplotlib.pyplot as plt\n",
        "import matplotlib.image as mpimg\n",
        "import numpy as np\n",
        "import time\n",
        "from skimage import io, transform\n",
        "from PIL import Image\n",
        "\n",
        "from sklearn.model_selection import train_test_split\n",
        "\n",
        "import tensorflow as tf\n",
        "from tensorflow.keras.callbacks import ReduceLROnPlateau\n",
        "from tensorflow.keras.applications import ResNet152V2\n",
        "from tensorflow.keras.models import Sequential\n",
        "from tensorflow.keras.layers import Dense, Dropout\n",
        "from tensorflow.keras.callbacks import ModelCheckpoint, EarlyStopping\n",
        "from tensorflow.keras.optimizers import Adam, RMSprop\n",
        "from tensorflow.keras.preprocessing.image import ImageDataGenerator\n",
        "\n",
        "# Create model\n",
        "from tensorflow.keras.layers import Conv2D, Flatten, Dense, Activation, BatchNormalization, MaxPooling2D, Dropout\n",
        "# Check Tensorflow version.\n",
        "tf.version.VERSION"
      ],
      "execution_count": 83,
      "outputs": [
        {
          "output_type": "execute_result",
          "data": {
            "application/vnd.google.colaboratory.intrinsic+json": {
              "type": "string"
            },
            "text/plain": [
              "'1.15.0'"
            ]
          },
          "metadata": {
            "tags": []
          },
          "execution_count": 83
        }
      ]
    },
    {
      "cell_type": "markdown",
      "metadata": {
        "id": "LO5VaK6_2kHB"
      },
      "source": [
        "## 1. Loading Data"
      ]
    },
    {
      "cell_type": "code",
      "metadata": {
        "id": "2kwAMq-36izW",
        "colab": {
          "base_uri": "https://localhost:8080/"
        },
        "outputId": "c58dcbbc-e3de-48f6-bf51-95601a9eb354"
      },
      "source": [
        "# Uncomment for clonning the repository\n",
        "!git clone https://github.com/sergiorodenas/ml-data.git"
      ],
      "execution_count": 84,
      "outputs": [
        {
          "output_type": "stream",
          "text": [
            "fatal: destination path 'ml-data' already exists and is not an empty directory.\n"
          ],
          "name": "stdout"
        }
      ]
    },
    {
      "cell_type": "code",
      "metadata": {
        "id": "pxZKXv5KyM7T"
      },
      "source": [
        "# Image constants\n",
        "IMAGE_WIDTH=100\n",
        "IMAGE_HEIGHT=100\n",
        "IMAGE_SIZE=(IMAGE_WIDTH, IMAGE_HEIGHT)\n",
        "IMAGE_CHANNELS=3\n",
        "PATH1='./ml-data/helmet-dataset/Train_positive/Train_positive/'\n",
        "PATH2='./ml-data/helmet-dataset/Train_negative/Train_negative/'"
      ],
      "execution_count": 85,
      "outputs": []
    },
    {
      "cell_type": "code",
      "metadata": {
        "id": "wQCi3ERdyM96",
        "colab": {
          "base_uri": "https://localhost:8080/"
        },
        "outputId": "1e51009e-b4f4-4d4b-c5d1-b84db5a3b6c0"
      },
      "source": [
        "# Getting the images\n",
        "filenames_list_yes = []\n",
        "filenames_list_no = []\n",
        "\n",
        "for filename in os.listdir(PATH1):\n",
        "    filenames_list_yes.append(PATH1 + filename)\n",
        "    \n",
        "for filename in os.listdir(PATH2):\n",
        "    filenames_list_no.append(PATH2 + filename)\n",
        "\n",
        "df_yes = pd.DataFrame({\n",
        "    'image': filenames_list_yes,\n",
        "    'category': np.ones(len(filenames_list_yes), str)\n",
        "})\n",
        "df_no = pd.DataFrame({\n",
        "    'image': filenames_list_no,\n",
        "    'category': np.zeros(len(filenames_list_no), str)\n",
        "})\n",
        "print(df_yes.shape, df_no.shape)\n",
        "df = df_yes.append(df_no, ignore_index=True)\n",
        "print(df['image'][0])"
      ],
      "execution_count": 86,
      "outputs": [
        {
          "output_type": "stream",
          "text": [
            "(5160, 2) (6580, 2)\n",
            "./ml-data/helmet-dataset/Train_positive/Train_positive/4325.jpg\n"
          ],
          "name": "stdout"
        }
      ]
    },
    {
      "cell_type": "markdown",
      "metadata": {
        "id": "YGKxg5LT2kHD"
      },
      "source": [
        "## 2. Training data"
      ]
    },
    {
      "cell_type": "code",
      "metadata": {
        "id": "ldR4U_TD2kHD"
      },
      "source": [
        "# Hyperparameters\n",
        "BATCH_SIZE=32\n",
        "EPOCHS=20"
      ],
      "execution_count": 87,
      "outputs": []
    },
    {
      "cell_type": "code",
      "metadata": {
        "id": "FGJ3njNpyNA4",
        "colab": {
          "base_uri": "https://localhost:8080/"
        },
        "outputId": "d34bd4c5-155a-4942-dbb6-1b4969051dd7"
      },
      "source": [
        "#split data into train and valid set\n",
        "train_df, valid_df = train_test_split(df, test_size = 0.15, stratify = df['category'], random_state = 3)\n",
        "train_df = train_df.reset_index(drop=True)\n",
        "valid_df = valid_df.reset_index(drop=True)\n",
        "total_train = train_df.shape[0]\n",
        "total_valid = valid_df.shape[0]\n",
        "print(train_df.shape)\n",
        "print(valid_df.shape)"
      ],
      "execution_count": 88,
      "outputs": [
        {
          "output_type": "stream",
          "text": [
            "(9979, 2)\n",
            "(1761, 2)\n"
          ],
          "name": "stdout"
        }
      ]
    },
    {
      "cell_type": "code",
      "metadata": {
        "id": "tD1sYQF-yYFW",
        "colab": {
          "base_uri": "https://localhost:8080/"
        },
        "outputId": "1a9346b3-c838-4e39-b198-736ffb7f04d8"
      },
      "source": [
        "#We'll perform individually on train and validation set.\n",
        "train_datagen = ImageDataGenerator(\n",
        "                                   rescale=1./255,\n",
        "                                   )\n",
        "\n",
        "train_gen = train_datagen.flow_from_dataframe(train_df,\n",
        "                                              x_col = 'image',\n",
        "                                              y_col = 'category',\n",
        "                                              target_size = IMAGE_SIZE,\n",
        "                                              batch_size = BATCH_SIZE,\n",
        "                                              class_mode='binary',\n",
        "                                              validate_filenames=False\n",
        "                                             )\n",
        "\n",
        "#we do not augment validation data.\n",
        "validation_datagen = ImageDataGenerator(rescale=1./255)\n",
        "valid_gen = validation_datagen.flow_from_dataframe(\n",
        "    valid_df, \n",
        "    x_col=\"image\",\n",
        "    y_col=\"category\",\n",
        "    target_size=IMAGE_SIZE,\n",
        "    class_mode='binary',\n",
        "    batch_size=BATCH_SIZE,\n",
        "    validate_filenames=False\n",
        ")"
      ],
      "execution_count": 89,
      "outputs": [
        {
          "output_type": "stream",
          "text": [
            "Found 9979 non-validated image filenames belonging to 2 classes.\n",
            "Found 1761 non-validated image filenames belonging to 2 classes.\n"
          ],
          "name": "stdout"
        }
      ]
    },
    {
      "cell_type": "code",
      "metadata": {
        "id": "IFtLlcADyY8h"
      },
      "source": [
        "model = Sequential()\n",
        "model.add(Conv2D(64, (3,3), activation='relu', strides=(2,2), input_shape=(IMAGE_WIDTH, IMAGE_HEIGHT, IMAGE_CHANNELS)))\n",
        "model.add(Conv2D(64, (3,3), activation='relu'))\n",
        "model.add(Dropout(0.2))\n",
        "model.add(Conv2D(64, (3,3), activation='relu'))\n",
        "model.add(MaxPooling2D((2,2)))\n",
        "model.add(Dropout(0.2))\n",
        "model.add(Conv2D(126, (3,3), activation='relu'))\n",
        "model.add(MaxPooling2D((2,2)))\n",
        "model.add(Dropout(0.2))\n",
        "model.add(Conv2D(126, (3,3), activation='relu'))\n",
        "model.add(Dropout(0.3))\n",
        "model.add(Flatten())\n",
        "model.add(Dense(256, activation='relu'))\n",
        "model.add(Dropout(0.3))\n",
        "model.add(Dense(1, activation='sigmoid'))\n",
        "model.compile(loss='binary_crossentropy', optimizer='adam', metrics=['acc', 'Precision'])\n"
      ],
      "execution_count": 90,
      "outputs": []
    },
    {
      "cell_type": "code",
      "metadata": {
        "id": "eMNO2GhJye6l",
        "colab": {
          "base_uri": "https://localhost:8080/"
        },
        "outputId": "26dc34ce-31aa-4ca7-ba62-9a880d8055d9"
      },
      "source": [
        "model.summary()"
      ],
      "execution_count": 91,
      "outputs": [
        {
          "output_type": "stream",
          "text": [
            "Model: \"sequential_6\"\n",
            "_________________________________________________________________\n",
            "Layer (type)                 Output Shape              Param #   \n",
            "=================================================================\n",
            "conv2d_30 (Conv2D)           (None, 49, 49, 64)        1792      \n",
            "_________________________________________________________________\n",
            "conv2d_31 (Conv2D)           (None, 47, 47, 64)        36928     \n",
            "_________________________________________________________________\n",
            "dropout_30 (Dropout)         (None, 47, 47, 64)        0         \n",
            "_________________________________________________________________\n",
            "conv2d_32 (Conv2D)           (None, 45, 45, 64)        36928     \n",
            "_________________________________________________________________\n",
            "max_pooling2d_12 (MaxPooling (None, 22, 22, 64)        0         \n",
            "_________________________________________________________________\n",
            "dropout_31 (Dropout)         (None, 22, 22, 64)        0         \n",
            "_________________________________________________________________\n",
            "conv2d_33 (Conv2D)           (None, 20, 20, 126)       72702     \n",
            "_________________________________________________________________\n",
            "max_pooling2d_13 (MaxPooling (None, 10, 10, 126)       0         \n",
            "_________________________________________________________________\n",
            "dropout_32 (Dropout)         (None, 10, 10, 126)       0         \n",
            "_________________________________________________________________\n",
            "conv2d_34 (Conv2D)           (None, 8, 8, 126)         143010    \n",
            "_________________________________________________________________\n",
            "dropout_33 (Dropout)         (None, 8, 8, 126)         0         \n",
            "_________________________________________________________________\n",
            "flatten_6 (Flatten)          (None, 8064)              0         \n",
            "_________________________________________________________________\n",
            "dense_12 (Dense)             (None, 256)               2064640   \n",
            "_________________________________________________________________\n",
            "dropout_34 (Dropout)         (None, 256)               0         \n",
            "_________________________________________________________________\n",
            "dense_13 (Dense)             (None, 1)                 257       \n",
            "=================================================================\n",
            "Total params: 2,356,257\n",
            "Trainable params: 2,356,257\n",
            "Non-trainable params: 0\n",
            "_________________________________________________________________\n"
          ],
          "name": "stdout"
        }
      ]
    },
    {
      "cell_type": "markdown",
      "metadata": {
        "id": "syx8YWEp2kHD"
      },
      "source": [
        "## 3. Train the model"
      ]
    },
    {
      "cell_type": "code",
      "metadata": {
        "id": "LDqX4hWTye8i"
      },
      "source": [
        "learning_rate_reduction = ReduceLROnPlateau(monitor='val_acc', \n",
        "                                            patience=2, \n",
        "                                            verbose=1, \n",
        "                                            factor=0.5, \n",
        "                                            min_lr=0.00001)\n",
        "checkpointer = ModelCheckpoint(filepath = 'mask.weights.best.hdf5', save_best_only = True, save_weights_only = True)\n",
        "early_stop = EarlyStopping(monitor='loss', patience=3)\n",
        "callbacks = [learning_rate_reduction, checkpointer, early_stop]"
      ],
      "execution_count": 92,
      "outputs": []
    },
    {
      "cell_type": "code",
      "metadata": {
        "id": "BqURES9vye_j",
        "colab": {
          "base_uri": "https://localhost:8080/"
        },
        "outputId": "e53e9a19-5c7d-4703-b896-6157d710e3a2"
      },
      "source": [
        "start = time.time()\n",
        "\n",
        "model.fit_generator(train_gen,\n",
        "                    epochs = EPOCHS,\n",
        "                    validation_data = valid_gen,\n",
        "                    validation_steps=total_valid//BATCH_SIZE,\n",
        "                    steps_per_epoch=total_train//BATCH_SIZE,\n",
        "                    callbacks = callbacks)\n",
        "\n",
        "endTime = time.time() - start\n",
        "print(\"Total time: \", endTime, \"seconds\")"
      ],
      "execution_count": 93,
      "outputs": [
        {
          "output_type": "stream",
          "text": [
            "Epoch 1/20\n",
            "310/311 [============================>.] - ETA: 0s - loss: 0.1809 - acc: 0.9269 - precision_2: 0.9188Epoch 1/20\n",
            "311/311 [==============================] - 13s 42ms/step - loss: 0.1815 - acc: 0.9268 - precision_2: 0.9189 - val_loss: 0.0909 - val_acc: 0.9670 - val_precision_2: 0.9543\n",
            "Epoch 2/20\n",
            "309/311 [============================>.] - ETA: 0s - loss: 0.1061 - acc: 0.9611 - precision_2: 0.9505Epoch 1/20\n",
            "311/311 [==============================] - 12s 39ms/step - loss: 0.1076 - acc: 0.9610 - precision_2: 0.9508 - val_loss: 0.1145 - val_acc: 0.9528 - val_precision_2: 0.9504\n",
            "Epoch 3/20\n",
            "310/311 [============================>.] - ETA: 0s - loss: 0.0993 - acc: 0.9634 - precision_2: 0.9539Epoch 1/20\n",
            "311/311 [==============================] - 12s 39ms/step - loss: 0.0992 - acc: 0.9633 - precision_2: 0.9541 - val_loss: 0.0861 - val_acc: 0.9727 - val_precision_2: 0.9702\n",
            "Epoch 4/20\n",
            "310/311 [============================>.] - ETA: 0s - loss: 0.0819 - acc: 0.9700 - precision_2: 0.9614Epoch 1/20\n",
            "311/311 [==============================] - 12s 39ms/step - loss: 0.0821 - acc: 0.9699 - precision_2: 0.9610 - val_loss: 0.0647 - val_acc: 0.9756 - val_precision_2: 0.9574\n",
            "Epoch 5/20\n",
            "309/311 [============================>.] - ETA: 0s - loss: 0.0839 - acc: 0.9690 - precision_2: 0.9612Epoch 1/20\n",
            "311/311 [==============================] - 12s 39ms/step - loss: 0.0841 - acc: 0.9688 - precision_2: 0.9610 - val_loss: 0.0815 - val_acc: 0.9727 - val_precision_2: 0.9560\n",
            "Epoch 6/20\n",
            "310/311 [============================>.] - ETA: 0s - loss: 0.0779 - acc: 0.9711 - precision_2: 0.9648Epoch 1/20\n",
            " 55/311 [====>.........................] - ETA: 8s - loss: 0.0763 - acc: 0.9716 - precision_2: 0.9775\n",
            "Epoch 00006: ReduceLROnPlateau reducing learning rate to 0.0005000000237487257.\n",
            "311/311 [==============================] - 12s 40ms/step - loss: 0.0778 - acc: 0.9711 - precision_2: 0.9650 - val_loss: 0.0763 - val_acc: 0.9716 - val_precision_2: 0.9775\n",
            "Epoch 7/20\n",
            "310/311 [============================>.] - ETA: 0s - loss: 0.0450 - acc: 0.9831 - precision_2: 0.9767Epoch 1/20\n",
            "311/311 [==============================] - 12s 39ms/step - loss: 0.0450 - acc: 0.9830 - precision_2: 0.9768 - val_loss: 0.0460 - val_acc: 0.9841 - val_precision_2: 0.9757\n",
            "Epoch 8/20\n",
            "310/311 [============================>.] - ETA: 0s - loss: 0.0390 - acc: 0.9865 - precision_2: 0.9826Epoch 1/20\n",
            "311/311 [==============================] - 12s 39ms/step - loss: 0.0391 - acc: 0.9863 - precision_2: 0.9822 - val_loss: 0.0379 - val_acc: 0.9858 - val_precision_2: 0.9758\n",
            "Epoch 9/20\n",
            "309/311 [============================>.] - ETA: 0s - loss: 0.0426 - acc: 0.9848 - precision_2: 0.9814Epoch 1/20\n",
            "311/311 [==============================] - 12s 39ms/step - loss: 0.0424 - acc: 0.9849 - precision_2: 0.9815 - val_loss: 0.0465 - val_acc: 0.9841 - val_precision_2: 0.9745\n",
            "Epoch 10/20\n",
            "309/311 [============================>.] - ETA: 0s - loss: 0.0365 - acc: 0.9851 - precision_2: 0.9809Epoch 1/20\n",
            " 55/311 [====>.........................] - ETA: 8s - loss: 0.0659 - acc: 0.9767 - precision_2: 0.9575\n",
            "Epoch 00010: ReduceLROnPlateau reducing learning rate to 0.0002500000118743628.\n",
            "311/311 [==============================] - 12s 39ms/step - loss: 0.0364 - acc: 0.9852 - precision_2: 0.9810 - val_loss: 0.0659 - val_acc: 0.9767 - val_precision_2: 0.9575\n",
            "Epoch 11/20\n",
            "309/311 [============================>.] - ETA: 0s - loss: 0.0255 - acc: 0.9896 - precision_2: 0.9876Epoch 1/20\n",
            "311/311 [==============================] - 12s 39ms/step - loss: 0.0254 - acc: 0.9896 - precision_2: 0.9877 - val_loss: 0.0324 - val_acc: 0.9898 - val_precision_2: 0.9896\n",
            "Epoch 12/20\n",
            "310/311 [============================>.] - ETA: 0s - loss: 0.0204 - acc: 0.9916 - precision_2: 0.9892Epoch 1/20\n",
            "311/311 [==============================] - 12s 39ms/step - loss: 0.0203 - acc: 0.9917 - precision_2: 0.9893 - val_loss: 0.0364 - val_acc: 0.9892 - val_precision_2: 0.9858\n",
            "Epoch 13/20\n",
            "309/311 [============================>.] - ETA: 0s - loss: 0.0186 - acc: 0.9931 - precision_2: 0.9915Epoch 1/20\n",
            " 55/311 [====>.........................] - ETA: 8s - loss: 0.0322 - acc: 0.9898 - precision_2: 0.9797\n",
            "Epoch 00013: ReduceLROnPlateau reducing learning rate to 0.0001250000059371814.\n",
            "311/311 [==============================] - 12s 39ms/step - loss: 0.0187 - acc: 0.9931 - precision_2: 0.9913 - val_loss: 0.0322 - val_acc: 0.9898 - val_precision_2: 0.9797\n",
            "Epoch 14/20\n",
            "310/311 [============================>.] - ETA: 0s - loss: 0.0118 - acc: 0.9953 - precision_2: 0.9943Epoch 1/20\n",
            "311/311 [==============================] - 12s 39ms/step - loss: 0.0118 - acc: 0.9953 - precision_2: 0.9943 - val_loss: 0.0287 - val_acc: 0.9909 - val_precision_2: 0.9897\n",
            "Epoch 15/20\n",
            "309/311 [============================>.] - ETA: 0s - loss: 0.0109 - acc: 0.9963 - precision_2: 0.9956Epoch 1/20\n",
            "311/311 [==============================] - 12s 38ms/step - loss: 0.0110 - acc: 0.9962 - precision_2: 0.9954 - val_loss: 0.0355 - val_acc: 0.9881 - val_precision_2: 0.9870\n",
            "Epoch 16/20\n",
            "310/311 [============================>.] - ETA: 0s - loss: 0.0096 - acc: 0.9965 - precision_2: 0.9966Epoch 1/20\n",
            " 53/311 [====>.........................] - ETA: 8s - loss: 0.0375 - acc: 0.9906 - precision_2: 0.9841\n",
            "Epoch 00016: ReduceLROnPlateau reducing learning rate to 6.25000029685907e-05.\n",
            "311/311 [==============================] - 12s 39ms/step - loss: 0.0096 - acc: 0.9965 - precision_2: 0.9966 - val_loss: 0.0362 - val_acc: 0.9909 - val_precision_2: 0.9846\n",
            "Epoch 17/20\n",
            "309/311 [============================>.] - ETA: 0s - loss: 0.0089 - acc: 0.9967 - precision_2: 0.9956Epoch 1/20\n",
            "311/311 [==============================] - 12s 39ms/step - loss: 0.0089 - acc: 0.9967 - precision_2: 0.9957 - val_loss: 0.0396 - val_acc: 0.9903 - val_precision_2: 0.9884\n",
            "Epoch 18/20\n",
            "310/311 [============================>.] - ETA: 0s - loss: 0.0065 - acc: 0.9976 - precision_2: 0.9979Epoch 1/20\n",
            " 55/311 [====>.........................] - ETA: 8s - loss: 0.0388 - acc: 0.9909 - precision_2: 0.9909\n",
            "Epoch 00018: ReduceLROnPlateau reducing learning rate to 3.125000148429535e-05.\n",
            "311/311 [==============================] - 12s 39ms/step - loss: 0.0065 - acc: 0.9976 - precision_2: 0.9979 - val_loss: 0.0388 - val_acc: 0.9909 - val_precision_2: 0.9909\n",
            "Epoch 19/20\n",
            "309/311 [============================>.] - ETA: 0s - loss: 0.0058 - acc: 0.9982 - precision_2: 0.9982Epoch 1/20\n",
            "311/311 [==============================] - 12s 39ms/step - loss: 0.0057 - acc: 0.9982 - precision_2: 0.9982 - val_loss: 0.0350 - val_acc: 0.9915 - val_precision_2: 0.9884\n",
            "Epoch 20/20\n",
            "310/311 [============================>.] - ETA: 0s - loss: 0.0053 - acc: 0.9984 - precision_2: 0.9982Epoch 1/20\n",
            "311/311 [==============================] - 12s 38ms/step - loss: 0.0053 - acc: 0.9984 - precision_2: 0.9982 - val_loss: 0.0322 - val_acc: 0.9926 - val_precision_2: 0.9910\n",
            "Total time:  243.5494418144226 seconds\n"
          ],
          "name": "stdout"
        }
      ]
    },
    {
      "cell_type": "code",
      "metadata": {
        "id": "jDcAQxo3ynRp",
        "colab": {
          "base_uri": "https://localhost:8080/",
          "height": 778
        },
        "outputId": "ee83280a-505f-48bb-eac9-00597878644c"
      },
      "source": [
        "loss = pd.DataFrame(model.history.history)\n",
        "loss[['loss', 'val_loss']].plot()\n",
        "loss[['acc', 'val_acc']].plot()\n",
        "loss[['precision_2', 'val_precision_2']].plot()"
      ],
      "execution_count": 97,
      "outputs": [
        {
          "output_type": "execute_result",
          "data": {
            "text/plain": [
              "<matplotlib.axes._subplots.AxesSubplot at 0x7fd2d1861048>"
            ]
          },
          "metadata": {
            "tags": []
          },
          "execution_count": 97
        },
        {
          "output_type": "display_data",
          "data": {
            "image/png": "[encoded data removed]",
            "text/plain": [
              "<Figure size 432x288 with 1 Axes>"
            ]
          },
          "metadata": {
            "tags": [],
            "needs_background": "light"
          }
        },
        {
          "output_type": "display_data",
          "data": {
            "image/png": "[encoded data removed]",
            "text/plain": [
              "<Figure size 432x288 with 1 Axes>"
            ]
          },
          "metadata": {
            "tags": [],
            "needs_background": "light"
          }
        },
        {
          "output_type": "display_data",
          "data": {
            "image/png": "[encoded data removed]",
            "text/plain": [
              "<Figure size 432x288 with 1 Axes>"
            ]
          },
          "metadata": {
            "tags": [],
            "needs_background": "light"
          }
        }
      ]
    },
    {
      "cell_type": "code",
      "metadata": {
        "colab": {
          "base_uri": "https://localhost:8080/"
        },
        "id": "FBJt2NeG67b2",
        "outputId": "9136c845-4486-455a-f3ff-46f3f40ccd8d"
      },
      "source": [
        "loss.mean()"
      ],
      "execution_count": 98,
      "outputs": [
        {
          "output_type": "execute_result",
          "data": {
            "text/plain": [
              "loss               0.045916\n",
              "acc                0.982683\n",
              "precision_2        0.978846\n",
              "val_loss           0.052862\n",
              "val_acc            0.982358\n",
              "val_precision_2    0.976221\n",
              "lr                 0.000466\n",
              "dtype: float64"
            ]
          },
          "metadata": {
            "tags": []
          },
          "execution_count": 98
        }
      ]
    },
    {
      "cell_type": "code",
      "metadata": {
        "colab": {
          "base_uri": "https://localhost:8080/"
        },
        "id": "8fBKEAlA7uYZ",
        "outputId": "6ceea755-d926-45ab-bc52-7af38b8ed0a0"
      },
      "source": [
        "print(\"Epochs: \", EPOCHS)\n",
        "print(\"Train time: \", endTime, \"seconds\") "
      ],
      "execution_count": 99,
      "outputs": [
        {
          "output_type": "stream",
          "text": [
            "Epochs:  20\n",
            "Train time:  243.5494418144226 seconds\n"
          ],
          "name": "stdout"
        }
      ]
    }
  ]
}