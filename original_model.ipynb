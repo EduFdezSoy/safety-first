{
  "nbformat": 4,
  "nbformat_minor": 0,
  "metadata": {
    "colab": {
      "name": "Hola.ipynb",
      "provenance": [],
      "collapsed_sections": [],
      "toc_visible": true,
      "include_colab_link": true
    },
    "kernelspec": {
      "name": "python3",
      "display_name": "Python 3"
    },
    "accelerator": "GPU"
  },
  "cells": [
    {
      "cell_type": "markdown",
      "metadata": {
        "id": "view-in-github",
        "colab_type": "text"
      },
      "source": [
        "<a href=\"https://colab.research.google.com/github/EduFdezSoy/safety-first/blob/master/original_model.ipynb\" target=\"_parent\"><img src=\"https://colab.research.google.com/assets/colab-badge.svg\" alt=\"Open In Colab\"/></a>"
      ]
    },
    {
      "cell_type": "markdown",
      "metadata": {
        "id": "0MS0bl_OzJhu"
      },
      "source": [
        "# Safety helmet detector"
      ]
    },
    {
      "cell_type": "markdown",
      "metadata": {
        "id": "ki8M96GzzElM"
      },
      "source": [
        "Source: https://www.kaggle.com/ehddnr301/helmet-classification"
      ]
    },
    {
      "cell_type": "code",
      "metadata": {
        "id": "xOoHKAbJ6eVy",
        "colab": {
          "base_uri": "https://localhost:8080/"
        },
        "outputId": "511d199e-12db-4736-b21e-5f5571f050eb"
      },
      "source": [
        "# Uncomment for install tensorflow 1.15.\n",
        "!pip install tensorflow==1.15"
      ],
      "execution_count": 1,
      "outputs": [
        {
          "output_type": "stream",
          "text": [
            "Collecting tensorflow==1.15\n",
            "\u001b[?25l  Downloading https://files.pythonhosted.org/packages/3f/98/5a99af92fb911d7a88a0005ad55005f35b4c1ba8d75fba02df726cd936e6/tensorflow-1.15.0-cp36-cp36m-manylinux2010_x86_64.whl (412.3MB)\n",
            "\u001b[K     |████████████████████████████████| 412.3MB 42kB/s \n",
            "\u001b[?25hRequirement already satisfied: grpcio>=1.8.6 in /usr/local/lib/python3.6/dist-packages (from tensorflow==1.15) (1.33.2)\n",
            "Requirement already satisfied: termcolor>=1.1.0 in /usr/local/lib/python3.6/dist-packages (from tensorflow==1.15) (1.1.0)\n",
            "Collecting keras-applications>=1.0.8\n",
            "\u001b[?25l  Downloading https://files.pythonhosted.org/packages/71/e3/19762fdfc62877ae9102edf6342d71b28fbfd9dea3d2f96a882ce099b03f/Keras_Applications-1.0.8-py3-none-any.whl (50kB)\n",
            "\u001b[K     |████████████████████████████████| 51kB 6.6MB/s \n",
            "\u001b[?25hRequirement already satisfied: keras-preprocessing>=1.0.5 in /usr/local/lib/python3.6/dist-packages (from tensorflow==1.15) (1.1.2)\n",
            "Collecting tensorflow-estimator==1.15.1\n",
            "\u001b[?25l  Downloading https://files.pythonhosted.org/packages/de/62/2ee9cd74c9fa2fa450877847ba560b260f5d0fb70ee0595203082dafcc9d/tensorflow_estimator-1.15.1-py2.py3-none-any.whl (503kB)\n",
            "\u001b[K     |████████████████████████████████| 512kB 53.5MB/s \n",
            "\u001b[?25hRequirement already satisfied: numpy<2.0,>=1.16.0 in /usr/local/lib/python3.6/dist-packages (from tensorflow==1.15) (1.18.5)\n",
            "Requirement already satisfied: opt-einsum>=2.3.2 in /usr/local/lib/python3.6/dist-packages (from tensorflow==1.15) (3.3.0)\n",
            "Requirement already satisfied: wrapt>=1.11.1 in /usr/local/lib/python3.6/dist-packages (from tensorflow==1.15) (1.12.1)\n",
            "Collecting tensorboard<1.16.0,>=1.15.0\n",
            "\u001b[?25l  Downloading https://files.pythonhosted.org/packages/1e/e9/d3d747a97f7188f48aa5eda486907f3b345cd409f0a0850468ba867db246/tensorboard-1.15.0-py3-none-any.whl (3.8MB)\n",
            "\u001b[K     |████████████████████████████████| 3.8MB 48.9MB/s \n",
            "\u001b[?25hCollecting gast==0.2.2\n",
            "  Downloading https://files.pythonhosted.org/packages/4e/35/11749bf99b2d4e3cceb4d55ca22590b0d7c2c62b9de38ac4a4a7f4687421/gast-0.2.2.tar.gz\n",
            "Requirement already satisfied: google-pasta>=0.1.6 in /usr/local/lib/python3.6/dist-packages (from tensorflow==1.15) (0.2.0)\n",
            "Requirement already satisfied: wheel>=0.26 in /usr/local/lib/python3.6/dist-packages (from tensorflow==1.15) (0.35.1)\n",
            "Requirement already satisfied: astor>=0.6.0 in /usr/local/lib/python3.6/dist-packages (from tensorflow==1.15) (0.8.1)\n",
            "Requirement already satisfied: six>=1.10.0 in /usr/local/lib/python3.6/dist-packages (from tensorflow==1.15) (1.15.0)\n",
            "Requirement already satisfied: absl-py>=0.7.0 in /usr/local/lib/python3.6/dist-packages (from tensorflow==1.15) (0.10.0)\n",
            "Requirement already satisfied: protobuf>=3.6.1 in /usr/local/lib/python3.6/dist-packages (from tensorflow==1.15) (3.12.4)\n",
            "Requirement already satisfied: h5py in /usr/local/lib/python3.6/dist-packages (from keras-applications>=1.0.8->tensorflow==1.15) (2.10.0)\n",
            "Requirement already satisfied: markdown>=2.6.8 in /usr/local/lib/python3.6/dist-packages (from tensorboard<1.16.0,>=1.15.0->tensorflow==1.15) (3.3.3)\n",
            "Requirement already satisfied: setuptools>=41.0.0 in /usr/local/lib/python3.6/dist-packages (from tensorboard<1.16.0,>=1.15.0->tensorflow==1.15) (50.3.2)\n",
            "Requirement already satisfied: werkzeug>=0.11.15 in /usr/local/lib/python3.6/dist-packages (from tensorboard<1.16.0,>=1.15.0->tensorflow==1.15) (1.0.1)\n",
            "Requirement already satisfied: importlib-metadata; python_version < \"3.8\" in /usr/local/lib/python3.6/dist-packages (from markdown>=2.6.8->tensorboard<1.16.0,>=1.15.0->tensorflow==1.15) (2.0.0)\n",
            "Requirement already satisfied: zipp>=0.5 in /usr/local/lib/python3.6/dist-packages (from importlib-metadata; python_version < \"3.8\"->markdown>=2.6.8->tensorboard<1.16.0,>=1.15.0->tensorflow==1.15) (3.4.0)\n",
            "Building wheels for collected packages: gast\n",
            "  Building wheel for gast (setup.py) ... \u001b[?25l\u001b[?25hdone\n",
            "  Created wheel for gast: filename=gast-0.2.2-cp36-none-any.whl size=7542 sha256=4f8c82fb772adb2050399afa178d9700fa25498d91849d379fc33595eed84c41\n",
            "  Stored in directory: /root/.cache/pip/wheels/5c/2e/7e/a1d4d4fcebe6c381f378ce7743a3ced3699feb89bcfbdadadd\n",
            "Successfully built gast\n",
            "\u001b[31mERROR: tensorflow-probability 0.11.0 has requirement gast>=0.3.2, but you'll have gast 0.2.2 which is incompatible.\u001b[0m\n",
            "Installing collected packages: keras-applications, tensorflow-estimator, tensorboard, gast, tensorflow\n",
            "  Found existing installation: tensorflow-estimator 2.3.0\n",
            "    Uninstalling tensorflow-estimator-2.3.0:\n",
            "      Successfully uninstalled tensorflow-estimator-2.3.0\n",
            "  Found existing installation: tensorboard 2.3.0\n",
            "    Uninstalling tensorboard-2.3.0:\n",
            "      Successfully uninstalled tensorboard-2.3.0\n",
            "  Found existing installation: gast 0.3.3\n",
            "    Uninstalling gast-0.3.3:\n",
            "      Successfully uninstalled gast-0.3.3\n",
            "  Found existing installation: tensorflow 2.3.0\n",
            "    Uninstalling tensorflow-2.3.0:\n",
            "      Successfully uninstalled tensorflow-2.3.0\n",
            "Successfully installed gast-0.2.2 keras-applications-1.0.8 tensorboard-1.15.0 tensorflow-1.15.0 tensorflow-estimator-1.15.1\n"
          ],
          "name": "stdout"
        }
      ]
    },
    {
      "cell_type": "code",
      "metadata": {
        "id": "NtCxUQ1_TmhB",
        "colab": {
          "base_uri": "https://localhost:8080/",
          "height": 35
        },
        "outputId": "97ebb08e-559c-4938-d055-ede9c989da09"
      },
      "source": [
        "# Imports\n",
        "import cv2\n",
        "import os\n",
        "import pandas as pd \n",
        "import matplotlib.pyplot as plt\n",
        "import matplotlib.image as mpimg\n",
        "import numpy as np\n",
        "import time\n",
        "from skimage import io, transform\n",
        "from PIL import Image\n",
        "\n",
        "from sklearn.model_selection import train_test_split\n",
        "\n",
        "import tensorflow as tf\n",
        "from tensorflow.keras.callbacks import ReduceLROnPlateau\n",
        "from tensorflow.keras.applications import ResNet152V2\n",
        "from tensorflow.keras.models import Sequential\n",
        "from tensorflow.keras.layers import Dense, Dropout\n",
        "from tensorflow.keras.callbacks import ModelCheckpoint, EarlyStopping\n",
        "from tensorflow.keras.optimizers import Adam, RMSprop\n",
        "from tensorflow.keras.preprocessing.image import ImageDataGenerator\n",
        "\n",
        "# Create model\n",
        "from tensorflow.keras.layers import Conv2D, Flatten, Dense, Activation, BatchNormalization, MaxPooling2D, Dropout\n",
        "# Check Tensorflow version.\n",
        "tf.version.VERSION"
      ],
      "execution_count": 2,
      "outputs": [
        {
          "output_type": "execute_result",
          "data": {
            "application/vnd.google.colaboratory.intrinsic+json": {
              "type": "string"
            },
            "text/plain": [
              "'1.15.0'"
            ]
          },
          "metadata": {
            "tags": []
          },
          "execution_count": 2
        }
      ]
    },
    {
      "cell_type": "markdown",
      "metadata": {
        "id": "LO5VaK6_2kHB"
      },
      "source": [
        "## 1. Loading Data"
      ]
    },
    {
      "cell_type": "code",
      "metadata": {
        "id": "2kwAMq-36izW",
        "colab": {
          "base_uri": "https://localhost:8080/"
        },
        "outputId": "3b927c0c-c37c-4e81-82db-ea0675670cb3"
      },
      "source": [
        "# Uncomment for clonning the repository\n",
        "!git clone https://github.com/sergiorodenas/ml-data.git"
      ],
      "execution_count": 3,
      "outputs": [
        {
          "output_type": "stream",
          "text": [
            "Cloning into 'ml-data'...\n",
            "remote: Enumerating objects: 35, done.\u001b[K\n",
            "remote: Counting objects: 100% (35/35), done.\u001b[K\n",
            "remote: Compressing objects: 100% (35/35), done.\u001b[K\n",
            "remote: Total 13271 (delta 2), reused 0 (delta 0), pack-reused 13236\u001b[K\n",
            "Receiving objects: 100% (13271/13271), 67.06 MiB | 12.64 MiB/s, done.\n",
            "Resolving deltas: 100% (86/86), done.\n"
          ],
          "name": "stdout"
        }
      ]
    },
    {
      "cell_type": "code",
      "metadata": {
        "id": "pxZKXv5KyM7T"
      },
      "source": [
        "# Image constants\n",
        "IMAGE_WIDTH=100\n",
        "IMAGE_HEIGHT=100\n",
        "IMAGE_SIZE=(IMAGE_WIDTH, IMAGE_HEIGHT)\n",
        "IMAGE_CHANNELS=3\n",
        "PATH1='./ml-data/helmet-dataset/Train_positive/Train_positive/'\n",
        "PATH2='./ml-data/helmet-dataset/Train_negative/Train_negative/'"
      ],
      "execution_count": 4,
      "outputs": []
    },
    {
      "cell_type": "code",
      "metadata": {
        "id": "wQCi3ERdyM96",
        "colab": {
          "base_uri": "https://localhost:8080/"
        },
        "outputId": "e7486b95-c02c-48bc-db1b-461c382a09be"
      },
      "source": [
        "# Getting the images\n",
        "filenames_list_yes = []\n",
        "filenames_list_no = []\n",
        "\n",
        "for filename in os.listdir(PATH1):\n",
        "    filenames_list_yes.append(PATH1 + filename)\n",
        "    \n",
        "for filename in os.listdir(PATH2):\n",
        "    filenames_list_no.append(PATH2 + filename)\n",
        "\n",
        "df_yes = pd.DataFrame({\n",
        "    'image': filenames_list_yes,\n",
        "    'category': np.ones(len(filenames_list_yes), str)\n",
        "})\n",
        "df_no = pd.DataFrame({\n",
        "    'image': filenames_list_no,\n",
        "    'category': np.zeros(len(filenames_list_no), str)\n",
        "})\n",
        "print(df_yes.shape, df_no.shape)\n",
        "df = df_yes.append(df_no, ignore_index=True)\n",
        "print(df['image'][0])"
      ],
      "execution_count": 5,
      "outputs": [
        {
          "output_type": "stream",
          "text": [
            "(5160, 2) (6580, 2)\n",
            "./ml-data/helmet-dataset/Train_positive/Train_positive/2338.jpg\n"
          ],
          "name": "stdout"
        }
      ]
    },
    {
      "cell_type": "markdown",
      "metadata": {
        "id": "YGKxg5LT2kHD"
      },
      "source": [
        "## 2. Training data"
      ]
    },
    {
      "cell_type": "code",
      "metadata": {
        "id": "ldR4U_TD2kHD"
      },
      "source": [
        "# Hyperparameters\n",
        "BATCH_SIZE=32\n",
        "EPOCHS=100"
      ],
      "execution_count": 6,
      "outputs": []
    },
    {
      "cell_type": "code",
      "metadata": {
        "id": "FGJ3njNpyNA4",
        "colab": {
          "base_uri": "https://localhost:8080/"
        },
        "outputId": "755c6c58-ebdf-4ac8-970b-01ce6a1dd2a7"
      },
      "source": [
        "#split data into train and valid set\n",
        "train_df, valid_df = train_test_split(df, test_size = 0.15, stratify = df['category'], random_state = 3)\n",
        "train_df = train_df.reset_index(drop=True)\n",
        "valid_df = valid_df.reset_index(drop=True)\n",
        "total_train = train_df.shape[0]\n",
        "total_valid = valid_df.shape[0]\n",
        "print(train_df.shape)\n",
        "print(valid_df.shape)"
      ],
      "execution_count": 7,
      "outputs": [
        {
          "output_type": "stream",
          "text": [
            "(9979, 2)\n",
            "(1761, 2)\n"
          ],
          "name": "stdout"
        }
      ]
    },
    {
      "cell_type": "code",
      "metadata": {
        "id": "tD1sYQF-yYFW",
        "colab": {
          "base_uri": "https://localhost:8080/"
        },
        "outputId": "3aaaadb4-1f7b-4a1a-e1a9-5d546127d391"
      },
      "source": [
        "#We'll perform individually on train and validation set.\n",
        "train_datagen = ImageDataGenerator(\n",
        "                                   rescale=1./255,\n",
        "                                   )\n",
        "\n",
        "train_gen = train_datagen.flow_from_dataframe(train_df,\n",
        "                                              x_col = 'image',\n",
        "                                              y_col = 'category',\n",
        "                                              target_size = IMAGE_SIZE,\n",
        "                                              batch_size = BATCH_SIZE,\n",
        "                                              class_mode='binary',\n",
        "                                              validate_filenames=False\n",
        "                                             )\n",
        "\n",
        "#we do not augment validation data.\n",
        "validation_datagen = ImageDataGenerator(rescale=1./255)\n",
        "valid_gen = validation_datagen.flow_from_dataframe(\n",
        "    valid_df, \n",
        "    x_col=\"image\",\n",
        "    y_col=\"category\",\n",
        "    target_size=IMAGE_SIZE,\n",
        "    class_mode='binary',\n",
        "    batch_size=BATCH_SIZE,\n",
        "    validate_filenames=False\n",
        ")"
      ],
      "execution_count": 8,
      "outputs": [
        {
          "output_type": "stream",
          "text": [
            "Found 9979 non-validated image filenames belonging to 2 classes.\n",
            "Found 1761 non-validated image filenames belonging to 2 classes.\n"
          ],
          "name": "stdout"
        }
      ]
    },
    {
      "cell_type": "code",
      "metadata": {
        "id": "IFtLlcADyY8h",
        "outputId": "6e6b99d6-746f-4094-d7bc-42932cb985f5",
        "colab": {
          "base_uri": "https://localhost:8080/"
        }
      },
      "source": [
        "model = Sequential()\n",
        "model.add(Conv2D(64, (3,3), activation='relu', strides=(2,2), input_shape=(IMAGE_WIDTH, IMAGE_HEIGHT, IMAGE_CHANNELS)))\n",
        "model.add(Conv2D(64, (3,3), activation='relu'))\n",
        "model.add(Dropout(0.2))\n",
        "model.add(Conv2D(64, (3,3), activation='relu'))\n",
        "model.add(MaxPooling2D((2,2)))\n",
        "model.add(Dropout(0.2))\n",
        "model.add(Conv2D(64, (3,3), activation='relu'))\n",
        "model.add(MaxPooling2D((2,2)))\n",
        "model.add(Dropout(0.2))\n",
        "model.add(Conv2D(126, (3,3), activation='relu'))\n",
        "model.add(MaxPooling2D((2,2)))\n",
        "model.add(Dropout(0.2))\n",
        "model.add(Conv2D(126, (3,3), activation='relu'))\n",
        "model.add(Dropout(0.3))\n",
        "model.add(Flatten())\n",
        "model.add(Dense(256, activation='relu'))\n",
        "model.add(Dropout(0.3))\n",
        "model.add(Dense(1, activation='sigmoid'))\n",
        "model.compile(loss='binary_crossentropy', optimizer='adam', metrics=['acc', 'Precision'])\n"
      ],
      "execution_count": 9,
      "outputs": [
        {
          "output_type": "stream",
          "text": [
            "WARNING:tensorflow:From /usr/local/lib/python3.6/dist-packages/tensorflow_core/python/ops/resource_variable_ops.py:1630: calling BaseResourceVariable.__init__ (from tensorflow.python.ops.resource_variable_ops) with constraint is deprecated and will be removed in a future version.\n",
            "Instructions for updating:\n",
            "If using Keras pass *_constraint arguments to layers.\n",
            "WARNING:tensorflow:From /usr/local/lib/python3.6/dist-packages/tensorflow_core/python/ops/nn_impl.py:183: where (from tensorflow.python.ops.array_ops) is deprecated and will be removed in a future version.\n",
            "Instructions for updating:\n",
            "Use tf.where in 2.0, which has the same broadcast rule as np.where\n"
          ],
          "name": "stdout"
        }
      ]
    },
    {
      "cell_type": "code",
      "metadata": {
        "id": "eMNO2GhJye6l",
        "colab": {
          "base_uri": "https://localhost:8080/"
        },
        "outputId": "e2f90d11-a9d2-4d5f-db6d-26c005415b70"
      },
      "source": [
        "model.summary()"
      ],
      "execution_count": 10,
      "outputs": [
        {
          "output_type": "stream",
          "text": [
            "Model: \"sequential\"\n",
            "_________________________________________________________________\n",
            "Layer (type)                 Output Shape              Param #   \n",
            "=================================================================\n",
            "conv2d (Conv2D)              (None, 49, 49, 64)        1792      \n",
            "_________________________________________________________________\n",
            "conv2d_1 (Conv2D)            (None, 47, 47, 64)        36928     \n",
            "_________________________________________________________________\n",
            "dropout (Dropout)            (None, 47, 47, 64)        0         \n",
            "_________________________________________________________________\n",
            "conv2d_2 (Conv2D)            (None, 45, 45, 64)        36928     \n",
            "_________________________________________________________________\n",
            "max_pooling2d (MaxPooling2D) (None, 22, 22, 64)        0         \n",
            "_________________________________________________________________\n",
            "dropout_1 (Dropout)          (None, 22, 22, 64)        0         \n",
            "_________________________________________________________________\n",
            "conv2d_3 (Conv2D)            (None, 20, 20, 64)        36928     \n",
            "_________________________________________________________________\n",
            "max_pooling2d_1 (MaxPooling2 (None, 10, 10, 64)        0         \n",
            "_________________________________________________________________\n",
            "dropout_2 (Dropout)          (None, 10, 10, 64)        0         \n",
            "_________________________________________________________________\n",
            "conv2d_4 (Conv2D)            (None, 8, 8, 126)         72702     \n",
            "_________________________________________________________________\n",
            "max_pooling2d_2 (MaxPooling2 (None, 4, 4, 126)         0         \n",
            "_________________________________________________________________\n",
            "dropout_3 (Dropout)          (None, 4, 4, 126)         0         \n",
            "_________________________________________________________________\n",
            "conv2d_5 (Conv2D)            (None, 2, 2, 126)         143010    \n",
            "_________________________________________________________________\n",
            "dropout_4 (Dropout)          (None, 2, 2, 126)         0         \n",
            "_________________________________________________________________\n",
            "flatten (Flatten)            (None, 504)               0         \n",
            "_________________________________________________________________\n",
            "dense (Dense)                (None, 256)               129280    \n",
            "_________________________________________________________________\n",
            "dropout_5 (Dropout)          (None, 256)               0         \n",
            "_________________________________________________________________\n",
            "dense_1 (Dense)              (None, 1)                 257       \n",
            "=================================================================\n",
            "Total params: 457,825\n",
            "Trainable params: 457,825\n",
            "Non-trainable params: 0\n",
            "_________________________________________________________________\n"
          ],
          "name": "stdout"
        }
      ]
    },
    {
      "cell_type": "markdown",
      "metadata": {
        "id": "syx8YWEp2kHD"
      },
      "source": [
        "## 3. Train the model"
      ]
    },
    {
      "cell_type": "code",
      "metadata": {
        "id": "LDqX4hWTye8i"
      },
      "source": [
        "learning_rate_reduction = ReduceLROnPlateau(monitor='val_acc', \n",
        "                                            patience=2, \n",
        "                                            verbose=1, \n",
        "                                            factor=0.5, \n",
        "                                            min_lr=0.00001)\n",
        "checkpointer = ModelCheckpoint(filepath = 'mask.weights.best.hdf5', save_best_only = True, save_weights_only = True)\n",
        "early_stop = EarlyStopping(monitor='val_loss', patience=6)\n",
        "callbacks = [learning_rate_reduction, checkpointer, early_stop]"
      ],
      "execution_count": 11,
      "outputs": []
    },
    {
      "cell_type": "code",
      "metadata": {
        "id": "BqURES9vye_j",
        "colab": {
          "base_uri": "https://localhost:8080/"
        },
        "outputId": "de2c958d-63bf-414d-eb44-596003ad60b5"
      },
      "source": [
        "start = time.time()\n",
        "\n",
        "model.fit_generator(train_gen,\n",
        "                    epochs = EPOCHS,\n",
        "                    validation_data = valid_gen,\n",
        "                    validation_steps=total_valid//BATCH_SIZE,\n",
        "                    steps_per_epoch=total_train//BATCH_SIZE,\n",
        "                    callbacks = callbacks)\n",
        "\n",
        "endTime = time.time() - start\n",
        "print(\"Total time: \", endTime, \"seconds\")"
      ],
      "execution_count": 12,
      "outputs": [
        {
          "output_type": "stream",
          "text": [
            "Epoch 1/100\n",
            "309/311 [============================>.] - ETA: 0s - loss: 0.2391 - acc: 0.8927 - precision: 0.8672Epoch 1/100\n",
            "311/311 [==============================] - 19s 62ms/step - loss: 0.2383 - acc: 0.8932 - precision: 0.8679 - val_loss: 0.1778 - val_acc: 0.9403 - val_precision: 0.9898\n",
            "Epoch 2/100\n",
            "309/311 [============================>.] - ETA: 0s - loss: 0.1183 - acc: 0.9580 - precision: 0.9461Epoch 1/100\n",
            "311/311 [==============================] - 13s 41ms/step - loss: 0.1178 - acc: 0.9581 - precision: 0.9464 - val_loss: 0.0941 - val_acc: 0.9608 - val_precision: 0.9889\n",
            "Epoch 3/100\n",
            "309/311 [============================>.] - ETA: 0s - loss: 0.0955 - acc: 0.9665 - precision: 0.9583Epoch 1/100\n",
            "311/311 [==============================] - 13s 41ms/step - loss: 0.0951 - acc: 0.9667 - precision: 0.9587 - val_loss: 0.0965 - val_acc: 0.9631 - val_precision: 0.9287\n",
            "Epoch 4/100\n",
            "309/311 [============================>.] - ETA: 0s - loss: 0.0813 - acc: 0.9713 - precision: 0.9578Epoch 1/100\n",
            "311/311 [==============================] - 13s 42ms/step - loss: 0.0809 - acc: 0.9714 - precision: 0.9580 - val_loss: 0.0546 - val_acc: 0.9830 - val_precision: 0.9769\n",
            "Epoch 5/100\n",
            "309/311 [============================>.] - ETA: 0s - loss: 0.0827 - acc: 0.9719 - precision: 0.9639Epoch 1/100\n",
            "311/311 [==============================] - 13s 42ms/step - loss: 0.0826 - acc: 0.9719 - precision: 0.9637 - val_loss: 0.0980 - val_acc: 0.9625 - val_precision: 0.9234\n",
            "Epoch 6/100\n",
            "310/311 [============================>.] - ETA: 0s - loss: 0.0687 - acc: 0.9759 - precision: 0.9682Epoch 1/100\n",
            " 54/311 [====>.........................] - ETA: 8s - loss: 0.0666 - acc: 0.9728 - precision: 0.9487\n",
            "Epoch 00006: ReduceLROnPlateau reducing learning rate to 0.0005000000237487257.\n",
            "311/311 [==============================] - 13s 43ms/step - loss: 0.0695 - acc: 0.9758 - precision: 0.9681 - val_loss: 0.0665 - val_acc: 0.9727 - val_precision: 0.9481\n",
            "Epoch 7/100\n",
            "310/311 [============================>.] - ETA: 0s - loss: 0.0468 - acc: 0.9833 - precision: 0.9768Epoch 1/100\n",
            "311/311 [==============================] - 13s 43ms/step - loss: 0.0467 - acc: 0.9833 - precision: 0.9768 - val_loss: 0.0371 - val_acc: 0.9892 - val_precision: 0.9871\n",
            "Epoch 8/100\n",
            "310/311 [============================>.] - ETA: 0s - loss: 0.0332 - acc: 0.9879 - precision: 0.9840Epoch 1/100\n",
            "311/311 [==============================] - 14s 44ms/step - loss: 0.0331 - acc: 0.9879 - precision: 0.9841 - val_loss: 0.0448 - val_acc: 0.9847 - val_precision: 0.9819\n",
            "Epoch 9/100\n",
            "310/311 [============================>.] - ETA: 0s - loss: 0.0342 - acc: 0.9887 - precision: 0.9860Epoch 1/100\n",
            " 54/311 [====>.........................] - ETA: 8s - loss: 0.0564 - acc: 0.9780 - precision: 0.9572\n",
            "Epoch 00009: ReduceLROnPlateau reducing learning rate to 0.0002500000118743628.\n",
            "311/311 [==============================] - 13s 43ms/step - loss: 0.0341 - acc: 0.9887 - precision: 0.9861 - val_loss: 0.0567 - val_acc: 0.9773 - val_precision: 0.9553\n",
            "Epoch 10/100\n",
            "310/311 [============================>.] - ETA: 0s - loss: 0.0272 - acc: 0.9895 - precision: 0.9851Epoch 1/100\n",
            "311/311 [==============================] - 13s 43ms/step - loss: 0.0278 - acc: 0.9893 - precision: 0.9850 - val_loss: 0.0325 - val_acc: 0.9875 - val_precision: 0.9821\n",
            "Epoch 11/100\n",
            "309/311 [============================>.] - ETA: 0s - loss: 0.0189 - acc: 0.9933 - precision: 0.9913Epoch 1/100\n",
            "311/311 [==============================] - 13s 43ms/step - loss: 0.0187 - acc: 0.9934 - precision: 0.9914 - val_loss: 0.0227 - val_acc: 0.9909 - val_precision: 0.9909\n",
            "Epoch 12/100\n",
            "309/311 [============================>.] - ETA: 0s - loss: 0.0200 - acc: 0.9929 - precision: 0.9919Epoch 1/100\n",
            "311/311 [==============================] - 13s 42ms/step - loss: 0.0202 - acc: 0.9929 - precision: 0.9918 - val_loss: 0.0307 - val_acc: 0.9898 - val_precision: 0.9935\n",
            "Epoch 13/100\n",
            "309/311 [============================>.] - ETA: 0s - loss: 0.0163 - acc: 0.9938 - precision: 0.9924Epoch 1/100\n",
            " 54/311 [====>.........................] - ETA: 8s - loss: 0.0307 - acc: 0.9902 - precision: 0.9921\n",
            "Epoch 00013: ReduceLROnPlateau reducing learning rate to 0.0001250000059371814.\n",
            "311/311 [==============================] - 13s 42ms/step - loss: 0.0162 - acc: 0.9938 - precision: 0.9922 - val_loss: 0.0302 - val_acc: 0.9903 - val_precision: 0.9922\n",
            "Epoch 14/100\n",
            "310/311 [============================>.] - ETA: 0s - loss: 0.0118 - acc: 0.9955 - precision: 0.9952Epoch 1/100\n",
            "311/311 [==============================] - 13s 43ms/step - loss: 0.0117 - acc: 0.9955 - precision: 0.9952 - val_loss: 0.0220 - val_acc: 0.9926 - val_precision: 0.9922\n",
            "Epoch 15/100\n",
            "310/311 [============================>.] - ETA: 0s - loss: 0.0098 - acc: 0.9967 - precision: 0.9966Epoch 1/100\n",
            "311/311 [==============================] - 13s 42ms/step - loss: 0.0099 - acc: 0.9966 - precision: 0.9966 - val_loss: 0.0270 - val_acc: 0.9926 - val_precision: 0.9961\n",
            "Epoch 16/100\n",
            "309/311 [============================>.] - ETA: 0s - loss: 0.0097 - acc: 0.9965 - precision: 0.9959Epoch 1/100\n",
            " 54/311 [====>.........................] - ETA: 8s - loss: 0.0256 - acc: 0.9919 - precision: 0.9947\n",
            "Epoch 00016: ReduceLROnPlateau reducing learning rate to 6.25000029685907e-05.\n",
            "311/311 [==============================] - 13s 42ms/step - loss: 0.0096 - acc: 0.9965 - precision: 0.9959 - val_loss: 0.0251 - val_acc: 0.9920 - val_precision: 0.9948\n",
            "Epoch 17/100\n",
            "310/311 [============================>.] - ETA: 0s - loss: 0.0067 - acc: 0.9978 - precision: 0.9973Epoch 1/100\n",
            "311/311 [==============================] - 13s 42ms/step - loss: 0.0066 - acc: 0.9978 - precision: 0.9973 - val_loss: 0.0203 - val_acc: 0.9926 - val_precision: 0.9948\n",
            "Epoch 18/100\n",
            "309/311 [============================>.] - ETA: 0s - loss: 0.0061 - acc: 0.9984 - precision: 0.9982Epoch 1/100\n",
            " 54/311 [====>.........................] - ETA: 8s - loss: 0.0231 - acc: 0.9919 - precision: 0.9947\n",
            "Epoch 00018: ReduceLROnPlateau reducing learning rate to 3.125000148429535e-05.\n",
            "311/311 [==============================] - 13s 43ms/step - loss: 0.0061 - acc: 0.9984 - precision: 0.9982 - val_loss: 0.0227 - val_acc: 0.9920 - val_precision: 0.9948\n",
            "Epoch 19/100\n",
            "310/311 [============================>.] - ETA: 0s - loss: 0.0054 - acc: 0.9983 - precision: 0.9979Epoch 1/100\n",
            "311/311 [==============================] - 13s 42ms/step - loss: 0.0054 - acc: 0.9983 - precision: 0.9979 - val_loss: 0.0218 - val_acc: 0.9915 - val_precision: 0.9909\n",
            "Epoch 20/100\n",
            "309/311 [============================>.] - ETA: 0s - loss: 0.0045 - acc: 0.9984 - precision: 0.9975Epoch 1/100\n",
            " 54/311 [====>.........................] - ETA: 8s - loss: 0.0287 - acc: 0.9913 - precision: 0.9934\n",
            "Epoch 00020: ReduceLROnPlateau reducing learning rate to 1.5625000742147677e-05.\n",
            "311/311 [==============================] - 13s 42ms/step - loss: 0.0045 - acc: 0.9984 - precision: 0.9975 - val_loss: 0.0282 - val_acc: 0.9915 - val_precision: 0.9935\n",
            "Epoch 21/100\n",
            "310/311 [============================>.] - ETA: 0s - loss: 0.0057 - acc: 0.9982 - precision: 0.9984Epoch 1/100\n",
            "311/311 [==============================] - 13s 42ms/step - loss: 0.0057 - acc: 0.9982 - precision: 0.9984 - val_loss: 0.0283 - val_acc: 0.9920 - val_precision: 0.9948\n",
            "Epoch 22/100\n",
            "310/311 [============================>.] - ETA: 0s - loss: 0.0040 - acc: 0.9989 - precision: 0.9986Epoch 1/100\n",
            " 54/311 [====>.........................] - ETA: 8s - loss: 0.0258 - acc: 0.9907 - precision: 0.9908\n",
            "Epoch 00022: ReduceLROnPlateau reducing learning rate to 1e-05.\n",
            "311/311 [==============================] - 13s 42ms/step - loss: 0.0040 - acc: 0.9989 - precision: 0.9986 - val_loss: 0.0254 - val_acc: 0.9909 - val_precision: 0.9909\n",
            "Epoch 23/100\n",
            "310/311 [============================>.] - ETA: 0s - loss: 0.0034 - acc: 0.9993 - precision: 0.9986Epoch 1/100\n",
            "311/311 [==============================] - 13s 42ms/step - loss: 0.0034 - acc: 0.9993 - precision: 0.9986 - val_loss: 0.0251 - val_acc: 0.9920 - val_precision: 0.9935\n",
            "Total time:  311.96240425109863 seconds\n"
          ],
          "name": "stdout"
        }
      ]
    },
    {
      "cell_type": "code",
      "metadata": {
        "id": "jDcAQxo3ynRp",
        "colab": {
          "base_uri": "https://localhost:8080/",
          "height": 782
        },
        "outputId": "40242821-5672-45ee-dc5a-49023436d08d"
      },
      "source": [
        "loss = pd.DataFrame(model.history.history)\n",
        "loss[['loss', 'val_loss']].plot()\n",
        "loss[['acc', 'val_acc']].plot()\n",
        "loss[['precision', 'val_precision']].plot()"
      ],
      "execution_count": 14,
      "outputs": [
        {
          "output_type": "execute_result",
          "data": {
            "text/plain": [
              "<matplotlib.axes._subplots.AxesSubplot at 0x7f1db19fd5c0>"
            ]
          },
          "metadata": {
            "tags": []
          },
          "execution_count": 14
        },
        {
          "output_type": "display_data",
          "data": {
            "image/png": "[encoded data removed]",
            "text/plain": [
              "<Figure size 432x288 with 1 Axes>"
            ]
          },
          "metadata": {
            "tags": [],
            "needs_background": "light"
          }
        },
        {
          "output_type": "display_data",
          "data": {
            "image/png": "[encoded data removed]",
            "text/plain": [
              "<Figure size 432x288 with 1 Axes>"
            ]
          },
          "metadata": {
            "tags": [],
            "needs_background": "light"
          }
        },
        {
          "output_type": "display_data",
          "data": {
            "image/png": "[encoded data removed]",
            "text/plain": [
              "<Figure size 432x288 with 1 Axes>"
            ]
          },
          "metadata": {
            "tags": [],
            "needs_background": "light"
          }
        }
      ]
    },
    {
      "cell_type": "code",
      "metadata": {
        "colab": {
          "base_uri": "https://localhost:8080/"
        },
        "id": "FBJt2NeG67b2",
        "outputId": "c03d0202-9fac-4580-c14a-fce88d659921"
      },
      "source": [
        "loss_mean = loss.mean()\n",
        "loss_mean"
      ],
      "execution_count": 15,
      "outputs": [
        {
          "output_type": "execute_result",
          "data": {
            "text/plain": [
              "loss             0.041228\n",
              "acc              0.984531\n",
              "precision        0.980189\n",
              "val_loss         0.047302\n",
              "val_acc          0.983127\n",
              "val_precision    0.981532\n",
              "lr               0.000396\n",
              "dtype: float64"
            ]
          },
          "metadata": {
            "tags": []
          },
          "execution_count": 15
        }
      ]
    },
    {
      "cell_type": "code",
      "metadata": {
        "colab": {
          "base_uri": "https://localhost:8080/"
        },
        "id": "8fBKEAlA7uYZ",
        "outputId": "57eda23a-0da6-4972-998c-a4e782784ca8"
      },
      "source": [
        "print(\"Epochs: \", len(model.history.epoch))\n",
        "print(\"Train time: \", endTime, \"seconds\") "
      ],
      "execution_count": 16,
      "outputs": [
        {
          "output_type": "stream",
          "text": [
            "Epochs:  23\n",
            "Train time:  311.96240425109863 seconds\n"
          ],
          "name": "stdout"
        }
      ]
    },
    {
      "cell_type": "code",
      "metadata": {
        "colab": {
          "base_uri": "https://localhost:8080/"
        },
        "id": "utq5K11xCM0J",
        "outputId": "a8b51d81-dd14-418f-902b-6da786a4b829"
      },
      "source": [
        "print(\"| original_model | {} | {} |  {} |   {} |  {} |      {} | {} |      {} |   {} |     |\".format(loss_mean.acc, loss_mean.loss, loss_mean.val_acc, loss_mean.val_loss, loss_mean.precision, loss_mean.val_precision, loss_mean.lr, len(model.history.epoch), endTime))"
      ],
      "execution_count": 18,
      "outputs": [
        {
          "output_type": "stream",
          "text": [
            "| original_model | 0.9845310527345409 | 0.04122784013361626 |  0.9831274696018385 |   0.047301947386530395 |  0.9801888595456663 |      0.9815318454866824 | 0.00039581523615988374 |      23 |   311.96240425109863 |     |\n"
          ],
          "name": "stdout"
        }
      ]
    }
  ]
}