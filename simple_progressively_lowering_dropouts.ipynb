{
  "nbformat": 4,
  "nbformat_minor": 0,
  "metadata": {
    "colab": {
      "name": "Hola.ipynb",
      "provenance": [],
      "collapsed_sections": [],
      "toc_visible": true,
      "include_colab_link": true
    },
    "kernelspec": {
      "name": "python3",
      "display_name": "Python 3"
    },
    "accelerator": "GPU"
  },
  "cells": [
    {
      "cell_type": "markdown",
      "metadata": {
        "id": "view-in-github",
        "colab_type": "text"
      },
      "source": [
        "<a href=\"https://colab.research.google.com/github/EduFdezSoy/safety-first/blob/master/simple_progressively_lowering_dropouts.ipynb\" target=\"_parent\"><img src=\"https://colab.research.google.com/assets/colab-badge.svg\" alt=\"Open In Colab\"/></a>"
      ]
    },
    {
      "cell_type": "markdown",
      "metadata": {
        "id": "0MS0bl_OzJhu"
      },
      "source": [
        "# Safety helmet detector"
      ]
    },
    {
      "cell_type": "markdown",
      "metadata": {
        "id": "ki8M96GzzElM"
      },
      "source": [
        "Source: https://www.kaggle.com/ehddnr301/helmet-classification"
      ]
    },
    {
      "cell_type": "code",
      "metadata": {
        "id": "xOoHKAbJ6eVy",
        "colab": {
          "base_uri": "https://localhost:8080/"
        },
        "outputId": "0ae27793-80ed-472f-9bc8-d0e5b5cb2230"
      },
      "source": [
        "# Uncomment for install tensorflow 1.15.\n",
        "!pip install tensorflow==1.15"
      ],
      "execution_count": 1,
      "outputs": [
        {
          "output_type": "stream",
          "text": [
            "Collecting tensorflow==1.15\n",
            "\u001b[?25l  Downloading https://files.pythonhosted.org/packages/3f/98/5a99af92fb911d7a88a0005ad55005f35b4c1ba8d75fba02df726cd936e6/tensorflow-1.15.0-cp36-cp36m-manylinux2010_x86_64.whl (412.3MB)\n",
            "\u001b[K     |████████████████████████████████| 412.3MB 42kB/s \n",
            "\u001b[?25hRequirement already satisfied: termcolor>=1.1.0 in /usr/local/lib/python3.6/dist-packages (from tensorflow==1.15) (1.1.0)\n",
            "Requirement already satisfied: protobuf>=3.6.1 in /usr/local/lib/python3.6/dist-packages (from tensorflow==1.15) (3.12.4)\n",
            "Requirement already satisfied: wheel>=0.26 in /usr/local/lib/python3.6/dist-packages (from tensorflow==1.15) (0.35.1)\n",
            "Requirement already satisfied: astor>=0.6.0 in /usr/local/lib/python3.6/dist-packages (from tensorflow==1.15) (0.8.1)\n",
            "Requirement already satisfied: google-pasta>=0.1.6 in /usr/local/lib/python3.6/dist-packages (from tensorflow==1.15) (0.2.0)\n",
            "Requirement already satisfied: keras-preprocessing>=1.0.5 in /usr/local/lib/python3.6/dist-packages (from tensorflow==1.15) (1.1.2)\n",
            "Requirement already satisfied: grpcio>=1.8.6 in /usr/local/lib/python3.6/dist-packages (from tensorflow==1.15) (1.33.2)\n",
            "Collecting tensorboard<1.16.0,>=1.15.0\n",
            "\u001b[?25l  Downloading https://files.pythonhosted.org/packages/1e/e9/d3d747a97f7188f48aa5eda486907f3b345cd409f0a0850468ba867db246/tensorboard-1.15.0-py3-none-any.whl (3.8MB)\n",
            "\u001b[K     |████████████████████████████████| 3.8MB 25.1MB/s \n",
            "\u001b[?25hCollecting tensorflow-estimator==1.15.1\n",
            "\u001b[?25l  Downloading https://files.pythonhosted.org/packages/de/62/2ee9cd74c9fa2fa450877847ba560b260f5d0fb70ee0595203082dafcc9d/tensorflow_estimator-1.15.1-py2.py3-none-any.whl (503kB)\n",
            "\u001b[K     |████████████████████████████████| 512kB 55.1MB/s \n",
            "\u001b[?25hRequirement already satisfied: wrapt>=1.11.1 in /usr/local/lib/python3.6/dist-packages (from tensorflow==1.15) (1.12.1)\n",
            "Requirement already satisfied: opt-einsum>=2.3.2 in /usr/local/lib/python3.6/dist-packages (from tensorflow==1.15) (3.3.0)\n",
            "Requirement already satisfied: absl-py>=0.7.0 in /usr/local/lib/python3.6/dist-packages (from tensorflow==1.15) (0.10.0)\n",
            "Requirement already satisfied: six>=1.10.0 in /usr/local/lib/python3.6/dist-packages (from tensorflow==1.15) (1.15.0)\n",
            "Collecting keras-applications>=1.0.8\n",
            "\u001b[?25l  Downloading https://files.pythonhosted.org/packages/71/e3/19762fdfc62877ae9102edf6342d71b28fbfd9dea3d2f96a882ce099b03f/Keras_Applications-1.0.8-py3-none-any.whl (50kB)\n",
            "\u001b[K     |████████████████████████████████| 51kB 7.7MB/s \n",
            "\u001b[?25hCollecting gast==0.2.2\n",
            "  Downloading https://files.pythonhosted.org/packages/4e/35/11749bf99b2d4e3cceb4d55ca22590b0d7c2c62b9de38ac4a4a7f4687421/gast-0.2.2.tar.gz\n",
            "Requirement already satisfied: numpy<2.0,>=1.16.0 in /usr/local/lib/python3.6/dist-packages (from tensorflow==1.15) (1.18.5)\n",
            "Requirement already satisfied: setuptools in /usr/local/lib/python3.6/dist-packages (from protobuf>=3.6.1->tensorflow==1.15) (50.3.2)\n",
            "Requirement already satisfied: werkzeug>=0.11.15 in /usr/local/lib/python3.6/dist-packages (from tensorboard<1.16.0,>=1.15.0->tensorflow==1.15) (1.0.1)\n",
            "Requirement already satisfied: markdown>=2.6.8 in /usr/local/lib/python3.6/dist-packages (from tensorboard<1.16.0,>=1.15.0->tensorflow==1.15) (3.3.3)\n",
            "Requirement already satisfied: h5py in /usr/local/lib/python3.6/dist-packages (from keras-applications>=1.0.8->tensorflow==1.15) (2.10.0)\n",
            "Requirement already satisfied: importlib-metadata; python_version < \"3.8\" in /usr/local/lib/python3.6/dist-packages (from markdown>=2.6.8->tensorboard<1.16.0,>=1.15.0->tensorflow==1.15) (2.0.0)\n",
            "Requirement already satisfied: zipp>=0.5 in /usr/local/lib/python3.6/dist-packages (from importlib-metadata; python_version < \"3.8\"->markdown>=2.6.8->tensorboard<1.16.0,>=1.15.0->tensorflow==1.15) (3.4.0)\n",
            "Building wheels for collected packages: gast\n",
            "  Building wheel for gast (setup.py) ... \u001b[?25l\u001b[?25hdone\n",
            "  Created wheel for gast: filename=gast-0.2.2-cp36-none-any.whl size=7542 sha256=f588e4343bb797df008868291245b7f19e923fee2528bc37231e5744685bfad3\n",
            "  Stored in directory: /root/.cache/pip/wheels/5c/2e/7e/a1d4d4fcebe6c381f378ce7743a3ced3699feb89bcfbdadadd\n",
            "Successfully built gast\n",
            "\u001b[31mERROR: tensorflow-probability 0.11.0 has requirement gast>=0.3.2, but you'll have gast 0.2.2 which is incompatible.\u001b[0m\n",
            "Installing collected packages: tensorboard, tensorflow-estimator, keras-applications, gast, tensorflow\n",
            "  Found existing installation: tensorboard 2.3.0\n",
            "    Uninstalling tensorboard-2.3.0:\n",
            "      Successfully uninstalled tensorboard-2.3.0\n",
            "  Found existing installation: tensorflow-estimator 2.3.0\n",
            "    Uninstalling tensorflow-estimator-2.3.0:\n",
            "      Successfully uninstalled tensorflow-estimator-2.3.0\n",
            "  Found existing installation: gast 0.3.3\n",
            "    Uninstalling gast-0.3.3:\n",
            "      Successfully uninstalled gast-0.3.3\n",
            "  Found existing installation: tensorflow 2.3.0\n",
            "    Uninstalling tensorflow-2.3.0:\n",
            "      Successfully uninstalled tensorflow-2.3.0\n",
            "Successfully installed gast-0.2.2 keras-applications-1.0.8 tensorboard-1.15.0 tensorflow-1.15.0 tensorflow-estimator-1.15.1\n"
          ],
          "name": "stdout"
        }
      ]
    },
    {
      "cell_type": "code",
      "metadata": {
        "id": "NtCxUQ1_TmhB",
        "colab": {
          "base_uri": "https://localhost:8080/",
          "height": 35
        },
        "outputId": "8b0b717f-8208-44c6-afea-9832433fe704"
      },
      "source": [
        "# Imports\n",
        "import cv2\n",
        "import os\n",
        "import pandas as pd \n",
        "import matplotlib.pyplot as plt\n",
        "import matplotlib.image as mpimg\n",
        "import numpy as np\n",
        "import time\n",
        "from skimage import io, transform\n",
        "from PIL import Image\n",
        "\n",
        "from sklearn.model_selection import train_test_split\n",
        "\n",
        "import tensorflow as tf\n",
        "from tensorflow.keras.callbacks import ReduceLROnPlateau\n",
        "from tensorflow.keras.applications import ResNet152V2\n",
        "from tensorflow.keras.models import Sequential\n",
        "from tensorflow.keras.layers import Dense, Dropout\n",
        "from tensorflow.keras.callbacks import ModelCheckpoint, EarlyStopping\n",
        "from tensorflow.keras.optimizers import Adam, RMSprop\n",
        "from tensorflow.keras.preprocessing.image import ImageDataGenerator\n",
        "\n",
        "# Create model\n",
        "from tensorflow.keras.layers import Conv2D, Flatten, Dense, Activation, BatchNormalization, MaxPooling2D, Dropout\n",
        "# Check Tensorflow version.\n",
        "tf.version.VERSION"
      ],
      "execution_count": 2,
      "outputs": [
        {
          "output_type": "execute_result",
          "data": {
            "application/vnd.google.colaboratory.intrinsic+json": {
              "type": "string"
            },
            "text/plain": [
              "'1.15.0'"
            ]
          },
          "metadata": {
            "tags": []
          },
          "execution_count": 2
        }
      ]
    },
    {
      "cell_type": "markdown",
      "metadata": {
        "id": "LO5VaK6_2kHB"
      },
      "source": [
        "## 1. Loading Data"
      ]
    },
    {
      "cell_type": "code",
      "metadata": {
        "id": "2kwAMq-36izW",
        "colab": {
          "base_uri": "https://localhost:8080/"
        },
        "outputId": "17ad0969-0664-4156-ee0f-3aafd0e09aac"
      },
      "source": [
        "# Uncomment for clonning the repository\n",
        "!git clone https://github.com/sergiorodenas/ml-data.git"
      ],
      "execution_count": 3,
      "outputs": [
        {
          "output_type": "stream",
          "text": [
            "Cloning into 'ml-data'...\n",
            "remote: Enumerating objects: 35, done.\u001b[K\n",
            "remote: Counting objects: 100% (35/35), done.\u001b[K\n",
            "remote: Compressing objects: 100% (35/35), done.\u001b[K\n",
            "remote: Total 13271 (delta 2), reused 0 (delta 0), pack-reused 13236\u001b[K\n",
            "Receiving objects: 100% (13271/13271), 67.06 MiB | 39.15 MiB/s, done.\n",
            "Resolving deltas: 100% (86/86), done.\n"
          ],
          "name": "stdout"
        }
      ]
    },
    {
      "cell_type": "code",
      "metadata": {
        "id": "pxZKXv5KyM7T"
      },
      "source": [
        "# Image constants\n",
        "IMAGE_WIDTH=100\n",
        "IMAGE_HEIGHT=100\n",
        "IMAGE_SIZE=(IMAGE_WIDTH, IMAGE_HEIGHT)\n",
        "IMAGE_CHANNELS=3\n",
        "PATH1='./ml-data/helmet-dataset/Train_positive/Train_positive/'\n",
        "PATH2='./ml-data/helmet-dataset/Train_negative/Train_negative/'"
      ],
      "execution_count": 4,
      "outputs": []
    },
    {
      "cell_type": "code",
      "metadata": {
        "id": "wQCi3ERdyM96",
        "colab": {
          "base_uri": "https://localhost:8080/"
        },
        "outputId": "59a4b71d-4842-4174-da25-5552380fd921"
      },
      "source": [
        "# Getting the images\n",
        "filenames_list_yes = []\n",
        "filenames_list_no = []\n",
        "\n",
        "for filename in os.listdir(PATH1):\n",
        "    filenames_list_yes.append(PATH1 + filename)\n",
        "    \n",
        "for filename in os.listdir(PATH2):\n",
        "    filenames_list_no.append(PATH2 + filename)\n",
        "\n",
        "df_yes = pd.DataFrame({\n",
        "    'image': filenames_list_yes,\n",
        "    'category': np.ones(len(filenames_list_yes), str)\n",
        "})\n",
        "df_no = pd.DataFrame({\n",
        "    'image': filenames_list_no,\n",
        "    'category': np.zeros(len(filenames_list_no), str)\n",
        "})\n",
        "print(df_yes.shape, df_no.shape)\n",
        "df = df_yes.append(df_no, ignore_index=True)\n",
        "print(df['image'][0])"
      ],
      "execution_count": 5,
      "outputs": [
        {
          "output_type": "stream",
          "text": [
            "(5160, 2) (6580, 2)\n",
            "./ml-data/helmet-dataset/Train_positive/Train_positive/2338.jpg\n"
          ],
          "name": "stdout"
        }
      ]
    },
    {
      "cell_type": "markdown",
      "metadata": {
        "id": "YGKxg5LT2kHD"
      },
      "source": [
        "## 2. Training data"
      ]
    },
    {
      "cell_type": "code",
      "metadata": {
        "id": "ldR4U_TD2kHD"
      },
      "source": [
        "# Hyperparameters\n",
        "BATCH_SIZE=32\n",
        "EPOCHS=100"
      ],
      "execution_count": 6,
      "outputs": []
    },
    {
      "cell_type": "code",
      "metadata": {
        "id": "FGJ3njNpyNA4",
        "colab": {
          "base_uri": "https://localhost:8080/"
        },
        "outputId": "b0a7fa9c-1034-46cd-e141-b24f01ceeb81"
      },
      "source": [
        "#split data into train and valid set\n",
        "train_df, valid_df = train_test_split(df, test_size = 0.15, stratify = df['category'], random_state = 3)\n",
        "train_df = train_df.reset_index(drop=True)\n",
        "valid_df = valid_df.reset_index(drop=True)\n",
        "total_train = train_df.shape[0]\n",
        "total_valid = valid_df.shape[0]\n",
        "print(train_df.shape)\n",
        "print(valid_df.shape)"
      ],
      "execution_count": 7,
      "outputs": [
        {
          "output_type": "stream",
          "text": [
            "(9979, 2)\n",
            "(1761, 2)\n"
          ],
          "name": "stdout"
        }
      ]
    },
    {
      "cell_type": "code",
      "metadata": {
        "id": "tD1sYQF-yYFW",
        "colab": {
          "base_uri": "https://localhost:8080/"
        },
        "outputId": "fe0dd165-d2ef-4cbb-fba6-e3b6d6870cb6"
      },
      "source": [
        "#We'll perform individually on train and validation set.\n",
        "train_datagen = ImageDataGenerator(\n",
        "                                   rescale=1./255,\n",
        "                                   )\n",
        "\n",
        "train_gen = train_datagen.flow_from_dataframe(train_df,\n",
        "                                              x_col = 'image',\n",
        "                                              y_col = 'category',\n",
        "                                              target_size = IMAGE_SIZE,\n",
        "                                              batch_size = BATCH_SIZE,\n",
        "                                              class_mode='binary',\n",
        "                                              validate_filenames=False\n",
        "                                             )\n",
        "\n",
        "#we do not augment validation data.\n",
        "validation_datagen = ImageDataGenerator(rescale=1./255)\n",
        "valid_gen = validation_datagen.flow_from_dataframe(\n",
        "    valid_df, \n",
        "    x_col=\"image\",\n",
        "    y_col=\"category\",\n",
        "    target_size=IMAGE_SIZE,\n",
        "    class_mode='binary',\n",
        "    batch_size=BATCH_SIZE,\n",
        "    validate_filenames=False\n",
        ")"
      ],
      "execution_count": 8,
      "outputs": [
        {
          "output_type": "stream",
          "text": [
            "Found 9979 non-validated image filenames belonging to 2 classes.\n",
            "Found 1761 non-validated image filenames belonging to 2 classes.\n"
          ],
          "name": "stdout"
        }
      ]
    },
    {
      "cell_type": "code",
      "metadata": {
        "id": "IFtLlcADyY8h",
        "outputId": "b1542072-468b-48ff-f75c-01701fae6fdf",
        "colab": {
          "base_uri": "https://localhost:8080/"
        }
      },
      "source": [
        "model = Sequential()\n",
        "model.add(Conv2D(64, (3,3), activation='relu', strides=(2,2), input_shape=(IMAGE_WIDTH, IMAGE_HEIGHT, IMAGE_CHANNELS)))\n",
        "model.add(Conv2D(32, (3,3), activation='relu'))\n",
        "model.add(Dropout(0.2))\n",
        "model.add(Conv2D(16, (3,3), activation='relu'))\n",
        "model.add(MaxPooling2D((2,2)))\n",
        "model.add(Dropout(0.1))\n",
        "model.add(Conv2D(8, (3,3), activation='relu'))\n",
        "model.add(MaxPooling2D((2,2)))\n",
        "model.add(Dropout(0.1))\n",
        "model.add(Flatten())\n",
        "model.add(Dense(256, activation='relu'))\n",
        "model.add(Dense(1, activation='sigmoid'))\n",
        "model.compile(loss='binary_crossentropy', optimizer='adam', metrics=['acc', tf.keras.metrics.Precision()])\n"
      ],
      "execution_count": 9,
      "outputs": [
        {
          "output_type": "stream",
          "text": [
            "WARNING:tensorflow:From /usr/local/lib/python3.6/dist-packages/tensorflow_core/python/ops/resource_variable_ops.py:1630: calling BaseResourceVariable.__init__ (from tensorflow.python.ops.resource_variable_ops) with constraint is deprecated and will be removed in a future version.\n",
            "Instructions for updating:\n",
            "If using Keras pass *_constraint arguments to layers.\n",
            "WARNING:tensorflow:From /usr/local/lib/python3.6/dist-packages/tensorflow_core/python/ops/nn_impl.py:183: where (from tensorflow.python.ops.array_ops) is deprecated and will be removed in a future version.\n",
            "Instructions for updating:\n",
            "Use tf.where in 2.0, which has the same broadcast rule as np.where\n"
          ],
          "name": "stdout"
        }
      ]
    },
    {
      "cell_type": "code",
      "metadata": {
        "id": "eMNO2GhJye6l",
        "colab": {
          "base_uri": "https://localhost:8080/"
        },
        "outputId": "8b7374a1-070d-47e6-ff76-05a674b108f4"
      },
      "source": [
        "model.summary()"
      ],
      "execution_count": 10,
      "outputs": [
        {
          "output_type": "stream",
          "text": [
            "Model: \"sequential\"\n",
            "_________________________________________________________________\n",
            "Layer (type)                 Output Shape              Param #   \n",
            "=================================================================\n",
            "conv2d (Conv2D)              (None, 49, 49, 64)        1792      \n",
            "_________________________________________________________________\n",
            "conv2d_1 (Conv2D)            (None, 47, 47, 32)        18464     \n",
            "_________________________________________________________________\n",
            "dropout (Dropout)            (None, 47, 47, 32)        0         \n",
            "_________________________________________________________________\n",
            "conv2d_2 (Conv2D)            (None, 45, 45, 16)        4624      \n",
            "_________________________________________________________________\n",
            "max_pooling2d (MaxPooling2D) (None, 22, 22, 16)        0         \n",
            "_________________________________________________________________\n",
            "dropout_1 (Dropout)          (None, 22, 22, 16)        0         \n",
            "_________________________________________________________________\n",
            "conv2d_3 (Conv2D)            (None, 20, 20, 8)         1160      \n",
            "_________________________________________________________________\n",
            "max_pooling2d_1 (MaxPooling2 (None, 10, 10, 8)         0         \n",
            "_________________________________________________________________\n",
            "dropout_2 (Dropout)          (None, 10, 10, 8)         0         \n",
            "_________________________________________________________________\n",
            "flatten (Flatten)            (None, 800)               0         \n",
            "_________________________________________________________________\n",
            "dense (Dense)                (None, 256)               205056    \n",
            "_________________________________________________________________\n",
            "dense_1 (Dense)              (None, 1)                 257       \n",
            "=================================================================\n",
            "Total params: 231,353\n",
            "Trainable params: 231,353\n",
            "Non-trainable params: 0\n",
            "_________________________________________________________________\n"
          ],
          "name": "stdout"
        }
      ]
    },
    {
      "cell_type": "markdown",
      "metadata": {
        "id": "syx8YWEp2kHD"
      },
      "source": [
        "## 3. Train the model"
      ]
    },
    {
      "cell_type": "code",
      "metadata": {
        "id": "LDqX4hWTye8i"
      },
      "source": [
        "learning_rate_reduction = ReduceLROnPlateau(monitor='val_acc', \n",
        "                                            patience=2, \n",
        "                                            verbose=1, \n",
        "                                            factor=0.5, \n",
        "                                            min_lr=0.00001)\n",
        "checkpointer = ModelCheckpoint(filepath = 'mask.weights.best.hdf5', save_best_only = True, save_weights_only = True)\n",
        "early_stop = EarlyStopping(monitor='val_loss', patience=6)\n",
        "callbacks = [learning_rate_reduction, checkpointer, early_stop]"
      ],
      "execution_count": 11,
      "outputs": []
    },
    {
      "cell_type": "code",
      "metadata": {
        "id": "BqURES9vye_j",
        "colab": {
          "base_uri": "https://localhost:8080/"
        },
        "outputId": "e322852b-2690-47df-a100-603263ae396b"
      },
      "source": [
        "start = time.time()\n",
        "\n",
        "model.fit_generator(train_gen,\n",
        "                    epochs = EPOCHS,\n",
        "                    validation_data = valid_gen,\n",
        "                    validation_steps=total_valid//BATCH_SIZE,\n",
        "                    steps_per_epoch=total_train//BATCH_SIZE,\n",
        "                    callbacks = callbacks)\n",
        "\n",
        "endTime = time.time() - start\n",
        "print(\"Total time: \", endTime, \"seconds\")"
      ],
      "execution_count": 12,
      "outputs": [
        {
          "output_type": "stream",
          "text": [
            "Epoch 1/100\n",
            "309/311 [============================>.] - ETA: 0s - loss: 0.1895 - acc: 0.9206 - precision: 0.9067Epoch 1/100\n",
            "311/311 [==============================] - 18s 57ms/step - loss: 0.1893 - acc: 0.9206 - precision: 0.9065 - val_loss: 0.1008 - val_acc: 0.9653 - val_precision: 0.9759\n",
            "Epoch 2/100\n",
            "310/311 [============================>.] - ETA: 0s - loss: 0.0951 - acc: 0.9661 - precision: 0.9576Epoch 1/100\n",
            "311/311 [==============================] - 11s 35ms/step - loss: 0.0950 - acc: 0.9660 - precision: 0.9578 - val_loss: 0.0905 - val_acc: 0.9722 - val_precision: 0.9827\n",
            "Epoch 3/100\n",
            "310/311 [============================>.] - ETA: 0s - loss: 0.0835 - acc: 0.9700 - precision: 0.9609Epoch 1/100\n",
            "311/311 [==============================] - 11s 35ms/step - loss: 0.0832 - acc: 0.9701 - precision: 0.9610 - val_loss: 0.0881 - val_acc: 0.9670 - val_precision: 0.9408\n",
            "Epoch 4/100\n",
            "310/311 [============================>.] - ETA: 0s - loss: 0.0776 - acc: 0.9722 - precision: 0.9634Epoch 1/100\n",
            " 54/311 [====>.........................] - ETA: 7s - loss: 0.0943 - acc: 0.9659 - precision: 0.9888\n",
            "Epoch 00004: ReduceLROnPlateau reducing learning rate to 0.0005000000237487257.\n",
            "311/311 [==============================] - 11s 35ms/step - loss: 0.0774 - acc: 0.9723 - precision: 0.9634 - val_loss: 0.0945 - val_acc: 0.9653 - val_precision: 0.9890\n",
            "Epoch 5/100\n",
            "310/311 [============================>.] - ETA: 0s - loss: 0.0557 - acc: 0.9800 - precision: 0.9757Epoch 1/100\n",
            "311/311 [==============================] - 11s 34ms/step - loss: 0.0556 - acc: 0.9801 - precision: 0.9758 - val_loss: 0.0522 - val_acc: 0.9795 - val_precision: 0.9647\n",
            "Epoch 6/100\n",
            "310/311 [============================>.] - ETA: 0s - loss: 0.0496 - acc: 0.9829 - precision: 0.9764Epoch 1/100\n",
            "311/311 [==============================] - 11s 35ms/step - loss: 0.0495 - acc: 0.9829 - precision: 0.9765 - val_loss: 0.0526 - val_acc: 0.9835 - val_precision: 0.9908\n",
            "Epoch 7/100\n",
            "310/311 [============================>.] - ETA: 0s - loss: 0.0472 - acc: 0.9820 - precision: 0.9776Epoch 1/100\n",
            "311/311 [==============================] - 11s 35ms/step - loss: 0.0472 - acc: 0.9821 - precision: 0.9777 - val_loss: 0.0623 - val_acc: 0.9756 - val_precision: 0.9620\n",
            "Epoch 8/100\n",
            "309/311 [============================>.] - ETA: 0s - loss: 0.0422 - acc: 0.9853 - precision: 0.9819Epoch 1/100\n",
            " 54/311 [====>.........................] - ETA: 7s - loss: 0.0453 - acc: 0.9809 - precision: 0.9879\n",
            "Epoch 00008: ReduceLROnPlateau reducing learning rate to 0.0002500000118743628.\n",
            "311/311 [==============================] - 11s 34ms/step - loss: 0.0419 - acc: 0.9854 - precision: 0.9820 - val_loss: 0.0458 - val_acc: 0.9807 - val_precision: 0.9868\n",
            "Epoch 9/100\n",
            "310/311 [============================>.] - ETA: 0s - loss: 0.0322 - acc: 0.9876 - precision: 0.9837Epoch 1/100\n",
            "311/311 [==============================] - 11s 35ms/step - loss: 0.0321 - acc: 0.9876 - precision: 0.9838 - val_loss: 0.0396 - val_acc: 0.9881 - val_precision: 0.9870\n",
            "Epoch 10/100\n",
            "309/311 [============================>.] - ETA: 0s - loss: 0.0296 - acc: 0.9892 - precision: 0.9844Epoch 1/100\n",
            "311/311 [==============================] - 11s 34ms/step - loss: 0.0299 - acc: 0.9890 - precision: 0.9845 - val_loss: 0.0301 - val_acc: 0.9875 - val_precision: 0.9833\n",
            "Epoch 11/100\n",
            "309/311 [============================>.] - ETA: 0s - loss: 0.0268 - acc: 0.9902 - precision: 0.9852Epoch 1/100\n",
            " 54/311 [====>.........................] - ETA: 7s - loss: 0.0417 - acc: 0.9844 - precision: 0.9932\n",
            "Epoch 00011: ReduceLROnPlateau reducing learning rate to 0.0001250000059371814.\n",
            "311/311 [==============================] - 11s 34ms/step - loss: 0.0268 - acc: 0.9901 - precision: 0.9853 - val_loss: 0.0427 - val_acc: 0.9835 - val_precision: 0.9921\n",
            "Epoch 12/100\n",
            "310/311 [============================>.] - ETA: 0s - loss: 0.0194 - acc: 0.9925 - precision: 0.9906Epoch 1/100\n",
            "311/311 [==============================] - 11s 34ms/step - loss: 0.0193 - acc: 0.9926 - precision: 0.9906 - val_loss: 0.0301 - val_acc: 0.9892 - val_precision: 0.9896\n",
            "Epoch 13/100\n",
            "310/311 [============================>.] - ETA: 0s - loss: 0.0189 - acc: 0.9926 - precision: 0.9895Epoch 1/100\n",
            "311/311 [==============================] - 11s 34ms/step - loss: 0.0188 - acc: 0.9927 - precision: 0.9895 - val_loss: 0.0291 - val_acc: 0.9875 - val_precision: 0.9908\n",
            "Epoch 14/100\n",
            "310/311 [============================>.] - ETA: 0s - loss: 0.0186 - acc: 0.9927 - precision: 0.9908Epoch 1/100\n",
            " 54/311 [====>.........................] - ETA: 7s - loss: 0.0367 - acc: 0.9861 - precision: 0.9933\n",
            "Epoch 00014: ReduceLROnPlateau reducing learning rate to 6.25000029685907e-05.\n",
            "311/311 [==============================] - 10s 34ms/step - loss: 0.0186 - acc: 0.9927 - precision: 0.9908 - val_loss: 0.0379 - val_acc: 0.9858 - val_precision: 0.9921\n",
            "Epoch 15/100\n",
            "309/311 [============================>.] - ETA: 0s - loss: 0.0146 - acc: 0.9942 - precision: 0.9936Epoch 1/100\n",
            "311/311 [==============================] - 11s 34ms/step - loss: 0.0145 - acc: 0.9943 - precision: 0.9936 - val_loss: 0.0259 - val_acc: 0.9909 - val_precision: 0.9897\n",
            "Epoch 16/100\n",
            "310/311 [============================>.] - ETA: 0s - loss: 0.0140 - acc: 0.9945 - precision: 0.9924Epoch 1/100\n",
            "311/311 [==============================] - 11s 34ms/step - loss: 0.0139 - acc: 0.9945 - precision: 0.9925 - val_loss: 0.0293 - val_acc: 0.9915 - val_precision: 0.9935\n",
            "Epoch 17/100\n",
            "310/311 [============================>.] - ETA: 0s - loss: 0.0132 - acc: 0.9958 - precision: 0.9945Epoch 1/100\n",
            "311/311 [==============================] - 11s 34ms/step - loss: 0.0131 - acc: 0.9958 - precision: 0.9945 - val_loss: 0.0271 - val_acc: 0.9903 - val_precision: 0.9922\n",
            "Epoch 18/100\n",
            "310/311 [============================>.] - ETA: 0s - loss: 0.0124 - acc: 0.9957 - precision: 0.9947Epoch 1/100\n",
            " 54/311 [====>.........................] - ETA: 7s - loss: 0.0241 - acc: 0.9902 - precision: 0.9907\n",
            "Epoch 00018: ReduceLROnPlateau reducing learning rate to 3.125000148429535e-05.\n",
            "311/311 [==============================] - 10s 34ms/step - loss: 0.0123 - acc: 0.9957 - precision: 0.9947 - val_loss: 0.0248 - val_acc: 0.9898 - val_precision: 0.9896\n",
            "Epoch 19/100\n",
            "310/311 [============================>.] - ETA: 0s - loss: 0.0106 - acc: 0.9965 - precision: 0.9957Epoch 1/100\n",
            "311/311 [==============================] - 11s 34ms/step - loss: 0.0106 - acc: 0.9965 - precision: 0.9957 - val_loss: 0.0237 - val_acc: 0.9909 - val_precision: 0.9909\n",
            "Epoch 20/100\n",
            "310/311 [============================>.] - ETA: 0s - loss: 0.0121 - acc: 0.9958 - precision: 0.9949Epoch 1/100\n",
            " 54/311 [====>.........................] - ETA: 7s - loss: 0.0228 - acc: 0.9907 - precision: 0.9920\n",
            "Epoch 00020: ReduceLROnPlateau reducing learning rate to 1.5625000742147677e-05.\n",
            "311/311 [==============================] - 11s 34ms/step - loss: 0.0121 - acc: 0.9958 - precision: 0.9950 - val_loss: 0.0238 - val_acc: 0.9903 - val_precision: 0.9909\n",
            "Epoch 21/100\n",
            "310/311 [============================>.] - ETA: 0s - loss: 0.0096 - acc: 0.9972 - precision: 0.9956Epoch 1/100\n",
            "311/311 [==============================] - 10s 34ms/step - loss: 0.0095 - acc: 0.9972 - precision: 0.9957 - val_loss: 0.0258 - val_acc: 0.9898 - val_precision: 0.9922\n",
            "Epoch 22/100\n",
            "309/311 [============================>.] - ETA: 0s - loss: 0.0107 - acc: 0.9968 - precision: 0.9956Epoch 1/100\n",
            " 54/311 [====>.........................] - ETA: 7s - loss: 0.0240 - acc: 0.9907 - precision: 0.9933\n",
            "Epoch 00022: ReduceLROnPlateau reducing learning rate to 1e-05.\n",
            "311/311 [==============================] - 10s 33ms/step - loss: 0.0107 - acc: 0.9968 - precision: 0.9957 - val_loss: 0.0251 - val_acc: 0.9903 - val_precision: 0.9922\n",
            "Epoch 23/100\n",
            "308/311 [============================>.] - ETA: 0s - loss: 0.0101 - acc: 0.9969 - precision: 0.9966Epoch 1/100\n",
            "311/311 [==============================] - 10s 34ms/step - loss: 0.0101 - acc: 0.9969 - precision: 0.9966 - val_loss: 0.0246 - val_acc: 0.9898 - val_precision: 0.9909\n",
            "Epoch 24/100\n",
            "309/311 [============================>.] - ETA: 0s - loss: 0.0090 - acc: 0.9965 - precision: 0.9951Epoch 1/100\n",
            "311/311 [==============================] - 11s 34ms/step - loss: 0.0090 - acc: 0.9965 - precision: 0.9952 - val_loss: 0.0246 - val_acc: 0.9903 - val_precision: 0.9922\n",
            "Epoch 25/100\n",
            "310/311 [============================>.] - ETA: 0s - loss: 0.0094 - acc: 0.9972 - precision: 0.9968Epoch 1/100\n",
            "311/311 [==============================] - 11s 35ms/step - loss: 0.0093 - acc: 0.9972 - precision: 0.9968 - val_loss: 0.0231 - val_acc: 0.9915 - val_precision: 0.9909\n",
            "Epoch 26/100\n",
            "310/311 [============================>.] - ETA: 0s - loss: 0.0096 - acc: 0.9966 - precision: 0.9954Epoch 1/100\n",
            "311/311 [==============================] - 11s 34ms/step - loss: 0.0096 - acc: 0.9966 - precision: 0.9954 - val_loss: 0.0240 - val_acc: 0.9909 - val_precision: 0.9922\n",
            "Epoch 27/100\n",
            "310/311 [============================>.] - ETA: 0s - loss: 0.0092 - acc: 0.9971 - precision: 0.9959Epoch 1/100\n",
            "311/311 [==============================] - 11s 34ms/step - loss: 0.0092 - acc: 0.9971 - precision: 0.9959 - val_loss: 0.0249 - val_acc: 0.9903 - val_precision: 0.9935\n",
            "Epoch 28/100\n",
            "309/311 [============================>.] - ETA: 0s - loss: 0.0092 - acc: 0.9964 - precision: 0.9954Epoch 1/100\n",
            "311/311 [==============================] - 11s 34ms/step - loss: 0.0092 - acc: 0.9964 - precision: 0.9954 - val_loss: 0.0249 - val_acc: 0.9898 - val_precision: 0.9922\n",
            "Epoch 29/100\n",
            "309/311 [============================>.] - ETA: 0s - loss: 0.0084 - acc: 0.9979 - precision: 0.9972Epoch 1/100\n",
            "311/311 [==============================] - 10s 33ms/step - loss: 0.0083 - acc: 0.9979 - precision: 0.9972 - val_loss: 0.0244 - val_acc: 0.9909 - val_precision: 0.9935\n",
            "Epoch 30/100\n",
            "310/311 [============================>.] - ETA: 0s - loss: 0.0084 - acc: 0.9974 - precision: 0.9968Epoch 1/100\n",
            "311/311 [==============================] - 11s 34ms/step - loss: 0.0083 - acc: 0.9974 - precision: 0.9968 - val_loss: 0.0247 - val_acc: 0.9909 - val_precision: 0.9935\n",
            "Epoch 31/100\n",
            "308/311 [============================>.] - ETA: 0s - loss: 0.0085 - acc: 0.9976 - precision: 0.9972Epoch 1/100\n",
            "311/311 [==============================] - 11s 34ms/step - loss: 0.0085 - acc: 0.9976 - precision: 0.9973 - val_loss: 0.0248 - val_acc: 0.9892 - val_precision: 0.9909\n",
            "Total time:  339.49901819229126 seconds\n"
          ],
          "name": "stdout"
        }
      ]
    },
    {
      "cell_type": "code",
      "metadata": {
        "id": "jDcAQxo3ynRp",
        "colab": {
          "base_uri": "https://localhost:8080/",
          "height": 778
        },
        "outputId": "694554d6-a08e-4be7-ce78-a2782780d351"
      },
      "source": [
        "loss = pd.DataFrame(model.history.history)\n",
        "loss[['loss', 'val_loss']].plot()\n",
        "loss[['acc', 'val_acc']].plot()\n",
        "loss[['precision', 'val_precision']].plot()"
      ],
      "execution_count": 15,
      "outputs": [
        {
          "output_type": "execute_result",
          "data": {
            "text/plain": [
              "<matplotlib.axes._subplots.AxesSubplot at 0x7f4aa0024550>"
            ]
          },
          "metadata": {
            "tags": []
          },
          "execution_count": 15
        },
        {
          "output_type": "display_data",
          "data": {
            "image/png": "[encoded data removed]",
            "text/plain": [
              "<Figure size 432x288 with 1 Axes>"
            ]
          },
          "metadata": {
            "tags": [],
            "needs_background": "light"
          }
        },
        {
          "output_type": "display_data",
          "data": {
            "image/png": "[encoded data removed]",
            "text/plain": [
              "<Figure size 432x288 with 1 Axes>"
            ]
          },
          "metadata": {
            "tags": [],
            "needs_background": "light"
          }
        },
        {
          "output_type": "display_data",
          "data": {
            "image/png": "[encoded data removed]",
            "text/plain": [
              "<Figure size 432x288 with 1 Axes>"
            ]
          },
          "metadata": {
            "tags": [],
            "needs_background": "light"
          }
        }
      ]
    },
    {
      "cell_type": "code",
      "metadata": {
        "colab": {
          "base_uri": "https://localhost:8080/"
        },
        "id": "FBJt2NeG67b2",
        "outputId": "7801d9b2-ea50-4aed-97f5-2e08f19d13ca"
      },
      "source": [
        "loss_mean = loss.mean()\n",
        "loss_mean"
      ],
      "execution_count": 14,
      "outputs": [
        {
          "output_type": "execute_result",
          "data": {
            "text/plain": [
              "loss             0.031070\n",
              "acc              0.988520\n",
              "precision        0.985457\n",
              "val_loss         0.039409\n",
              "val_acc          0.985429\n",
              "val_precision    0.986727\n",
              "lr               0.000244\n",
              "dtype: float64"
            ]
          },
          "metadata": {
            "tags": []
          },
          "execution_count": 14
        }
      ]
    },
    {
      "cell_type": "code",
      "metadata": {
        "colab": {
          "base_uri": "https://localhost:8080/"
        },
        "id": "8fBKEAlA7uYZ",
        "outputId": "7683a5d7-efe7-4031-8d01-5404ccf2dd31"
      },
      "source": [
        "print(\"Epochs: \", EPOCHS)\n",
        "print(\"Train time: \", endTime, \"seconds\") "
      ],
      "execution_count": 16,
      "outputs": [
        {
          "output_type": "stream",
          "text": [
            "Epochs:  100\n",
            "Train time:  339.49901819229126 seconds\n"
          ],
          "name": "stdout"
        }
      ]
    },
    {
      "cell_type": "code",
      "metadata": {
        "colab": {
          "base_uri": "https://localhost:8080/"
        },
        "id": "8DXIXq4OHA08",
        "outputId": "1c5f6245-a9bc-4ff9-e847-ab9cbe68df78"
      },
      "source": [
        "print(\"| simple progessively lowering dropouts | {} | {} |  {} |   {} |  {} |      {} | {} |      {} |   {} |     |\".format(loss_mean.acc, loss_mean.loss, loss_mean.val_acc, loss_mean.val_loss, loss_mean.precision, loss_mean.val_precision, loss_mean.lr, len(model.history.epoch), endTime))\n"
      ],
      "execution_count": 17,
      "outputs": [
        {
          "output_type": "stream",
          "text": [
            "| simple progessively lowering dropouts | 0.9885197935565826 | 0.031070235764748017 |  0.9854288812606565 |   0.03940862193772676 |  0.9854566589478524 |      0.9867270012055674 | 0.00024383065653138704 |      31 |   339.49901819229126 |     |\n"
          ],
          "name": "stdout"
        }
      ]
    }
  ]
}