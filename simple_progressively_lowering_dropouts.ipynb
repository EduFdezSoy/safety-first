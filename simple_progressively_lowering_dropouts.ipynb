{
  "nbformat": 4,
  "nbformat_minor": 0,
  "metadata": {
    "colab": {
      "name": "Hola.ipynb",
      "provenance": [],
      "collapsed_sections": [],
      "toc_visible": true,
      "include_colab_link": true
    },
    "kernelspec": {
      "name": "python3",
      "display_name": "Python 3"
    },
    "accelerator": "GPU"
  },
  "cells": [
    {
      "cell_type": "markdown",
      "metadata": {
        "id": "view-in-github",
        "colab_type": "text"
      },
      "source": [
        "<a href=\"https://colab.research.google.com/github/EduFdezSoy/safety-first/blob/master/simple_progressively_lowering_dropouts.ipynb\" target=\"_parent\"><img src=\"https://colab.research.google.com/assets/colab-badge.svg\" alt=\"Open In Colab\"/></a>"
      ]
    },
    {
      "cell_type": "markdown",
      "metadata": {
        "id": "0MS0bl_OzJhu"
      },
      "source": [
        "# Safety helmet detector"
      ]
    },
    {
      "cell_type": "markdown",
      "metadata": {
        "id": "ki8M96GzzElM"
      },
      "source": [
        "Source: https://www.kaggle.com/ehddnr301/helmet-classification"
      ]
    },
    {
      "cell_type": "code",
      "metadata": {
        "id": "xOoHKAbJ6eVy",
        "colab": {
          "base_uri": "https://localhost:8080/"
        },
        "outputId": "3092d4e3-0fc3-437d-9c2e-9da0dbb77ca0"
      },
      "source": [
        "# Uncomment for install tensorflow 1.15.\n",
        "!pip install tensorflow==1.15"
      ],
      "execution_count": null,
      "outputs": [
        {
          "output_type": "stream",
          "text": [
            "Requirement already satisfied: tensorflow==1.15 in /usr/local/lib/python3.6/dist-packages (1.15.0)\n",
            "Requirement already satisfied: absl-py>=0.7.0 in /usr/local/lib/python3.6/dist-packages (from tensorflow==1.15) (0.10.0)\n",
            "Requirement already satisfied: keras-preprocessing>=1.0.5 in /usr/local/lib/python3.6/dist-packages (from tensorflow==1.15) (1.1.2)\n",
            "Requirement already satisfied: opt-einsum>=2.3.2 in /usr/local/lib/python3.6/dist-packages (from tensorflow==1.15) (3.3.0)\n",
            "Requirement already satisfied: six>=1.10.0 in /usr/local/lib/python3.6/dist-packages (from tensorflow==1.15) (1.15.0)\n",
            "Requirement already satisfied: keras-applications>=1.0.8 in /usr/local/lib/python3.6/dist-packages (from tensorflow==1.15) (1.0.8)\n",
            "Requirement already satisfied: grpcio>=1.8.6 in /usr/local/lib/python3.6/dist-packages (from tensorflow==1.15) (1.33.2)\n",
            "Requirement already satisfied: google-pasta>=0.1.6 in /usr/local/lib/python3.6/dist-packages (from tensorflow==1.15) (0.2.0)\n",
            "Requirement already satisfied: wrapt>=1.11.1 in /usr/local/lib/python3.6/dist-packages (from tensorflow==1.15) (1.12.1)\n",
            "Requirement already satisfied: termcolor>=1.1.0 in /usr/local/lib/python3.6/dist-packages (from tensorflow==1.15) (1.1.0)\n",
            "Requirement already satisfied: astor>=0.6.0 in /usr/local/lib/python3.6/dist-packages (from tensorflow==1.15) (0.8.1)\n",
            "Requirement already satisfied: tensorboard<1.16.0,>=1.15.0 in /usr/local/lib/python3.6/dist-packages (from tensorflow==1.15) (1.15.0)\n",
            "Requirement already satisfied: wheel>=0.26 in /usr/local/lib/python3.6/dist-packages (from tensorflow==1.15) (0.35.1)\n",
            "Requirement already satisfied: numpy<2.0,>=1.16.0 in /usr/local/lib/python3.6/dist-packages (from tensorflow==1.15) (1.18.5)\n",
            "Requirement already satisfied: protobuf>=3.6.1 in /usr/local/lib/python3.6/dist-packages (from tensorflow==1.15) (3.12.4)\n",
            "Requirement already satisfied: gast==0.2.2 in /usr/local/lib/python3.6/dist-packages (from tensorflow==1.15) (0.2.2)\n",
            "Requirement already satisfied: tensorflow-estimator==1.15.1 in /usr/local/lib/python3.6/dist-packages (from tensorflow==1.15) (1.15.1)\n",
            "Requirement already satisfied: h5py in /usr/local/lib/python3.6/dist-packages (from keras-applications>=1.0.8->tensorflow==1.15) (2.10.0)\n",
            "Requirement already satisfied: setuptools>=41.0.0 in /usr/local/lib/python3.6/dist-packages (from tensorboard<1.16.0,>=1.15.0->tensorflow==1.15) (50.3.2)\n",
            "Requirement already satisfied: markdown>=2.6.8 in /usr/local/lib/python3.6/dist-packages (from tensorboard<1.16.0,>=1.15.0->tensorflow==1.15) (3.3.3)\n",
            "Requirement already satisfied: werkzeug>=0.11.15 in /usr/local/lib/python3.6/dist-packages (from tensorboard<1.16.0,>=1.15.0->tensorflow==1.15) (1.0.1)\n",
            "Requirement already satisfied: importlib-metadata; python_version < \"3.8\" in /usr/local/lib/python3.6/dist-packages (from markdown>=2.6.8->tensorboard<1.16.0,>=1.15.0->tensorflow==1.15) (2.0.0)\n",
            "Requirement already satisfied: zipp>=0.5 in /usr/local/lib/python3.6/dist-packages (from importlib-metadata; python_version < \"3.8\"->markdown>=2.6.8->tensorboard<1.16.0,>=1.15.0->tensorflow==1.15) (3.4.0)\n"
          ],
          "name": "stdout"
        }
      ]
    },
    {
      "cell_type": "code",
      "metadata": {
        "id": "NtCxUQ1_TmhB",
        "colab": {
          "base_uri": "https://localhost:8080/",
          "height": 35
        },
        "outputId": "95d89132-f6f6-4e3e-a66d-62ec56f1ece4"
      },
      "source": [
        "# Imports\n",
        "import cv2\n",
        "import os\n",
        "import pandas as pd \n",
        "import matplotlib.pyplot as plt\n",
        "import matplotlib.image as mpimg\n",
        "import numpy as np\n",
        "import time\n",
        "from skimage import io, transform\n",
        "from PIL import Image\n",
        "\n",
        "from sklearn.model_selection import train_test_split\n",
        "\n",
        "import tensorflow as tf\n",
        "from tensorflow.keras.callbacks import ReduceLROnPlateau\n",
        "from tensorflow.keras.applications import ResNet152V2\n",
        "from tensorflow.keras.models import Sequential\n",
        "from tensorflow.keras.layers import Dense, Dropout\n",
        "from tensorflow.keras.callbacks import ModelCheckpoint, EarlyStopping\n",
        "from tensorflow.keras.optimizers import Adam, RMSprop\n",
        "from tensorflow.keras.preprocessing.image import ImageDataGenerator\n",
        "\n",
        "# Create model\n",
        "from tensorflow.keras.layers import Conv2D, Flatten, Dense, Activation, BatchNormalization, MaxPooling2D, Dropout\n",
        "# Check Tensorflow version.\n",
        "tf.version.VERSION"
      ],
      "execution_count": null,
      "outputs": [
        {
          "output_type": "execute_result",
          "data": {
            "application/vnd.google.colaboratory.intrinsic+json": {
              "type": "string"
            },
            "text/plain": [
              "'1.15.0'"
            ]
          },
          "metadata": {
            "tags": []
          },
          "execution_count": 20
        }
      ]
    },
    {
      "cell_type": "markdown",
      "metadata": {
        "id": "LO5VaK6_2kHB"
      },
      "source": [
        "## 1. Loading Data"
      ]
    },
    {
      "cell_type": "code",
      "metadata": {
        "id": "2kwAMq-36izW",
        "colab": {
          "base_uri": "https://localhost:8080/"
        },
        "outputId": "433e1636-36aa-4f7e-ea6e-a75cc54bdfc1"
      },
      "source": [
        "# Uncomment for clonning the repository\n",
        "!git clone https://github.com/sergiorodenas/ml-data.git"
      ],
      "execution_count": null,
      "outputs": [
        {
          "output_type": "stream",
          "text": [
            "fatal: destination path 'ml-data' already exists and is not an empty directory.\n"
          ],
          "name": "stdout"
        }
      ]
    },
    {
      "cell_type": "code",
      "metadata": {
        "id": "pxZKXv5KyM7T"
      },
      "source": [
        "# Image constants\n",
        "IMAGE_WIDTH=100\n",
        "IMAGE_HEIGHT=100\n",
        "IMAGE_SIZE=(IMAGE_WIDTH, IMAGE_HEIGHT)\n",
        "IMAGE_CHANNELS=3\n",
        "PATH1='./ml-data/helmet-dataset/Train_positive/Train_positive/'\n",
        "PATH2='./ml-data/helmet-dataset/Train_negative/Train_negative/'"
      ],
      "execution_count": null,
      "outputs": []
    },
    {
      "cell_type": "code",
      "metadata": {
        "id": "wQCi3ERdyM96",
        "colab": {
          "base_uri": "https://localhost:8080/"
        },
        "outputId": "3f75d1c9-a963-46ff-d708-0e77574dcaca"
      },
      "source": [
        "# Getting the images\n",
        "filenames_list_yes = []\n",
        "filenames_list_no = []\n",
        "\n",
        "for filename in os.listdir(PATH1):\n",
        "    filenames_list_yes.append(PATH1 + filename)\n",
        "    \n",
        "for filename in os.listdir(PATH2):\n",
        "    filenames_list_no.append(PATH2 + filename)\n",
        "\n",
        "df_yes = pd.DataFrame({\n",
        "    'image': filenames_list_yes,\n",
        "    'category': np.ones(len(filenames_list_yes), str)\n",
        "})\n",
        "df_no = pd.DataFrame({\n",
        "    'image': filenames_list_no,\n",
        "    'category': np.zeros(len(filenames_list_no), str)\n",
        "})\n",
        "print(df_yes.shape, df_no.shape)\n",
        "df = df_yes.append(df_no, ignore_index=True)\n",
        "print(df['image'][0])"
      ],
      "execution_count": null,
      "outputs": [
        {
          "output_type": "stream",
          "text": [
            "(5160, 2) (6580, 2)\n",
            "./ml-data/helmet-dataset/Train_positive/Train_positive/1824.jpg\n"
          ],
          "name": "stdout"
        }
      ]
    },
    {
      "cell_type": "markdown",
      "metadata": {
        "id": "YGKxg5LT2kHD"
      },
      "source": [
        "## 2. Training data"
      ]
    },
    {
      "cell_type": "code",
      "metadata": {
        "id": "ldR4U_TD2kHD"
      },
      "source": [
        "# Hyperparameters\n",
        "BATCH_SIZE=32\n",
        "EPOCHS=20"
      ],
      "execution_count": null,
      "outputs": []
    },
    {
      "cell_type": "code",
      "metadata": {
        "id": "FGJ3njNpyNA4",
        "colab": {
          "base_uri": "https://localhost:8080/"
        },
        "outputId": "0b094c45-2b23-4fa1-8fef-90ea9c1e0cac"
      },
      "source": [
        "#split data into train and valid set\n",
        "train_df, valid_df = train_test_split(df, test_size = 0.15, stratify = df['category'], random_state = 3)\n",
        "train_df = train_df.reset_index(drop=True)\n",
        "valid_df = valid_df.reset_index(drop=True)\n",
        "total_train = train_df.shape[0]\n",
        "total_valid = valid_df.shape[0]\n",
        "print(train_df.shape)\n",
        "print(valid_df.shape)"
      ],
      "execution_count": null,
      "outputs": [
        {
          "output_type": "stream",
          "text": [
            "(9979, 2)\n",
            "(1761, 2)\n"
          ],
          "name": "stdout"
        }
      ]
    },
    {
      "cell_type": "code",
      "metadata": {
        "id": "tD1sYQF-yYFW",
        "colab": {
          "base_uri": "https://localhost:8080/"
        },
        "outputId": "260d984a-c5ec-43f2-9439-27ae25528ee2"
      },
      "source": [
        "#We'll perform individually on train and validation set.\n",
        "train_datagen = ImageDataGenerator(\n",
        "                                   rescale=1./255,\n",
        "                                   )\n",
        "\n",
        "train_gen = train_datagen.flow_from_dataframe(train_df,\n",
        "                                              x_col = 'image',\n",
        "                                              y_col = 'category',\n",
        "                                              target_size = IMAGE_SIZE,\n",
        "                                              batch_size = BATCH_SIZE,\n",
        "                                              class_mode='binary',\n",
        "                                              validate_filenames=False\n",
        "                                             )\n",
        "\n",
        "#we do not augment validation data.\n",
        "validation_datagen = ImageDataGenerator(rescale=1./255)\n",
        "valid_gen = validation_datagen.flow_from_dataframe(\n",
        "    valid_df, \n",
        "    x_col=\"image\",\n",
        "    y_col=\"category\",\n",
        "    target_size=IMAGE_SIZE,\n",
        "    class_mode='binary',\n",
        "    batch_size=BATCH_SIZE,\n",
        "    validate_filenames=False\n",
        ")"
      ],
      "execution_count": null,
      "outputs": [
        {
          "output_type": "stream",
          "text": [
            "Found 9979 non-validated image filenames belonging to 2 classes.\n",
            "Found 1761 non-validated image filenames belonging to 2 classes.\n"
          ],
          "name": "stdout"
        }
      ]
    },
    {
      "cell_type": "code",
      "metadata": {
        "id": "IFtLlcADyY8h"
      },
      "source": [
        "model = Sequential()\n",
        "model.add(Conv2D(64, (3,3), activation='relu', strides=(2,2), input_shape=(IMAGE_WIDTH, IMAGE_HEIGHT, IMAGE_CHANNELS)))\n",
        "model.add(Conv2D(32, (3,3), activation='relu'))\n",
        "model.add(Dropout(0.2))\n",
        "model.add(Conv2D(16, (3,3), activation='relu'))\n",
        "model.add(MaxPooling2D((2,2)))\n",
        "model.add(Dropout(0.1))\n",
        "model.add(Conv2D(8, (3,3), activation='relu'))\n",
        "model.add(MaxPooling2D((2,2)))\n",
        "model.add(Dropout(0.1))\n",
        "model.add(Flatten())\n",
        "model.add(Dense(256, activation='relu'))\n",
        "model.add(Dense(1, activation='sigmoid'))\n",
        "model.compile(loss='binary_crossentropy', optimizer='adam', metrics=['acc', tf.keras.metrics.Precision()])\n"
      ],
      "execution_count": null,
      "outputs": []
    },
    {
      "cell_type": "code",
      "metadata": {
        "id": "eMNO2GhJye6l",
        "colab": {
          "base_uri": "https://localhost:8080/"
        },
        "outputId": "1d81ac40-bb22-46ed-9524-774418ee7c9e"
      },
      "source": [
        "model.summary()"
      ],
      "execution_count": null,
      "outputs": [
        {
          "output_type": "stream",
          "text": [
            "Model: \"sequential_1\"\n",
            "_________________________________________________________________\n",
            "Layer (type)                 Output Shape              Param #   \n",
            "=================================================================\n",
            "conv2d_4 (Conv2D)            (None, 49, 49, 64)        1792      \n",
            "_________________________________________________________________\n",
            "conv2d_5 (Conv2D)            (None, 47, 47, 32)        18464     \n",
            "_________________________________________________________________\n",
            "dropout_3 (Dropout)          (None, 47, 47, 32)        0         \n",
            "_________________________________________________________________\n",
            "conv2d_6 (Conv2D)            (None, 45, 45, 16)        4624      \n",
            "_________________________________________________________________\n",
            "max_pooling2d_2 (MaxPooling2 (None, 22, 22, 16)        0         \n",
            "_________________________________________________________________\n",
            "dropout_4 (Dropout)          (None, 22, 22, 16)        0         \n",
            "_________________________________________________________________\n",
            "conv2d_7 (Conv2D)            (None, 20, 20, 8)         1160      \n",
            "_________________________________________________________________\n",
            "max_pooling2d_3 (MaxPooling2 (None, 10, 10, 8)         0         \n",
            "_________________________________________________________________\n",
            "dropout_5 (Dropout)          (None, 10, 10, 8)         0         \n",
            "_________________________________________________________________\n",
            "flatten_1 (Flatten)          (None, 800)               0         \n",
            "_________________________________________________________________\n",
            "dense_2 (Dense)              (None, 256)               205056    \n",
            "_________________________________________________________________\n",
            "dense_3 (Dense)              (None, 1)                 257       \n",
            "=================================================================\n",
            "Total params: 231,353\n",
            "Trainable params: 231,353\n",
            "Non-trainable params: 0\n",
            "_________________________________________________________________\n"
          ],
          "name": "stdout"
        }
      ]
    },
    {
      "cell_type": "markdown",
      "metadata": {
        "id": "syx8YWEp2kHD"
      },
      "source": [
        "## 3. Train the model"
      ]
    },
    {
      "cell_type": "code",
      "metadata": {
        "id": "LDqX4hWTye8i"
      },
      "source": [
        "learning_rate_reduction = ReduceLROnPlateau(monitor='val_acc', \n",
        "                                            patience=2, \n",
        "                                            verbose=1, \n",
        "                                            factor=0.5, \n",
        "                                            min_lr=0.00001)\n",
        "checkpointer = ModelCheckpoint(filepath = 'mask.weights.best.hdf5', save_best_only = True, save_weights_only = True)\n",
        "early_stop = EarlyStopping(monitor='loss', patience=3)\n",
        "callbacks = [learning_rate_reduction, checkpointer, early_stop]"
      ],
      "execution_count": null,
      "outputs": []
    },
    {
      "cell_type": "code",
      "metadata": {
        "id": "BqURES9vye_j",
        "colab": {
          "base_uri": "https://localhost:8080/"
        },
        "outputId": "85a57786-0e21-44aa-f564-a03c04d16af3"
      },
      "source": [
        "start = time.time()\n",
        "\n",
        "model.fit_generator(train_gen,\n",
        "                    epochs = EPOCHS,\n",
        "                    validation_data = valid_gen,\n",
        "                    validation_steps=total_valid//BATCH_SIZE,\n",
        "                    steps_per_epoch=total_train//BATCH_SIZE,\n",
        "                    callbacks = callbacks)\n",
        "\n",
        "endTime = time.time() - start\n",
        "print(\"Total time: \", endTime, \"seconds\")"
      ],
      "execution_count": null,
      "outputs": [
        {
          "output_type": "stream",
          "text": [
            "Epoch 1/20\n",
            "309/311 [============================>.] - ETA: 0s - loss: 0.1944 - acc: 0.9191 - precision_1: 0.9015Epoch 1/20\n",
            "311/311 [==============================] - 12s 39ms/step - loss: 0.1939 - acc: 0.9192 - precision_1: 0.9013 - val_loss: 0.1320 - val_acc: 0.9591 - val_precision_1: 0.9270\n",
            "Epoch 2/20\n",
            "310/311 [============================>.] - ETA: 0s - loss: 0.1123 - acc: 0.9583 - precision_1: 0.9468Epoch 1/20\n",
            "311/311 [==============================] - 11s 36ms/step - loss: 0.1121 - acc: 0.9585 - precision_1: 0.9470 - val_loss: 0.1358 - val_acc: 0.9324 - val_precision_1: 0.9895\n",
            "Epoch 3/20\n",
            "309/311 [============================>.] - ETA: 0s - loss: 0.0842 - acc: 0.9688 - precision_1: 0.9622Epoch 1/20\n",
            "311/311 [==============================] - 11s 36ms/step - loss: 0.0841 - acc: 0.9689 - precision_1: 0.9622 - val_loss: 0.0543 - val_acc: 0.9790 - val_precision_1: 0.9792\n",
            "Epoch 4/20\n",
            "309/311 [============================>.] - ETA: 0s - loss: 0.0710 - acc: 0.9725 - precision_1: 0.9668Epoch 1/20\n",
            "311/311 [==============================] - 11s 37ms/step - loss: 0.0713 - acc: 0.9724 - precision_1: 0.9668 - val_loss: 0.0860 - val_acc: 0.9739 - val_precision_1: 0.9727\n",
            "Epoch 5/20\n",
            "310/311 [============================>.] - ETA: 0s - loss: 0.0676 - acc: 0.9757 - precision_1: 0.9693Epoch 1/20\n",
            " 55/311 [====>.........................] - ETA: 7s - loss: 0.0713 - acc: 0.9676 - precision_1: 0.9748\n",
            "Epoch 00005: ReduceLROnPlateau reducing learning rate to 0.0005000000237487257.\n",
            "311/311 [==============================] - 11s 37ms/step - loss: 0.0674 - acc: 0.9758 - precision_1: 0.9694 - val_loss: 0.0713 - val_acc: 0.9676 - val_precision_1: 0.9748\n",
            "Epoch 6/20\n",
            "310/311 [============================>.] - ETA: 0s - loss: 0.0500 - acc: 0.9819 - precision_1: 0.9765Epoch 1/20\n",
            "311/311 [==============================] - 11s 36ms/step - loss: 0.0499 - acc: 0.9820 - precision_1: 0.9766 - val_loss: 0.0606 - val_acc: 0.9790 - val_precision_1: 0.9855\n",
            "Epoch 7/20\n",
            "310/311 [============================>.] - ETA: 0s - loss: 0.0445 - acc: 0.9836 - precision_1: 0.9788Epoch 1/20\n",
            "311/311 [==============================] - 11s 36ms/step - loss: 0.0446 - acc: 0.9835 - precision_1: 0.9789 - val_loss: 0.0494 - val_acc: 0.9812 - val_precision_1: 0.9756\n",
            "Epoch 8/20\n",
            "309/311 [============================>.] - ETA: 0s - loss: 0.0419 - acc: 0.9850 - precision_1: 0.9807Epoch 1/20\n",
            "311/311 [==============================] - 11s 35ms/step - loss: 0.0419 - acc: 0.9850 - precision_1: 0.9806 - val_loss: 0.0695 - val_acc: 0.9790 - val_precision_1: 0.9842\n",
            "Epoch 9/20\n",
            "309/311 [============================>.] - ETA: 0s - loss: 0.0371 - acc: 0.9876 - precision_1: 0.9837Epoch 1/20\n",
            " 55/311 [====>.........................] - ETA: 7s - loss: 0.0663 - acc: 0.9756 - precision_1: 0.9778\n",
            "Epoch 00009: ReduceLROnPlateau reducing learning rate to 0.0002500000118743628.\n",
            "311/311 [==============================] - 11s 35ms/step - loss: 0.0369 - acc: 0.9876 - precision_1: 0.9838 - val_loss: 0.0663 - val_acc: 0.9756 - val_precision_1: 0.9778\n",
            "Epoch 10/20\n",
            "310/311 [============================>.] - ETA: 0s - loss: 0.0281 - acc: 0.9907 - precision_1: 0.9875Epoch 1/20\n",
            "311/311 [==============================] - 12s 37ms/step - loss: 0.0281 - acc: 0.9907 - precision_1: 0.9875 - val_loss: 0.0550 - val_acc: 0.9812 - val_precision_1: 0.9920\n",
            "Epoch 11/20\n",
            "310/311 [============================>.] - ETA: 0s - loss: 0.0285 - acc: 0.9901 - precision_1: 0.9881Epoch 1/20\n",
            "311/311 [==============================] - 11s 36ms/step - loss: 0.0285 - acc: 0.9901 - precision_1: 0.9881 - val_loss: 0.0463 - val_acc: 0.9818 - val_precision_1: 0.9806\n",
            "Epoch 12/20\n",
            "309/311 [============================>.] - ETA: 0s - loss: 0.0251 - acc: 0.9922 - precision_1: 0.9888Epoch 1/20\n",
            "311/311 [==============================] - 11s 36ms/step - loss: 0.0250 - acc: 0.9923 - precision_1: 0.9889 - val_loss: 0.0509 - val_acc: 0.9812 - val_precision_1: 0.9793\n",
            "Epoch 13/20\n",
            "309/311 [============================>.] - ETA: 0s - loss: 0.0245 - acc: 0.9918 - precision_1: 0.9890Epoch 1/20\n",
            " 54/311 [====>.........................] - ETA: 8s - loss: 0.0553 - acc: 0.9797 - precision_1: 0.9776\n",
            "Epoch 00013: ReduceLROnPlateau reducing learning rate to 0.0001250000059371814.\n",
            "311/311 [==============================] - 11s 36ms/step - loss: 0.0244 - acc: 0.9919 - precision_1: 0.9890 - val_loss: 0.0545 - val_acc: 0.9801 - val_precision_1: 0.9780\n",
            "Epoch 14/20\n",
            "309/311 [============================>.] - ETA: 0s - loss: 0.0180 - acc: 0.9934 - precision_1: 0.9912Epoch 1/20\n",
            "311/311 [==============================] - 11s 35ms/step - loss: 0.0181 - acc: 0.9934 - precision_1: 0.9911 - val_loss: 0.0502 - val_acc: 0.9812 - val_precision_1: 0.9768\n",
            "Epoch 15/20\n",
            "310/311 [============================>.] - ETA: 0s - loss: 0.0162 - acc: 0.9953 - precision_1: 0.9936Epoch 1/20\n",
            "311/311 [==============================] - 11s 36ms/step - loss: 0.0162 - acc: 0.9953 - precision_1: 0.9936 - val_loss: 0.0489 - val_acc: 0.9830 - val_precision_1: 0.9831\n",
            "Epoch 16/20\n",
            "309/311 [============================>.] - ETA: 0s - loss: 0.0174 - acc: 0.9944 - precision_1: 0.9927Epoch 1/20\n",
            "311/311 [==============================] - 11s 35ms/step - loss: 0.0173 - acc: 0.9945 - precision_1: 0.9927 - val_loss: 0.0558 - val_acc: 0.9790 - val_precision_1: 0.9767\n",
            "Epoch 17/20\n",
            "309/311 [============================>.] - ETA: 0s - loss: 0.0143 - acc: 0.9952 - precision_1: 0.9931Epoch 1/20\n",
            " 54/311 [====>.........................] - ETA: 8s - loss: 0.0445 - acc: 0.9826 - precision_1: 0.9866\n",
            "Epoch 00017: ReduceLROnPlateau reducing learning rate to 6.25000029685907e-05.\n",
            "311/311 [==============================] - 11s 35ms/step - loss: 0.0148 - acc: 0.9952 - precision_1: 0.9930 - val_loss: 0.0438 - val_acc: 0.9830 - val_precision_1: 0.9869\n",
            "Epoch 18/20\n",
            "310/311 [============================>.] - ETA: 0s - loss: 0.0118 - acc: 0.9963 - precision_1: 0.9952Epoch 1/20\n",
            "311/311 [==============================] - 11s 35ms/step - loss: 0.0118 - acc: 0.9963 - precision_1: 0.9952 - val_loss: 0.0449 - val_acc: 0.9812 - val_precision_1: 0.9843\n",
            "Epoch 19/20\n",
            "310/311 [============================>.] - ETA: 0s - loss: 0.0113 - acc: 0.9960 - precision_1: 0.9938Epoch 1/20\n",
            " 55/311 [====>.........................] - ETA: 8s - loss: 0.0515 - acc: 0.9830 - precision_1: 0.9869\n",
            "Epoch 00019: ReduceLROnPlateau reducing learning rate to 3.125000148429535e-05.\n",
            "311/311 [==============================] - 11s 36ms/step - loss: 0.0113 - acc: 0.9960 - precision_1: 0.9938 - val_loss: 0.0515 - val_acc: 0.9830 - val_precision_1: 0.9869\n",
            "Epoch 20/20\n",
            "310/311 [============================>.] - ETA: 0s - loss: 0.0105 - acc: 0.9969 - precision_1: 0.9966Epoch 1/20\n",
            "311/311 [==============================] - 11s 35ms/step - loss: 0.0105 - acc: 0.9969 - precision_1: 0.9966 - val_loss: 0.0486 - val_acc: 0.9847 - val_precision_1: 0.9870\n",
            "Total time:  223.78642678260803 seconds\n"
          ],
          "name": "stdout"
        }
      ]
    },
    {
      "cell_type": "code",
      "metadata": {
        "id": "jDcAQxo3ynRp",
        "colab": {
          "base_uri": "https://localhost:8080/",
          "height": 783
        },
        "outputId": "6d74b0b9-ffef-4404-ee9e-ecdd50cddf8f"
      },
      "source": [
        "loss = pd.DataFrame(model.history.history)\n",
        "loss[['loss', 'val_loss']].plot()\n",
        "loss[['acc', 'val_acc']].plot()\n",
        "loss[['precision_1', 'val_precision_1']].plot()"
      ],
      "execution_count": null,
      "outputs": [
        {
          "output_type": "execute_result",
          "data": {
            "text/plain": [
              "<matplotlib.axes._subplots.AxesSubplot at 0x7f15d143f0f0>"
            ]
          },
          "metadata": {
            "tags": []
          },
          "execution_count": 33
        },
        {
          "output_type": "display_data",
          "data": {
            "image/png": "[encoded data removed]",
            "text/plain": [
              "<Figure size 432x288 with 1 Axes>"
            ]
          },
          "metadata": {
            "tags": [],
            "needs_background": "light"
          }
        },
        {
          "output_type": "display_data",
          "data": {
            "image/png": "[encoded data removed]",
            "text/plain": [
              "<Figure size 432x288 with 1 Axes>"
            ]
          },
          "metadata": {
            "tags": [],
            "needs_background": "light"
          }
        },
        {
          "output_type": "display_data",
          "data": {
            "image/png": "[encoded data removed]",
            "text/plain": [
              "<Figure size 432x288 with 1 Axes>"
            ]
          },
          "metadata": {
            "tags": [],
            "needs_background": "light"
          }
        }
      ]
    },
    {
      "cell_type": "code",
      "metadata": {
        "colab": {
          "base_uri": "https://localhost:8080/"
        },
        "id": "FBJt2NeG67b2",
        "outputId": "c4e21365-fd40-45b0-bf2c-c18c43dbd77a"
      },
      "source": [
        "loss_mean = loss.mean()\n",
        "loss_mean"
      ],
      "execution_count": null,
      "outputs": [
        {
          "output_type": "execute_result",
          "data": {
            "text/plain": [
              "loss               0.045391\n",
              "acc                0.983261\n",
              "precision_1        0.978807\n",
              "val_loss           0.063766\n",
              "val_acc            0.976307\n",
              "val_precision_1    0.978905\n",
              "lr                 0.000433\n",
              "dtype: float64"
            ]
          },
          "metadata": {
            "tags": []
          },
          "execution_count": 32
        }
      ]
    },
    {
      "cell_type": "code",
      "metadata": {
        "colab": {
          "base_uri": "https://localhost:8080/"
        },
        "id": "8fBKEAlA7uYZ",
        "outputId": "d7e3fc97-2e7b-4c96-f800-5ed288bca204"
      },
      "source": [
        "print(\"Epochs: \", EPOCHS)\n",
        "print(\"Train time: \", endTime, \"seconds\") "
      ],
      "execution_count": null,
      "outputs": [
        {
          "output_type": "stream",
          "text": [
            "Epochs:  20\n",
            "Train time:  223.78642678260803 seconds\n"
          ],
          "name": "stdout"
        }
      ]
    },
    {
      "cell_type": "code",
      "metadata": {
        "colab": {
          "base_uri": "https://localhost:8080/"
        },
        "id": "8DXIXq4OHA08",
        "outputId": "de984322-1268-4556-f8e1-8d9a519610a1"
      },
      "source": [
        "print(\"| ALGORITMO | {} | {} |  {} |   {} |  {} |      {} | {} |      {} |   {} |     |\".format(loss_mean.acc, loss_mean.loss, loss_mean.val_acc, loss_mean.val_loss, loss_mean.precision_1, loss_mean.val_precision_1, loss_mean.lr, len(model.history.epoch), endTime))\n"
      ],
      "execution_count": null,
      "outputs": [
        {
          "output_type": "stream",
          "text": [
            "| ALGORITMO | 0.9832612931728363 | 0.04539113950238018 |  0.976306813955307 |   0.06376616358000817 |  0.9788066536188126 |      0.9789049714803696 | 0.00043281252055749064 |      20 |   223.78642678260803 |     |\n"
          ],
          "name": "stdout"
        }
      ]
    }
  ]
}