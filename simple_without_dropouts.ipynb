{
  "nbformat": 4,
  "nbformat_minor": 0,
  "metadata": {
    "colab": {
      "name": "Hola.ipynb",
      "provenance": [],
      "collapsed_sections": [],
      "toc_visible": true,
      "include_colab_link": true
    },
    "kernelspec": {
      "name": "python3",
      "display_name": "Python 3"
    },
    "accelerator": "GPU"
  },
  "cells": [
    {
      "cell_type": "markdown",
      "metadata": {
        "id": "view-in-github",
        "colab_type": "text"
      },
      "source": [
        "<a href=\"https://colab.research.google.com/github/EduFdezSoy/safety-first/blob/master/simple_without_dropouts.ipynb\" target=\"_parent\"><img src=\"https://colab.research.google.com/assets/colab-badge.svg\" alt=\"Open In Colab\"/></a>"
      ]
    },
    {
      "cell_type": "markdown",
      "metadata": {
        "id": "0MS0bl_OzJhu"
      },
      "source": [
        "# Safety helmet detector"
      ]
    },
    {
      "cell_type": "markdown",
      "metadata": {
        "id": "ki8M96GzzElM"
      },
      "source": [
        "Source: https://www.kaggle.com/ehddnr301/helmet-classification"
      ]
    },
    {
      "cell_type": "code",
      "metadata": {
        "id": "xOoHKAbJ6eVy",
        "colab": {
          "base_uri": "https://localhost:8080/"
        },
        "outputId": "fc6096b3-fc43-4774-a1c7-86367ee9d266"
      },
      "source": [
        "# Uncomment for install tensorflow 1.15.\n",
        "!pip install tensorflow==1.15"
      ],
      "execution_count": 21,
      "outputs": [
        {
          "output_type": "stream",
          "text": [
            "Requirement already satisfied: tensorflow==1.15 in /usr/local/lib/python3.6/dist-packages (1.15.0)\n",
            "Requirement already satisfied: opt-einsum>=2.3.2 in /usr/local/lib/python3.6/dist-packages (from tensorflow==1.15) (3.3.0)\n",
            "Requirement already satisfied: grpcio>=1.8.6 in /usr/local/lib/python3.6/dist-packages (from tensorflow==1.15) (1.33.2)\n",
            "Requirement already satisfied: keras-applications>=1.0.8 in /usr/local/lib/python3.6/dist-packages (from tensorflow==1.15) (1.0.8)\n",
            "Requirement already satisfied: absl-py>=0.7.0 in /usr/local/lib/python3.6/dist-packages (from tensorflow==1.15) (0.10.0)\n",
            "Requirement already satisfied: wrapt>=1.11.1 in /usr/local/lib/python3.6/dist-packages (from tensorflow==1.15) (1.12.1)\n",
            "Requirement already satisfied: numpy<2.0,>=1.16.0 in /usr/local/lib/python3.6/dist-packages (from tensorflow==1.15) (1.18.5)\n",
            "Requirement already satisfied: wheel>=0.26 in /usr/local/lib/python3.6/dist-packages (from tensorflow==1.15) (0.35.1)\n",
            "Requirement already satisfied: google-pasta>=0.1.6 in /usr/local/lib/python3.6/dist-packages (from tensorflow==1.15) (0.2.0)\n",
            "Requirement already satisfied: six>=1.10.0 in /usr/local/lib/python3.6/dist-packages (from tensorflow==1.15) (1.15.0)\n",
            "Requirement already satisfied: protobuf>=3.6.1 in /usr/local/lib/python3.6/dist-packages (from tensorflow==1.15) (3.12.4)\n",
            "Requirement already satisfied: astor>=0.6.0 in /usr/local/lib/python3.6/dist-packages (from tensorflow==1.15) (0.8.1)\n",
            "Requirement already satisfied: tensorflow-estimator==1.15.1 in /usr/local/lib/python3.6/dist-packages (from tensorflow==1.15) (1.15.1)\n",
            "Requirement already satisfied: termcolor>=1.1.0 in /usr/local/lib/python3.6/dist-packages (from tensorflow==1.15) (1.1.0)\n",
            "Requirement already satisfied: keras-preprocessing>=1.0.5 in /usr/local/lib/python3.6/dist-packages (from tensorflow==1.15) (1.1.2)\n",
            "Requirement already satisfied: tensorboard<1.16.0,>=1.15.0 in /usr/local/lib/python3.6/dist-packages (from tensorflow==1.15) (1.15.0)\n",
            "Requirement already satisfied: gast==0.2.2 in /usr/local/lib/python3.6/dist-packages (from tensorflow==1.15) (0.2.2)\n",
            "Requirement already satisfied: h5py in /usr/local/lib/python3.6/dist-packages (from keras-applications>=1.0.8->tensorflow==1.15) (2.10.0)\n",
            "Requirement already satisfied: setuptools in /usr/local/lib/python3.6/dist-packages (from protobuf>=3.6.1->tensorflow==1.15) (50.3.2)\n",
            "Requirement already satisfied: werkzeug>=0.11.15 in /usr/local/lib/python3.6/dist-packages (from tensorboard<1.16.0,>=1.15.0->tensorflow==1.15) (1.0.1)\n",
            "Requirement already satisfied: markdown>=2.6.8 in /usr/local/lib/python3.6/dist-packages (from tensorboard<1.16.0,>=1.15.0->tensorflow==1.15) (3.3.3)\n",
            "Requirement already satisfied: importlib-metadata; python_version < \"3.8\" in /usr/local/lib/python3.6/dist-packages (from markdown>=2.6.8->tensorboard<1.16.0,>=1.15.0->tensorflow==1.15) (2.0.0)\n",
            "Requirement already satisfied: zipp>=0.5 in /usr/local/lib/python3.6/dist-packages (from importlib-metadata; python_version < \"3.8\"->markdown>=2.6.8->tensorboard<1.16.0,>=1.15.0->tensorflow==1.15) (3.4.0)\n"
          ],
          "name": "stdout"
        }
      ]
    },
    {
      "cell_type": "code",
      "metadata": {
        "id": "NtCxUQ1_TmhB",
        "colab": {
          "base_uri": "https://localhost:8080/",
          "height": 35
        },
        "outputId": "92a1b5c8-e58e-4e15-fca5-904e7df4c942"
      },
      "source": [
        "# Imports\n",
        "import cv2\n",
        "import os\n",
        "import pandas as pd \n",
        "import matplotlib.pyplot as plt\n",
        "import matplotlib.image as mpimg\n",
        "import numpy as np\n",
        "import time\n",
        "from skimage import io, transform\n",
        "from PIL import Image\n",
        "\n",
        "from sklearn.model_selection import train_test_split\n",
        "\n",
        "import tensorflow as tf\n",
        "from tensorflow.keras.callbacks import ReduceLROnPlateau\n",
        "from tensorflow.keras.applications import ResNet152V2\n",
        "from tensorflow.keras.models import Sequential\n",
        "from tensorflow.keras.layers import Dense, Dropout\n",
        "from tensorflow.keras.callbacks import ModelCheckpoint, EarlyStopping\n",
        "from tensorflow.keras.optimizers import Adam, RMSprop\n",
        "from tensorflow.keras.preprocessing.image import ImageDataGenerator\n",
        "\n",
        "# Create model\n",
        "from tensorflow.keras.layers import Conv2D, Flatten, Dense, Activation, BatchNormalization, MaxPooling2D, Dropout\n",
        "# Check Tensorflow version.\n",
        "tf.version.VERSION"
      ],
      "execution_count": 22,
      "outputs": [
        {
          "output_type": "execute_result",
          "data": {
            "application/vnd.google.colaboratory.intrinsic+json": {
              "type": "string"
            },
            "text/plain": [
              "'1.15.0'"
            ]
          },
          "metadata": {
            "tags": []
          },
          "execution_count": 22
        }
      ]
    },
    {
      "cell_type": "markdown",
      "metadata": {
        "id": "LO5VaK6_2kHB"
      },
      "source": [
        "## 1. Loading Data"
      ]
    },
    {
      "cell_type": "code",
      "metadata": {
        "id": "2kwAMq-36izW",
        "colab": {
          "base_uri": "https://localhost:8080/"
        },
        "outputId": "c4b6dbcd-e386-4d29-8704-b9073d55a23a"
      },
      "source": [
        "# Uncomment for clonning the repository\n",
        "!git clone https://github.com/sergiorodenas/ml-data.git"
      ],
      "execution_count": 23,
      "outputs": [
        {
          "output_type": "stream",
          "text": [
            "fatal: destination path 'ml-data' already exists and is not an empty directory.\n"
          ],
          "name": "stdout"
        }
      ]
    },
    {
      "cell_type": "code",
      "metadata": {
        "id": "pxZKXv5KyM7T"
      },
      "source": [
        "# Image constants\n",
        "IMAGE_WIDTH=100\n",
        "IMAGE_HEIGHT=100\n",
        "IMAGE_SIZE=(IMAGE_WIDTH, IMAGE_HEIGHT)\n",
        "IMAGE_CHANNELS=3\n",
        "PATH1='./ml-data/helmet-dataset/Train_positive/Train_positive/'\n",
        "PATH2='./ml-data/helmet-dataset/Train_negative/Train_negative/'"
      ],
      "execution_count": 24,
      "outputs": []
    },
    {
      "cell_type": "code",
      "metadata": {
        "id": "wQCi3ERdyM96",
        "colab": {
          "base_uri": "https://localhost:8080/"
        },
        "outputId": "1efc0492-fc96-4deb-9ecb-4d5d074de563"
      },
      "source": [
        "# Getting the images\n",
        "filenames_list_yes = []\n",
        "filenames_list_no = []\n",
        "\n",
        "for filename in os.listdir(PATH1):\n",
        "    filenames_list_yes.append(PATH1 + filename)\n",
        "    \n",
        "for filename in os.listdir(PATH2):\n",
        "    filenames_list_no.append(PATH2 + filename)\n",
        "\n",
        "df_yes = pd.DataFrame({\n",
        "    'image': filenames_list_yes,\n",
        "    'category': np.ones(len(filenames_list_yes), str)\n",
        "})\n",
        "df_no = pd.DataFrame({\n",
        "    'image': filenames_list_no,\n",
        "    'category': np.zeros(len(filenames_list_no), str)\n",
        "})\n",
        "print(df_yes.shape, df_no.shape)\n",
        "df = df_yes.append(df_no, ignore_index=True)\n",
        "print(df['image'][0])"
      ],
      "execution_count": 25,
      "outputs": [
        {
          "output_type": "stream",
          "text": [
            "(5160, 2) (6580, 2)\n",
            "./ml-data/helmet-dataset/Train_positive/Train_positive/4325.jpg\n"
          ],
          "name": "stdout"
        }
      ]
    },
    {
      "cell_type": "markdown",
      "metadata": {
        "id": "YGKxg5LT2kHD"
      },
      "source": [
        "## 2. Training data"
      ]
    },
    {
      "cell_type": "code",
      "metadata": {
        "id": "ldR4U_TD2kHD"
      },
      "source": [
        "# Hyperparameters\n",
        "BATCH_SIZE=32\n",
        "EPOCHS=20"
      ],
      "execution_count": 26,
      "outputs": []
    },
    {
      "cell_type": "code",
      "metadata": {
        "id": "FGJ3njNpyNA4",
        "colab": {
          "base_uri": "https://localhost:8080/"
        },
        "outputId": "4f4cd3f2-ce75-4326-e2fc-bde1957c74dc"
      },
      "source": [
        "#split data into train and valid set\n",
        "train_df, valid_df = train_test_split(df, test_size = 0.15, stratify = df['category'], random_state = 3)\n",
        "train_df = train_df.reset_index(drop=True)\n",
        "valid_df = valid_df.reset_index(drop=True)\n",
        "total_train = train_df.shape[0]\n",
        "total_valid = valid_df.shape[0]\n",
        "print(train_df.shape)\n",
        "print(valid_df.shape)"
      ],
      "execution_count": 27,
      "outputs": [
        {
          "output_type": "stream",
          "text": [
            "(9979, 2)\n",
            "(1761, 2)\n"
          ],
          "name": "stdout"
        }
      ]
    },
    {
      "cell_type": "code",
      "metadata": {
        "id": "tD1sYQF-yYFW",
        "colab": {
          "base_uri": "https://localhost:8080/"
        },
        "outputId": "0b2f4dcd-3c3e-43ac-ffad-3cdce64d94a5"
      },
      "source": [
        "#We'll perform individually on train and validation set.\n",
        "train_datagen = ImageDataGenerator(\n",
        "                                   rescale=1./255,\n",
        "                                   )\n",
        "\n",
        "train_gen = train_datagen.flow_from_dataframe(train_df,\n",
        "                                              x_col = 'image',\n",
        "                                              y_col = 'category',\n",
        "                                              target_size = IMAGE_SIZE,\n",
        "                                              batch_size = BATCH_SIZE,\n",
        "                                              class_mode='binary',\n",
        "                                              validate_filenames=False\n",
        "                                             )\n",
        "\n",
        "#we do not augment validation data.\n",
        "validation_datagen = ImageDataGenerator(rescale=1./255)\n",
        "valid_gen = validation_datagen.flow_from_dataframe(\n",
        "    valid_df, \n",
        "    x_col=\"image\",\n",
        "    y_col=\"category\",\n",
        "    target_size=IMAGE_SIZE,\n",
        "    class_mode='binary',\n",
        "    batch_size=BATCH_SIZE,\n",
        "    validate_filenames=False\n",
        ")"
      ],
      "execution_count": 28,
      "outputs": [
        {
          "output_type": "stream",
          "text": [
            "Found 9979 non-validated image filenames belonging to 2 classes.\n",
            "Found 1761 non-validated image filenames belonging to 2 classes.\n"
          ],
          "name": "stdout"
        }
      ]
    },
    {
      "cell_type": "code",
      "metadata": {
        "id": "IFtLlcADyY8h"
      },
      "source": [
        "model = Sequential()\n",
        "model.add(Conv2D(64, (3,3), activation='relu', strides=(2,2), input_shape=(IMAGE_WIDTH, IMAGE_HEIGHT, IMAGE_CHANNELS)))\n",
        "model.add(Conv2D(64, (3,3), activation='relu'))\n",
        "model.add(Flatten())\n",
        "model.add(Dense(256, activation='relu'))\n",
        "model.add(Dense(1, activation='sigmoid'))\n",
        "model.compile(loss='binary_crossentropy', optimizer='adam', metrics=['acc', 'Precision'])\n"
      ],
      "execution_count": 29,
      "outputs": []
    },
    {
      "cell_type": "code",
      "metadata": {
        "id": "eMNO2GhJye6l",
        "colab": {
          "base_uri": "https://localhost:8080/"
        },
        "outputId": "1f42f0ed-fe4a-440f-8ee9-b7ed7508b058"
      },
      "source": [
        "model.summary()"
      ],
      "execution_count": 30,
      "outputs": [
        {
          "output_type": "stream",
          "text": [
            "Model: \"sequential_1\"\n",
            "_________________________________________________________________\n",
            "Layer (type)                 Output Shape              Param #   \n",
            "=================================================================\n",
            "conv2d_2 (Conv2D)            (None, 49, 49, 64)        1792      \n",
            "_________________________________________________________________\n",
            "conv2d_3 (Conv2D)            (None, 47, 47, 64)        36928     \n",
            "_________________________________________________________________\n",
            "flatten_1 (Flatten)          (None, 141376)            0         \n",
            "_________________________________________________________________\n",
            "dense_2 (Dense)              (None, 256)               36192512  \n",
            "_________________________________________________________________\n",
            "dense_3 (Dense)              (None, 1)                 257       \n",
            "=================================================================\n",
            "Total params: 36,231,489\n",
            "Trainable params: 36,231,489\n",
            "Non-trainable params: 0\n",
            "_________________________________________________________________\n"
          ],
          "name": "stdout"
        }
      ]
    },
    {
      "cell_type": "markdown",
      "metadata": {
        "id": "syx8YWEp2kHD"
      },
      "source": [
        "## 3. Train the model"
      ]
    },
    {
      "cell_type": "code",
      "metadata": {
        "id": "LDqX4hWTye8i"
      },
      "source": [
        "learning_rate_reduction = ReduceLROnPlateau(monitor='val_acc', \n",
        "                                            patience=2, \n",
        "                                            verbose=1, \n",
        "                                            factor=0.5, \n",
        "                                            min_lr=0.00001)\n",
        "checkpointer = ModelCheckpoint(filepath = 'mask.weights.best.hdf5', save_best_only = True, save_weights_only = True)\n",
        "early_stop = EarlyStopping(monitor='loss', patience=3)\n",
        "callbacks = [learning_rate_reduction, checkpointer, early_stop]"
      ],
      "execution_count": 31,
      "outputs": []
    },
    {
      "cell_type": "code",
      "metadata": {
        "id": "BqURES9vye_j",
        "colab": {
          "base_uri": "https://localhost:8080/"
        },
        "outputId": "c1045193-7c97-4b31-c90f-fd4c60420faf"
      },
      "source": [
        "start = time.time()\n",
        "\n",
        "model.fit_generator(train_gen,\n",
        "                    epochs = EPOCHS,\n",
        "                    validation_data = valid_gen,\n",
        "                    validation_steps=total_valid//BATCH_SIZE,\n",
        "                    steps_per_epoch=total_train//BATCH_SIZE,\n",
        "                    callbacks = callbacks)\n",
        "\n",
        "endTime = time.time() - start\n",
        "print(\"Total time: \", endTime, \"seconds\")"
      ],
      "execution_count": 32,
      "outputs": [
        {
          "output_type": "stream",
          "text": [
            "Epoch 1/20\n",
            "309/311 [============================>.] - ETA: 0s - loss: 0.1731 - acc: 0.9400 - precision_2: 0.9285Epoch 1/20\n",
            "311/311 [==============================] - 11s 36ms/step - loss: 0.1728 - acc: 0.9403 - precision_2: 0.9286 - val_loss: 0.0869 - val_acc: 0.9648 - val_precision_2: 0.9518\n",
            "Epoch 2/20\n",
            "309/311 [============================>.] - ETA: 0s - loss: 0.0944 - acc: 0.9687 - precision_2: 0.9635Epoch 1/20\n",
            "311/311 [==============================] - 10s 33ms/step - loss: 0.0946 - acc: 0.9686 - precision_2: 0.9631 - val_loss: 0.0803 - val_acc: 0.9722 - val_precision_2: 0.9726\n",
            "Epoch 3/20\n",
            "308/311 [============================>.] - ETA: 0s - loss: 0.0540 - acc: 0.9797 - precision_2: 0.9752Epoch 1/20\n",
            "311/311 [==============================] - 10s 33ms/step - loss: 0.0540 - acc: 0.9797 - precision_2: 0.9754 - val_loss: 0.0475 - val_acc: 0.9841 - val_precision_2: 0.9832\n",
            "Epoch 4/20\n",
            "309/311 [============================>.] - ETA: 0s - loss: 0.0424 - acc: 0.9846 - precision_2: 0.9817Epoch 1/20\n",
            "311/311 [==============================] - 10s 32ms/step - loss: 0.0434 - acc: 0.9843 - precision_2: 0.9814 - val_loss: 0.1031 - val_acc: 0.9688 - val_precision_2: 0.9444\n",
            "Epoch 5/20\n",
            "309/311 [============================>.] - ETA: 0s - loss: 0.0330 - acc: 0.9876 - precision_2: 0.9842Epoch 1/20\n",
            " 54/311 [====>.........................] - ETA: 8s - loss: 0.0722 - acc: 0.9826 - precision_2: 0.9777\n",
            "Epoch 00005: ReduceLROnPlateau reducing learning rate to 0.0005000000237487257.\n",
            "311/311 [==============================] - 10s 34ms/step - loss: 0.0330 - acc: 0.9875 - precision_2: 0.9843 - val_loss: 0.0719 - val_acc: 0.9824 - val_precision_2: 0.9781\n",
            "Epoch 6/20\n",
            "309/311 [============================>.] - ETA: 0s - loss: 0.0164 - acc: 0.9952 - precision_2: 0.9935Epoch 1/20\n",
            "311/311 [==============================] - 10s 33ms/step - loss: 0.0164 - acc: 0.9953 - precision_2: 0.9936 - val_loss: 0.0589 - val_acc: 0.9841 - val_precision_2: 0.9782\n",
            "Epoch 7/20\n",
            "310/311 [============================>.] - ETA: 0s - loss: 0.0072 - acc: 0.9974 - precision_2: 0.9963Epoch 1/20\n",
            "311/311 [==============================] - 11s 34ms/step - loss: 0.0071 - acc: 0.9974 - precision_2: 0.9964 - val_loss: 0.0496 - val_acc: 0.9898 - val_precision_2: 0.9896\n",
            "Epoch 8/20\n",
            "309/311 [============================>.] - ETA: 0s - loss: 0.0067 - acc: 0.9980 - precision_2: 0.9979Epoch 1/20\n",
            "311/311 [==============================] - 11s 34ms/step - loss: 0.0066 - acc: 0.9980 - precision_2: 0.9979 - val_loss: 0.0772 - val_acc: 0.9812 - val_precision_2: 0.9920\n",
            "Epoch 9/20\n",
            "310/311 [============================>.] - ETA: 0s - loss: 0.0082 - acc: 0.9973 - precision_2: 0.9968Epoch 1/20\n",
            " 54/311 [====>.........................] - ETA: 8s - loss: 0.0815 - acc: 0.9832 - precision_2: 0.9828\n",
            "Epoch 00009: ReduceLROnPlateau reducing learning rate to 0.0002500000118743628.\n",
            "311/311 [==============================] - 11s 35ms/step - loss: 0.0082 - acc: 0.9973 - precision_2: 0.9968 - val_loss: 0.0805 - val_acc: 0.9835 - val_precision_2: 0.9831\n",
            "Epoch 10/20\n",
            "309/311 [============================>.] - ETA: 0s - loss: 0.0057 - acc: 0.9980 - precision_2: 0.9977Epoch 1/20\n",
            "311/311 [==============================] - 11s 36ms/step - loss: 0.0057 - acc: 0.9980 - precision_2: 0.9977 - val_loss: 0.0572 - val_acc: 0.9847 - val_precision_2: 0.9844\n",
            "Epoch 11/20\n",
            "310/311 [============================>.] - ETA: 0s - loss: 0.0018 - acc: 0.9997 - precision_2: 0.9995Epoch 1/20\n",
            " 54/311 [====>.........................] - ETA: 8s - loss: 0.0577 - acc: 0.9890 - precision_2: 0.9856\n",
            "Epoch 00011: ReduceLROnPlateau reducing learning rate to 0.0001250000059371814.\n",
            "311/311 [==============================] - 11s 36ms/step - loss: 0.0017 - acc: 0.9997 - precision_2: 0.9995 - val_loss: 0.0571 - val_acc: 0.9886 - val_precision_2: 0.9858\n",
            "Epoch 12/20\n",
            "310/311 [============================>.] - ETA: 0s - loss: 8.8869e-04 - acc: 0.9999 - precision_2: 0.9998Epoch 1/20\n",
            "311/311 [==============================] - 11s 35ms/step - loss: 8.8659e-04 - acc: 0.9999 - precision_2: 0.9998 - val_loss: 0.0569 - val_acc: 0.9886 - val_precision_2: 0.9871\n",
            "Epoch 13/20\n",
            "309/311 [============================>.] - ETA: 0s - loss: 0.0011 - acc: 0.9997 - precision_2: 0.9993Epoch 1/20\n",
            " 54/311 [====>.........................] - ETA: 7s - loss: 0.0611 - acc: 0.9884 - precision_2: 0.9868\n",
            "Epoch 00013: ReduceLROnPlateau reducing learning rate to 6.25000029685907e-05.\n",
            "311/311 [==============================] - 11s 34ms/step - loss: 0.0011 - acc: 0.9997 - precision_2: 0.9993 - val_loss: 0.0606 - val_acc: 0.9881 - val_precision_2: 0.9871\n",
            "Epoch 14/20\n",
            "310/311 [============================>.] - ETA: 0s - loss: 6.5098e-04 - acc: 0.9999 - precision_2: 0.9998Epoch 1/20\n",
            "311/311 [==============================] - 11s 34ms/step - loss: 6.4889e-04 - acc: 0.9999 - precision_2: 0.9998 - val_loss: 0.0614 - val_acc: 0.9886 - val_precision_2: 0.9858\n",
            "Epoch 15/20\n",
            "309/311 [============================>.] - ETA: 0s - loss: 6.3127e-04 - acc: 0.9999 - precision_2: 0.9998Epoch 1/20\n",
            " 54/311 [====>.........................] - ETA: 7s - loss: 0.0632 - acc: 0.9878 - precision_2: 0.9868\n",
            "Epoch 00015: ReduceLROnPlateau reducing learning rate to 3.125000148429535e-05.\n",
            "311/311 [==============================] - 10s 33ms/step - loss: 6.2915e-04 - acc: 0.9999 - precision_2: 0.9998 - val_loss: 0.0626 - val_acc: 0.9875 - val_precision_2: 0.9870\n",
            "Epoch 16/20\n",
            "309/311 [============================>.] - ETA: 0s - loss: 5.2554e-04 - acc: 0.9999 - precision_2: 0.9998Epoch 1/20\n",
            "311/311 [==============================] - 10s 32ms/step - loss: 5.2269e-04 - acc: 0.9999 - precision_2: 0.9998 - val_loss: 0.0653 - val_acc: 0.9881 - val_precision_2: 0.9896\n",
            "Epoch 17/20\n",
            "309/311 [============================>.] - ETA: 0s - loss: 5.3574e-04 - acc: 0.9999 - precision_2: 0.9998Epoch 1/20\n",
            " 54/311 [====>.........................] - ETA: 7s - loss: 0.0648 - acc: 0.9873 - precision_2: 0.9855\n",
            "Epoch 00017: ReduceLROnPlateau reducing learning rate to 1.5625000742147677e-05.\n",
            "311/311 [==============================] - 10s 32ms/step - loss: 5.3235e-04 - acc: 0.9999 - precision_2: 0.9998 - val_loss: 0.0640 - val_acc: 0.9869 - val_precision_2: 0.9858\n",
            "Epoch 18/20\n",
            "310/311 [============================>.] - ETA: 0s - loss: 4.4776e-04 - acc: 0.9999 - precision_2: 0.9998Epoch 1/20\n",
            "311/311 [==============================] - 10s 33ms/step - loss: 4.4666e-04 - acc: 0.9999 - precision_2: 0.9998 - val_loss: 0.0647 - val_acc: 0.9881 - val_precision_2: 0.9883\n",
            "Epoch 19/20\n",
            "309/311 [============================>.] - ETA: 0s - loss: 4.5336e-04 - acc: 0.9999 - precision_2: 0.9998Epoch 1/20\n",
            " 54/311 [====>.........................] - ETA: 7s - loss: 0.0661 - acc: 0.9878 - precision_2: 0.9855\n",
            "Epoch 00019: ReduceLROnPlateau reducing learning rate to 1e-05.\n",
            "311/311 [==============================] - 10s 32ms/step - loss: 4.5894e-04 - acc: 0.9999 - precision_2: 0.9998 - val_loss: 0.0653 - val_acc: 0.9875 - val_precision_2: 0.9858\n",
            "Epoch 20/20\n",
            "309/311 [============================>.] - ETA: 0s - loss: 4.2689e-04 - acc: 0.9999 - precision_2: 0.9998Epoch 1/20\n",
            "311/311 [==============================] - 10s 33ms/step - loss: 4.2446e-04 - acc: 0.9999 - precision_2: 0.9998 - val_loss: 0.0659 - val_acc: 0.9881 - val_precision_2: 0.9871\n",
            "Total time:  210.04218673706055 seconds\n"
          ],
          "name": "stdout"
        }
      ]
    },
    {
      "cell_type": "code",
      "metadata": {
        "id": "jDcAQxo3ynRp",
        "colab": {
          "base_uri": "https://localhost:8080/",
          "height": 778
        },
        "outputId": "a507742e-6a40-4068-8e9a-ae9d58ddddae"
      },
      "source": [
        "loss = pd.DataFrame(model.history.history)\n",
        "loss[['loss', 'val_loss']].plot()\n",
        "loss[['acc', 'val_acc']].plot()\n",
        "loss[['precision_2', 'val_precision_2']].plot()"
      ],
      "execution_count": 36,
      "outputs": [
        {
          "output_type": "execute_result",
          "data": {
            "text/plain": [
              "<matplotlib.axes._subplots.AxesSubplot at 0x7f616a1a3080>"
            ]
          },
          "metadata": {
            "tags": []
          },
          "execution_count": 36
        },
        {
          "output_type": "display_data",
          "data": {
            "image/png": "[encoded data removed]",
            "text/plain": [
              "<Figure size 432x288 with 1 Axes>"
            ]
          },
          "metadata": {
            "tags": [],
            "needs_background": "light"
          }
        },
        {
          "output_type": "display_data",
          "data": {
            "image/png": "[encoded data removed]",
            "text/plain": [
              "<Figure size 432x288 with 1 Axes>"
            ]
          },
          "metadata": {
            "tags": [],
            "needs_background": "light"
          }
        },
        {
          "output_type": "display_data",
          "data": {
            "image/png": "[encoded data removed]",
            "text/plain": [
              "<Figure size 432x288 with 1 Axes>"
            ]
          },
          "metadata": {
            "tags": [],
            "needs_background": "light"
          }
        }
      ]
    },
    {
      "cell_type": "code",
      "metadata": {
        "colab": {
          "base_uri": "https://localhost:8080/"
        },
        "id": "FBJt2NeG67b2",
        "outputId": "07e648d1-143f-431a-d334-a97d9f912e37"
      },
      "source": [
        "loss_mean = loss.mean()\n",
        "loss_mean"
      ],
      "execution_count": 35,
      "outputs": [
        {
          "output_type": "execute_result",
          "data": {
            "text/plain": [
              "loss               0.022456\n",
              "acc                0.992249\n",
              "precision_2        0.990616\n",
              "val_loss           0.066841\n",
              "val_acc            0.983778\n",
              "val_precision_2    0.981344\n",
              "lr                 0.000399\n",
              "dtype: float64"
            ]
          },
          "metadata": {
            "tags": []
          },
          "execution_count": 35
        }
      ]
    },
    {
      "cell_type": "code",
      "metadata": {
        "colab": {
          "base_uri": "https://localhost:8080/"
        },
        "id": "8fBKEAlA7uYZ",
        "outputId": "ba269cd2-719f-46b3-a923-979e61e1b3c3"
      },
      "source": [
        "print(\"Epochs: \", len(model.history.epoch))\n",
        "print(\"Train time: \", endTime, \"seconds\") "
      ],
      "execution_count": 37,
      "outputs": [
        {
          "output_type": "stream",
          "text": [
            "Epochs:  20\n",
            "Train time:  210.04218673706055 seconds\n"
          ],
          "name": "stdout"
        }
      ]
    },
    {
      "cell_type": "code",
      "metadata": {
        "id": "W4mKO7_3EPk_",
        "colab": {
          "base_uri": "https://localhost:8080/"
        },
        "outputId": "ae4bb54e-cc75-440c-be19-f751a99ae0ff"
      },
      "source": [
        "print(\"|  Simple without Dropouts | {} | {} |  {} |   {} |  {} |      {} | {} |      {} |   {} |     |\".format(loss_mean.acc, loss_mean.loss, loss_mean.val_acc, loss_mean.val_loss, loss_mean.precision_2, loss_mean.val_precision_2, loss_mean.lr, len(model.history.epoch), endTime))"
      ],
      "execution_count": 38,
      "outputs": [
        {
          "output_type": "stream",
          "text": [
            "|  Simple without Dropouts | 0.9922489106655121 | 0.0224559572880031 |  0.9837784051895142 |   0.06684100641737174 |  0.990616163611412 |      0.981344410777092 | 0.0003989375189121347 |      20 |   210.04218673706055 |     |\n"
          ],
          "name": "stdout"
        }
      ]
    }
  ]
}