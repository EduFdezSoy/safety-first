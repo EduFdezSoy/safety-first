{
  "nbformat": 4,
  "nbformat_minor": 0,
  "metadata": {
    "colab": {
      "name": "Hola.ipynb",
      "provenance": [],
      "collapsed_sections": [],
      "toc_visible": true,
      "include_colab_link": true
    },
    "kernelspec": {
      "name": "python3",
      "display_name": "Python 3"
    },
    "accelerator": "GPU"
  },
  "cells": [
    {
      "cell_type": "markdown",
      "metadata": {
        "id": "view-in-github",
        "colab_type": "text"
      },
      "source": [
        "<a href=\"https://colab.research.google.com/github/EduFdezSoy/safety-first/blob/master/simple_without_dropouts.ipynb\" target=\"_parent\"><img src=\"https://colab.research.google.com/assets/colab-badge.svg\" alt=\"Open In Colab\"/></a>"
      ]
    },
    {
      "cell_type": "markdown",
      "metadata": {
        "id": "0MS0bl_OzJhu"
      },
      "source": [
        "# Safety helmet detector"
      ]
    },
    {
      "cell_type": "markdown",
      "metadata": {
        "id": "ki8M96GzzElM"
      },
      "source": [
        "Source: https://www.kaggle.com/ehddnr301/helmet-classification"
      ]
    },
    {
      "cell_type": "code",
      "metadata": {
        "id": "xOoHKAbJ6eVy",
        "colab": {
          "base_uri": "https://localhost:8080/"
        },
        "outputId": "21b6fa51-9c07-4971-eaa5-41a037f7a200"
      },
      "source": [
        "# Uncomment for install tensorflow 1.15.\n",
        "!pip install tensorflow==1.15"
      ],
      "execution_count": 13,
      "outputs": [
        {
          "output_type": "stream",
          "text": [
            "Requirement already satisfied: tensorflow==1.15 in /usr/local/lib/python3.6/dist-packages (1.15.0)\n",
            "Requirement already satisfied: keras-applications>=1.0.8 in /usr/local/lib/python3.6/dist-packages (from tensorflow==1.15) (1.0.8)\n",
            "Requirement already satisfied: tensorboard<1.16.0,>=1.15.0 in /usr/local/lib/python3.6/dist-packages (from tensorflow==1.15) (1.15.0)\n",
            "Requirement already satisfied: tensorflow-estimator==1.15.1 in /usr/local/lib/python3.6/dist-packages (from tensorflow==1.15) (1.15.1)\n",
            "Requirement already satisfied: absl-py>=0.7.0 in /usr/local/lib/python3.6/dist-packages (from tensorflow==1.15) (0.10.0)\n",
            "Requirement already satisfied: keras-preprocessing>=1.0.5 in /usr/local/lib/python3.6/dist-packages (from tensorflow==1.15) (1.1.2)\n",
            "Requirement already satisfied: wrapt>=1.11.1 in /usr/local/lib/python3.6/dist-packages (from tensorflow==1.15) (1.12.1)\n",
            "Requirement already satisfied: six>=1.10.0 in /usr/local/lib/python3.6/dist-packages (from tensorflow==1.15) (1.15.0)\n",
            "Requirement already satisfied: gast==0.2.2 in /usr/local/lib/python3.6/dist-packages (from tensorflow==1.15) (0.2.2)\n",
            "Requirement already satisfied: grpcio>=1.8.6 in /usr/local/lib/python3.6/dist-packages (from tensorflow==1.15) (1.33.2)\n",
            "Requirement already satisfied: protobuf>=3.6.1 in /usr/local/lib/python3.6/dist-packages (from tensorflow==1.15) (3.12.4)\n",
            "Requirement already satisfied: numpy<2.0,>=1.16.0 in /usr/local/lib/python3.6/dist-packages (from tensorflow==1.15) (1.18.5)\n",
            "Requirement already satisfied: opt-einsum>=2.3.2 in /usr/local/lib/python3.6/dist-packages (from tensorflow==1.15) (3.3.0)\n",
            "Requirement already satisfied: wheel>=0.26 in /usr/local/lib/python3.6/dist-packages (from tensorflow==1.15) (0.35.1)\n",
            "Requirement already satisfied: termcolor>=1.1.0 in /usr/local/lib/python3.6/dist-packages (from tensorflow==1.15) (1.1.0)\n",
            "Requirement already satisfied: astor>=0.6.0 in /usr/local/lib/python3.6/dist-packages (from tensorflow==1.15) (0.8.1)\n",
            "Requirement already satisfied: google-pasta>=0.1.6 in /usr/local/lib/python3.6/dist-packages (from tensorflow==1.15) (0.2.0)\n",
            "Requirement already satisfied: h5py in /usr/local/lib/python3.6/dist-packages (from keras-applications>=1.0.8->tensorflow==1.15) (2.10.0)\n",
            "Requirement already satisfied: markdown>=2.6.8 in /usr/local/lib/python3.6/dist-packages (from tensorboard<1.16.0,>=1.15.0->tensorflow==1.15) (3.3.3)\n",
            "Requirement already satisfied: werkzeug>=0.11.15 in /usr/local/lib/python3.6/dist-packages (from tensorboard<1.16.0,>=1.15.0->tensorflow==1.15) (1.0.1)\n",
            "Requirement already satisfied: setuptools>=41.0.0 in /usr/local/lib/python3.6/dist-packages (from tensorboard<1.16.0,>=1.15.0->tensorflow==1.15) (50.3.2)\n",
            "Requirement already satisfied: importlib-metadata; python_version < \"3.8\" in /usr/local/lib/python3.6/dist-packages (from markdown>=2.6.8->tensorboard<1.16.0,>=1.15.0->tensorflow==1.15) (2.0.0)\n",
            "Requirement already satisfied: zipp>=0.5 in /usr/local/lib/python3.6/dist-packages (from importlib-metadata; python_version < \"3.8\"->markdown>=2.6.8->tensorboard<1.16.0,>=1.15.0->tensorflow==1.15) (3.4.0)\n"
          ],
          "name": "stdout"
        }
      ]
    },
    {
      "cell_type": "code",
      "metadata": {
        "id": "NtCxUQ1_TmhB",
        "colab": {
          "base_uri": "https://localhost:8080/",
          "height": 35
        },
        "outputId": "fe325d23-2fcc-42b6-d075-76489b6fb07f"
      },
      "source": [
        "# Imports\n",
        "import cv2\n",
        "import os\n",
        "import pandas as pd \n",
        "import matplotlib.pyplot as plt\n",
        "import matplotlib.image as mpimg\n",
        "import numpy as np\n",
        "import time\n",
        "from skimage import io, transform\n",
        "from PIL import Image\n",
        "\n",
        "from sklearn.model_selection import train_test_split\n",
        "\n",
        "import tensorflow as tf\n",
        "from tensorflow.keras.callbacks import ReduceLROnPlateau\n",
        "from tensorflow.keras.applications import ResNet152V2\n",
        "from tensorflow.keras.models import Sequential\n",
        "from tensorflow.keras.layers import Dense, Dropout\n",
        "from tensorflow.keras.callbacks import ModelCheckpoint, EarlyStopping\n",
        "from tensorflow.keras.optimizers import Adam, RMSprop\n",
        "from tensorflow.keras.preprocessing.image import ImageDataGenerator\n",
        "\n",
        "# Create model\n",
        "from tensorflow.keras.layers import Conv2D, Flatten, Dense, Activation, BatchNormalization, MaxPooling2D, Dropout\n",
        "# Check Tensorflow version.\n",
        "tf.version.VERSION"
      ],
      "execution_count": 14,
      "outputs": [
        {
          "output_type": "execute_result",
          "data": {
            "application/vnd.google.colaboratory.intrinsic+json": {
              "type": "string"
            },
            "text/plain": [
              "'1.15.0'"
            ]
          },
          "metadata": {
            "tags": []
          },
          "execution_count": 14
        }
      ]
    },
    {
      "cell_type": "markdown",
      "metadata": {
        "id": "LO5VaK6_2kHB"
      },
      "source": [
        "## 1. Loading Data"
      ]
    },
    {
      "cell_type": "code",
      "metadata": {
        "id": "2kwAMq-36izW",
        "colab": {
          "base_uri": "https://localhost:8080/"
        },
        "outputId": "7c998173-39ed-45f7-943e-4bf65c56c64a"
      },
      "source": [
        "# Uncomment for clonning the repository\n",
        "!git clone https://github.com/sergiorodenas/ml-data.git"
      ],
      "execution_count": 15,
      "outputs": [
        {
          "output_type": "stream",
          "text": [
            "fatal: destination path 'ml-data' already exists and is not an empty directory.\n"
          ],
          "name": "stdout"
        }
      ]
    },
    {
      "cell_type": "code",
      "metadata": {
        "id": "pxZKXv5KyM7T"
      },
      "source": [
        "# Image constants\n",
        "IMAGE_WIDTH=100\n",
        "IMAGE_HEIGHT=100\n",
        "IMAGE_SIZE=(IMAGE_WIDTH, IMAGE_HEIGHT)\n",
        "IMAGE_CHANNELS=3\n",
        "PATH1='./ml-data/helmet-dataset/Train_positive/Train_positive/'\n",
        "PATH2='./ml-data/helmet-dataset/Train_negative/Train_negative/'"
      ],
      "execution_count": 16,
      "outputs": []
    },
    {
      "cell_type": "code",
      "metadata": {
        "id": "wQCi3ERdyM96",
        "colab": {
          "base_uri": "https://localhost:8080/"
        },
        "outputId": "89578fc1-8cb6-4b2c-eedc-873e6e90dd01"
      },
      "source": [
        "# Getting the images\n",
        "filenames_list_yes = []\n",
        "filenames_list_no = []\n",
        "\n",
        "for filename in os.listdir(PATH1):\n",
        "    filenames_list_yes.append(PATH1 + filename)\n",
        "    \n",
        "for filename in os.listdir(PATH2):\n",
        "    filenames_list_no.append(PATH2 + filename)\n",
        "\n",
        "df_yes = pd.DataFrame({\n",
        "    'image': filenames_list_yes,\n",
        "    'category': np.ones(len(filenames_list_yes), str)\n",
        "})\n",
        "df_no = pd.DataFrame({\n",
        "    'image': filenames_list_no,\n",
        "    'category': np.zeros(len(filenames_list_no), str)\n",
        "})\n",
        "print(df_yes.shape, df_no.shape)\n",
        "df = df_yes.append(df_no, ignore_index=True)\n",
        "print(df['image'][0])"
      ],
      "execution_count": 17,
      "outputs": [
        {
          "output_type": "stream",
          "text": [
            "(5160, 2) (6580, 2)\n",
            "./ml-data/helmet-dataset/Train_positive/Train_positive/2338.jpg\n"
          ],
          "name": "stdout"
        }
      ]
    },
    {
      "cell_type": "markdown",
      "metadata": {
        "id": "YGKxg5LT2kHD"
      },
      "source": [
        "## 2. Training data"
      ]
    },
    {
      "cell_type": "code",
      "metadata": {
        "id": "ldR4U_TD2kHD"
      },
      "source": [
        "# Hyperparameters\n",
        "BATCH_SIZE=32\n",
        "EPOCHS=100"
      ],
      "execution_count": 18,
      "outputs": []
    },
    {
      "cell_type": "code",
      "metadata": {
        "id": "FGJ3njNpyNA4",
        "colab": {
          "base_uri": "https://localhost:8080/"
        },
        "outputId": "e98ef874-babf-4902-fb28-227ba1138344"
      },
      "source": [
        "#split data into train and valid set\n",
        "train_df, valid_df = train_test_split(df, test_size = 0.15, stratify = df['category'], random_state = 3)\n",
        "train_df = train_df.reset_index(drop=True)\n",
        "valid_df = valid_df.reset_index(drop=True)\n",
        "total_train = train_df.shape[0]\n",
        "total_valid = valid_df.shape[0]\n",
        "print(train_df.shape)\n",
        "print(valid_df.shape)"
      ],
      "execution_count": 19,
      "outputs": [
        {
          "output_type": "stream",
          "text": [
            "(9979, 2)\n",
            "(1761, 2)\n"
          ],
          "name": "stdout"
        }
      ]
    },
    {
      "cell_type": "code",
      "metadata": {
        "id": "tD1sYQF-yYFW",
        "colab": {
          "base_uri": "https://localhost:8080/"
        },
        "outputId": "b7505c12-1b73-42d7-ae9d-e38925390ce2"
      },
      "source": [
        "#We'll perform individually on train and validation set.\n",
        "train_datagen = ImageDataGenerator(\n",
        "                                   rescale=1./255,\n",
        "                                   )\n",
        "\n",
        "train_gen = train_datagen.flow_from_dataframe(train_df,\n",
        "                                              x_col = 'image',\n",
        "                                              y_col = 'category',\n",
        "                                              target_size = IMAGE_SIZE,\n",
        "                                              batch_size = BATCH_SIZE,\n",
        "                                              class_mode='binary',\n",
        "                                              validate_filenames=False\n",
        "                                             )\n",
        "\n",
        "#we do not augment validation data.\n",
        "validation_datagen = ImageDataGenerator(rescale=1./255)\n",
        "valid_gen = validation_datagen.flow_from_dataframe(\n",
        "    valid_df, \n",
        "    x_col=\"image\",\n",
        "    y_col=\"category\",\n",
        "    target_size=IMAGE_SIZE,\n",
        "    class_mode='binary',\n",
        "    batch_size=BATCH_SIZE,\n",
        "    validate_filenames=False\n",
        ")"
      ],
      "execution_count": 20,
      "outputs": [
        {
          "output_type": "stream",
          "text": [
            "Found 9979 non-validated image filenames belonging to 2 classes.\n",
            "Found 1761 non-validated image filenames belonging to 2 classes.\n"
          ],
          "name": "stdout"
        }
      ]
    },
    {
      "cell_type": "code",
      "metadata": {
        "id": "IFtLlcADyY8h"
      },
      "source": [
        "model = Sequential()\n",
        "model.add(Conv2D(64, (3,3), activation='relu', strides=(2,2), input_shape=(IMAGE_WIDTH, IMAGE_HEIGHT, IMAGE_CHANNELS)))\n",
        "model.add(Conv2D(64, (3,3), activation='relu'))\n",
        "model.add(Flatten())\n",
        "model.add(Dense(256, activation='relu'))\n",
        "model.add(Dense(1, activation='sigmoid'))\n",
        "model.compile(loss='binary_crossentropy', optimizer='adam', metrics=['acc', 'Precision'])\n"
      ],
      "execution_count": 21,
      "outputs": []
    },
    {
      "cell_type": "code",
      "metadata": {
        "id": "eMNO2GhJye6l",
        "colab": {
          "base_uri": "https://localhost:8080/"
        },
        "outputId": "214ffeb1-0590-46eb-dc54-606e23abaaa5"
      },
      "source": [
        "model.summary()"
      ],
      "execution_count": 22,
      "outputs": [
        {
          "output_type": "stream",
          "text": [
            "Model: \"sequential_1\"\n",
            "_________________________________________________________________\n",
            "Layer (type)                 Output Shape              Param #   \n",
            "=================================================================\n",
            "conv2d_2 (Conv2D)            (None, 49, 49, 64)        1792      \n",
            "_________________________________________________________________\n",
            "conv2d_3 (Conv2D)            (None, 47, 47, 64)        36928     \n",
            "_________________________________________________________________\n",
            "flatten_1 (Flatten)          (None, 141376)            0         \n",
            "_________________________________________________________________\n",
            "dense_2 (Dense)              (None, 256)               36192512  \n",
            "_________________________________________________________________\n",
            "dense_3 (Dense)              (None, 1)                 257       \n",
            "=================================================================\n",
            "Total params: 36,231,489\n",
            "Trainable params: 36,231,489\n",
            "Non-trainable params: 0\n",
            "_________________________________________________________________\n"
          ],
          "name": "stdout"
        }
      ]
    },
    {
      "cell_type": "markdown",
      "metadata": {
        "id": "syx8YWEp2kHD"
      },
      "source": [
        "## 3. Train the model"
      ]
    },
    {
      "cell_type": "code",
      "metadata": {
        "id": "LDqX4hWTye8i"
      },
      "source": [
        "learning_rate_reduction = ReduceLROnPlateau(monitor='val_acc', \n",
        "                                            patience=2, \n",
        "                                            verbose=1, \n",
        "                                            factor=0.5, \n",
        "                                            min_lr=0.00001)\n",
        "checkpointer = ModelCheckpoint(filepath = 'mask.weights.best.hdf5', save_best_only = True, save_weights_only = True)\n",
        "early_stop = EarlyStopping(monitor='val_loss', patience=6)\n",
        "callbacks = [learning_rate_reduction, checkpointer, early_stop]"
      ],
      "execution_count": 23,
      "outputs": []
    },
    {
      "cell_type": "code",
      "metadata": {
        "id": "BqURES9vye_j",
        "colab": {
          "base_uri": "https://localhost:8080/"
        },
        "outputId": "133107ba-5ec9-41ec-b67f-548cd6047f20"
      },
      "source": [
        "start = time.time()\n",
        "\n",
        "model.fit_generator(train_gen,\n",
        "                    epochs = EPOCHS,\n",
        "                    validation_data = valid_gen,\n",
        "                    validation_steps=total_valid//BATCH_SIZE,\n",
        "                    steps_per_epoch=total_train//BATCH_SIZE,\n",
        "                    callbacks = callbacks)\n",
        "\n",
        "endTime = time.time() - start\n",
        "print(\"Total time: \", endTime, \"seconds\")"
      ],
      "execution_count": 24,
      "outputs": [
        {
          "output_type": "stream",
          "text": [
            "Epoch 1/100\n",
            "309/311 [============================>.] - ETA: 0s - loss: 0.1915 - acc: 0.9407 - precision_2: 0.9306Epoch 1/100\n",
            "311/311 [==============================] - 13s 41ms/step - loss: 0.1907 - acc: 0.9408 - precision_2: 0.9303 - val_loss: 0.0840 - val_acc: 0.9676 - val_precision_2: 0.9464\n",
            "Epoch 2/100\n",
            "310/311 [============================>.] - ETA: 0s - loss: 0.0762 - acc: 0.9737 - precision_2: 0.9651Epoch 1/100\n",
            "311/311 [==============================] - 12s 39ms/step - loss: 0.0763 - acc: 0.9737 - precision_2: 0.9650 - val_loss: 0.0685 - val_acc: 0.9767 - val_precision_2: 0.9621\n",
            "Epoch 3/100\n",
            "310/311 [============================>.] - ETA: 0s - loss: 0.0517 - acc: 0.9807 - precision_2: 0.9749Epoch 1/100\n",
            "311/311 [==============================] - 12s 39ms/step - loss: 0.0517 - acc: 0.9808 - precision_2: 0.9750 - val_loss: 0.0671 - val_acc: 0.9773 - val_precision_2: 0.9645\n",
            "Epoch 4/100\n",
            "310/311 [============================>.] - ETA: 0s - loss: 0.0593 - acc: 0.9785 - precision_2: 0.9723Epoch 1/100\n",
            "311/311 [==============================] - 12s 38ms/step - loss: 0.0594 - acc: 0.9784 - precision_2: 0.9719 - val_loss: 0.0713 - val_acc: 0.9682 - val_precision_2: 0.9498\n",
            "Epoch 5/100\n",
            "309/311 [============================>.] - ETA: 0s - loss: 0.0376 - acc: 0.9866 - precision_2: 0.9832Epoch 1/100\n",
            "311/311 [==============================] - 12s 38ms/step - loss: 0.0374 - acc: 0.9867 - precision_2: 0.9833 - val_loss: 0.0676 - val_acc: 0.9801 - val_precision_2: 0.9920\n",
            "Epoch 6/100\n",
            "310/311 [============================>.] - ETA: 0s - loss: 0.0258 - acc: 0.9907 - precision_2: 0.9886Epoch 1/100\n",
            "311/311 [==============================] - 12s 39ms/step - loss: 0.0257 - acc: 0.9908 - precision_2: 0.9886 - val_loss: 0.0447 - val_acc: 0.9835 - val_precision_2: 0.9697\n",
            "Epoch 7/100\n",
            "309/311 [============================>.] - ETA: 0s - loss: 0.0177 - acc: 0.9937 - precision_2: 0.9922Epoch 1/100\n",
            "311/311 [==============================] - 12s 39ms/step - loss: 0.0177 - acc: 0.9937 - precision_2: 0.9920 - val_loss: 0.0754 - val_acc: 0.9756 - val_precision_2: 0.9765\n",
            "Epoch 8/100\n",
            "309/311 [============================>.] - ETA: 0s - loss: 0.0223 - acc: 0.9911 - precision_2: 0.9901Epoch 1/100\n",
            " 54/311 [====>.........................] - ETA: 7s - loss: 0.0511 - acc: 0.9832 - precision_2: 0.9853\n",
            "Epoch 00008: ReduceLROnPlateau reducing learning rate to 0.0005000000237487257.\n",
            "311/311 [==============================] - 12s 39ms/step - loss: 0.0222 - acc: 0.9912 - precision_2: 0.9901 - val_loss: 0.0519 - val_acc: 0.9830 - val_precision_2: 0.9856\n",
            "Epoch 9/100\n",
            "309/311 [============================>.] - ETA: 0s - loss: 0.0047 - acc: 0.9990 - precision_2: 0.9989Epoch 1/100\n",
            "311/311 [==============================] - 12s 39ms/step - loss: 0.0047 - acc: 0.9990 - precision_2: 0.9989 - val_loss: 0.0465 - val_acc: 0.9847 - val_precision_2: 0.9882\n",
            "Epoch 10/100\n",
            "310/311 [============================>.] - ETA: 0s - loss: 0.0022 - acc: 0.9995 - precision_2: 0.9993Epoch 1/100\n",
            "311/311 [==============================] - 12s 39ms/step - loss: 0.0022 - acc: 0.9995 - precision_2: 0.9993 - val_loss: 0.0419 - val_acc: 0.9892 - val_precision_2: 0.9858\n",
            "Epoch 11/100\n",
            "309/311 [============================>.] - ETA: 0s - loss: 0.0014 - acc: 0.9997 - precision_2: 0.9993Epoch 1/100\n",
            "311/311 [==============================] - 12s 39ms/step - loss: 0.0014 - acc: 0.9997 - precision_2: 0.9993 - val_loss: 0.0502 - val_acc: 0.9858 - val_precision_2: 0.9832\n",
            "Epoch 12/100\n",
            "310/311 [============================>.] - ETA: 0s - loss: 0.0019 - acc: 0.9993 - precision_2: 0.9988Epoch 1/100\n",
            " 54/311 [====>.........................] - ETA: 8s - loss: 0.0507 - acc: 0.9861 - precision_2: 0.9893\n",
            "Epoch 00012: ReduceLROnPlateau reducing learning rate to 0.0002500000118743628.\n",
            "311/311 [==============================] - 12s 40ms/step - loss: 0.0019 - acc: 0.9993 - precision_2: 0.9989 - val_loss: 0.0537 - val_acc: 0.9858 - val_precision_2: 0.9895\n",
            "Epoch 13/100\n",
            "309/311 [============================>.] - ETA: 0s - loss: 0.0010 - acc: 0.9998 - precision_2: 0.9995Epoch 1/100\n",
            "311/311 [==============================] - 12s 39ms/step - loss: 0.0010 - acc: 0.9998 - precision_2: 0.9995 - val_loss: 0.0540 - val_acc: 0.9841 - val_precision_2: 0.9869\n",
            "Epoch 14/100\n",
            "309/311 [============================>.] - ETA: 0s - loss: 6.3831e-04 - acc: 0.9999 - precision_2: 0.9998Epoch 1/100\n",
            " 54/311 [====>.........................] - ETA: 8s - loss: 0.0522 - acc: 0.9867 - precision_2: 0.9841\n",
            "Epoch 00014: ReduceLROnPlateau reducing learning rate to 0.0001250000059371814.\n",
            "311/311 [==============================] - 12s 38ms/step - loss: 6.3450e-04 - acc: 0.9999 - precision_2: 0.9998 - val_loss: 0.0547 - val_acc: 0.9864 - val_precision_2: 0.9845\n",
            "Epoch 15/100\n",
            "309/311 [============================>.] - ETA: 0s - loss: 5.0350e-04 - acc: 0.9999 - precision_2: 0.9998Epoch 1/100\n",
            "311/311 [==============================] - 12s 39ms/step - loss: 5.0054e-04 - acc: 0.9999 - precision_2: 0.9998 - val_loss: 0.0560 - val_acc: 0.9864 - val_precision_2: 0.9845\n",
            "Epoch 16/100\n",
            "310/311 [============================>.] - ETA: 0s - loss: 4.8203e-04 - acc: 0.9999 - precision_2: 0.9998Epoch 1/100\n",
            " 55/311 [====>.........................] - ETA: 8s - loss: 0.0583 - acc: 0.9869 - precision_2: 0.9845\n",
            "Epoch 00016: ReduceLROnPlateau reducing learning rate to 6.25000029685907e-05.\n",
            "311/311 [==============================] - 12s 39ms/step - loss: 4.8050e-04 - acc: 0.9999 - precision_2: 0.9998 - val_loss: 0.0583 - val_acc: 0.9869 - val_precision_2: 0.9845\n",
            "Total time:  194.35341596603394 seconds\n"
          ],
          "name": "stdout"
        }
      ]
    },
    {
      "cell_type": "code",
      "metadata": {
        "id": "jDcAQxo3ynRp",
        "colab": {
          "base_uri": "https://localhost:8080/",
          "height": 782
        },
        "outputId": "3d42c241-ba03-46b0-902d-0e9866b715ed"
      },
      "source": [
        "loss = pd.DataFrame(model.history.history)\n",
        "loss[['loss', 'val_loss']].plot()\n",
        "loss[['acc', 'val_acc']].plot()\n",
        "loss[['precision_2', 'val_precision_2']].plot()"
      ],
      "execution_count": 25,
      "outputs": [
        {
          "output_type": "execute_result",
          "data": {
            "text/plain": [
              "<matplotlib.axes._subplots.AxesSubplot at 0x7f69917c71d0>"
            ]
          },
          "metadata": {
            "tags": []
          },
          "execution_count": 25
        },
        {
          "output_type": "display_data",
          "data": {
            "image/png": "[encoded data removed]",
            "text/plain": [
              "<Figure size 432x288 with 1 Axes>"
            ]
          },
          "metadata": {
            "tags": [],
            "needs_background": "light"
          }
        },
        {
          "output_type": "display_data",
          "data": {
            "image/png": "[encoded data removed]",
            "text/plain": [
              "<Figure size 432x288 with 1 Axes>"
            ]
          },
          "metadata": {
            "tags": [],
            "needs_background": "light"
          }
        },
        {
          "output_type": "display_data",
          "data": {
            "image/png": "[encoded data removed]",
            "text/plain": [
              "<Figure size 432x288 with 1 Axes>"
            ]
          },
          "metadata": {
            "tags": [],
            "needs_background": "light"
          }
        }
      ]
    },
    {
      "cell_type": "code",
      "metadata": {
        "colab": {
          "base_uri": "https://localhost:8080/"
        },
        "id": "FBJt2NeG67b2",
        "outputId": "423a5d30-5154-440d-e2b8-f4c67800544f"
      },
      "source": [
        "loss_mean = loss.mean()\n",
        "loss_mean"
      ],
      "execution_count": 26,
      "outputs": [
        {
          "output_type": "execute_result",
          "data": {
            "text/plain": [
              "loss               0.030871\n",
              "acc                0.989557\n",
              "precision_2        0.986966\n",
              "val_loss           0.059099\n",
              "val_acc            0.981321\n",
              "val_precision_2    0.977113\n",
              "lr                 0.000672\n",
              "dtype: float64"
            ]
          },
          "metadata": {
            "tags": []
          },
          "execution_count": 26
        }
      ]
    },
    {
      "cell_type": "code",
      "metadata": {
        "colab": {
          "base_uri": "https://localhost:8080/"
        },
        "id": "8fBKEAlA7uYZ",
        "outputId": "638abc0c-48e1-48d0-b6be-9b310b00e396"
      },
      "source": [
        "print(\"Epochs: \", len(model.history.epoch))\n",
        "print(\"Train time: \", endTime, \"seconds\") "
      ],
      "execution_count": 27,
      "outputs": [
        {
          "output_type": "stream",
          "text": [
            "Epochs:  16\n",
            "Train time:  194.35341596603394 seconds\n"
          ],
          "name": "stdout"
        }
      ]
    },
    {
      "cell_type": "code",
      "metadata": {
        "id": "W4mKO7_3EPk_",
        "colab": {
          "base_uri": "https://localhost:8080/"
        },
        "outputId": "756276cc-506d-401e-9d36-da1c583aba39"
      },
      "source": [
        "print(\"|  Simple without Dropouts | {} | {} |  {} |   {} |  {} |      {} | {} |      {} |   {} |     |\".format(loss_mean.acc, loss_mean.loss, loss_mean.val_acc, loss_mean.val_loss, loss_mean.precision_2, loss_mean.val_precision_2, loss_mean.lr, len(model.history.epoch), endTime))"
      ],
      "execution_count": 28,
      "outputs": [
        {
          "output_type": "stream",
          "text": [
            "|  Simple without Dropouts | 0.9895571656525135 | 0.030871352353305914 |  0.9813210181891918 |   0.059098931065035866 |  0.9869661182165146 |      0.977112639695406 | 0.0006718750319123501 |      16 |   194.35341596603394 |     |\n"
          ],
          "name": "stdout"
        }
      ]
    }
  ]
}