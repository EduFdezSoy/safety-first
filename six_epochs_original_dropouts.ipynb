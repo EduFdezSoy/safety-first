{
  "nbformat": 4,
  "nbformat_minor": 0,
  "metadata": {
    "colab": {
      "name": "Hola.ipynb",
      "provenance": [],
      "collapsed_sections": [],
      "toc_visible": true,
      "include_colab_link": true
    },
    "kernelspec": {
      "name": "python3",
      "display_name": "Python 3"
    },
    "accelerator": "GPU"
  },
  "cells": [
    {
      "cell_type": "markdown",
      "metadata": {
        "id": "view-in-github",
        "colab_type": "text"
      },
      "source": [
        "<a href=\"https://colab.research.google.com/github/EduFdezSoy/safety-first/blob/master/six_epochs_original_dropouts.ipynb\" target=\"_parent\"><img src=\"https://colab.research.google.com/assets/colab-badge.svg\" alt=\"Open In Colab\"/></a>"
      ]
    },
    {
      "cell_type": "markdown",
      "metadata": {
        "id": "0MS0bl_OzJhu"
      },
      "source": [
        "# Safety helmet detector"
      ]
    },
    {
      "cell_type": "markdown",
      "metadata": {
        "id": "ki8M96GzzElM"
      },
      "source": [
        "Source: https://www.kaggle.com/ehddnr301/helmet-classification"
      ]
    },
    {
      "cell_type": "code",
      "metadata": {
        "id": "xOoHKAbJ6eVy",
        "colab": {
          "base_uri": "https://localhost:8080/"
        },
        "outputId": "3b30b29f-66c7-4ce8-baa2-022a64dac712"
      },
      "source": [
        "# Uncomment for install tensorflow 1.15.\n",
        "!pip install tensorflow==1.15"
      ],
      "execution_count": 17,
      "outputs": [
        {
          "output_type": "stream",
          "text": [
            "Requirement already satisfied: tensorflow==1.15 in /usr/local/lib/python3.6/dist-packages (1.15.0)\n",
            "Requirement already satisfied: keras-applications>=1.0.8 in /usr/local/lib/python3.6/dist-packages (from tensorflow==1.15) (1.0.8)\n",
            "Requirement already satisfied: numpy<2.0,>=1.16.0 in /usr/local/lib/python3.6/dist-packages (from tensorflow==1.15) (1.18.5)\n",
            "Requirement already satisfied: six>=1.10.0 in /usr/local/lib/python3.6/dist-packages (from tensorflow==1.15) (1.15.0)\n",
            "Requirement already satisfied: keras-preprocessing>=1.0.5 in /usr/local/lib/python3.6/dist-packages (from tensorflow==1.15) (1.1.2)\n",
            "Requirement already satisfied: tensorflow-estimator==1.15.1 in /usr/local/lib/python3.6/dist-packages (from tensorflow==1.15) (1.15.1)\n",
            "Requirement already satisfied: wrapt>=1.11.1 in /usr/local/lib/python3.6/dist-packages (from tensorflow==1.15) (1.12.1)\n",
            "Requirement already satisfied: gast==0.2.2 in /usr/local/lib/python3.6/dist-packages (from tensorflow==1.15) (0.2.2)\n",
            "Requirement already satisfied: google-pasta>=0.1.6 in /usr/local/lib/python3.6/dist-packages (from tensorflow==1.15) (0.2.0)\n",
            "Requirement already satisfied: termcolor>=1.1.0 in /usr/local/lib/python3.6/dist-packages (from tensorflow==1.15) (1.1.0)\n",
            "Requirement already satisfied: grpcio>=1.8.6 in /usr/local/lib/python3.6/dist-packages (from tensorflow==1.15) (1.33.2)\n",
            "Requirement already satisfied: astor>=0.6.0 in /usr/local/lib/python3.6/dist-packages (from tensorflow==1.15) (0.8.1)\n",
            "Requirement already satisfied: opt-einsum>=2.3.2 in /usr/local/lib/python3.6/dist-packages (from tensorflow==1.15) (3.3.0)\n",
            "Requirement already satisfied: tensorboard<1.16.0,>=1.15.0 in /usr/local/lib/python3.6/dist-packages (from tensorflow==1.15) (1.15.0)\n",
            "Requirement already satisfied: wheel>=0.26 in /usr/local/lib/python3.6/dist-packages (from tensorflow==1.15) (0.35.1)\n",
            "Requirement already satisfied: protobuf>=3.6.1 in /usr/local/lib/python3.6/dist-packages (from tensorflow==1.15) (3.12.4)\n",
            "Requirement already satisfied: absl-py>=0.7.0 in /usr/local/lib/python3.6/dist-packages (from tensorflow==1.15) (0.10.0)\n",
            "Requirement already satisfied: h5py in /usr/local/lib/python3.6/dist-packages (from keras-applications>=1.0.8->tensorflow==1.15) (2.10.0)\n",
            "Requirement already satisfied: markdown>=2.6.8 in /usr/local/lib/python3.6/dist-packages (from tensorboard<1.16.0,>=1.15.0->tensorflow==1.15) (3.3.3)\n",
            "Requirement already satisfied: setuptools>=41.0.0 in /usr/local/lib/python3.6/dist-packages (from tensorboard<1.16.0,>=1.15.0->tensorflow==1.15) (50.3.2)\n",
            "Requirement already satisfied: werkzeug>=0.11.15 in /usr/local/lib/python3.6/dist-packages (from tensorboard<1.16.0,>=1.15.0->tensorflow==1.15) (1.0.1)\n",
            "Requirement already satisfied: importlib-metadata; python_version < \"3.8\" in /usr/local/lib/python3.6/dist-packages (from markdown>=2.6.8->tensorboard<1.16.0,>=1.15.0->tensorflow==1.15) (2.0.0)\n",
            "Requirement already satisfied: zipp>=0.5 in /usr/local/lib/python3.6/dist-packages (from importlib-metadata; python_version < \"3.8\"->markdown>=2.6.8->tensorboard<1.16.0,>=1.15.0->tensorflow==1.15) (3.4.0)\n"
          ],
          "name": "stdout"
        }
      ]
    },
    {
      "cell_type": "code",
      "metadata": {
        "id": "NtCxUQ1_TmhB",
        "colab": {
          "base_uri": "https://localhost:8080/",
          "height": 35
        },
        "outputId": "a54d5c98-c93b-4d12-b723-a0cafc50edae"
      },
      "source": [
        "# Imports\n",
        "import cv2\n",
        "import os\n",
        "import pandas as pd \n",
        "import matplotlib.pyplot as plt\n",
        "import matplotlib.image as mpimg\n",
        "import numpy as np\n",
        "import time\n",
        "from skimage import io, transform\n",
        "from PIL import Image\n",
        "\n",
        "from sklearn.model_selection import train_test_split\n",
        "\n",
        "import tensorflow as tf\n",
        "from tensorflow.keras.callbacks import ReduceLROnPlateau\n",
        "from tensorflow.keras.applications import ResNet152V2\n",
        "from tensorflow.keras.models import Sequential\n",
        "from tensorflow.keras.layers import Dense, Dropout\n",
        "from tensorflow.keras.callbacks import ModelCheckpoint, EarlyStopping\n",
        "from tensorflow.keras.optimizers import Adam, RMSprop\n",
        "from tensorflow.keras.preprocessing.image import ImageDataGenerator\n",
        "\n",
        "# Create model\n",
        "from tensorflow.keras.layers import Conv2D, Flatten, Dense, Activation, BatchNormalization, MaxPooling2D, Dropout\n",
        "# Check Tensorflow version.\n",
        "tf.version.VERSION"
      ],
      "execution_count": 18,
      "outputs": [
        {
          "output_type": "execute_result",
          "data": {
            "application/vnd.google.colaboratory.intrinsic+json": {
              "type": "string"
            },
            "text/plain": [
              "'1.15.0'"
            ]
          },
          "metadata": {
            "tags": []
          },
          "execution_count": 18
        }
      ]
    },
    {
      "cell_type": "markdown",
      "metadata": {
        "id": "LO5VaK6_2kHB"
      },
      "source": [
        "## 1. Loading Data"
      ]
    },
    {
      "cell_type": "code",
      "metadata": {
        "id": "2kwAMq-36izW",
        "colab": {
          "base_uri": "https://localhost:8080/"
        },
        "outputId": "02c4634b-74c3-4c53-fd3b-313f84247629"
      },
      "source": [
        "# Uncomment for clonning the repository\n",
        "!git clone https://github.com/sergiorodenas/ml-data.git"
      ],
      "execution_count": 19,
      "outputs": [
        {
          "output_type": "stream",
          "text": [
            "fatal: destination path 'ml-data' already exists and is not an empty directory.\n"
          ],
          "name": "stdout"
        }
      ]
    },
    {
      "cell_type": "code",
      "metadata": {
        "id": "pxZKXv5KyM7T"
      },
      "source": [
        "# Image constants\n",
        "IMAGE_WIDTH=100\n",
        "IMAGE_HEIGHT=100\n",
        "IMAGE_SIZE=(IMAGE_WIDTH, IMAGE_HEIGHT)\n",
        "IMAGE_CHANNELS=3\n",
        "PATH1='./ml-data/helmet-dataset/Train_positive/Train_positive/'\n",
        "PATH2='./ml-data/helmet-dataset/Train_negative/Train_negative/'"
      ],
      "execution_count": 20,
      "outputs": []
    },
    {
      "cell_type": "code",
      "metadata": {
        "id": "wQCi3ERdyM96",
        "colab": {
          "base_uri": "https://localhost:8080/"
        },
        "outputId": "e9e48d40-e1c5-4c72-f091-23854d009a4c"
      },
      "source": [
        "# Getting the images\n",
        "filenames_list_yes = []\n",
        "filenames_list_no = []\n",
        "\n",
        "for filename in os.listdir(PATH1):\n",
        "    filenames_list_yes.append(PATH1 + filename)\n",
        "    \n",
        "for filename in os.listdir(PATH2):\n",
        "    filenames_list_no.append(PATH2 + filename)\n",
        "\n",
        "df_yes = pd.DataFrame({\n",
        "    'image': filenames_list_yes,\n",
        "    'category': np.ones(len(filenames_list_yes), str)\n",
        "})\n",
        "df_no = pd.DataFrame({\n",
        "    'image': filenames_list_no,\n",
        "    'category': np.zeros(len(filenames_list_no), str)\n",
        "})\n",
        "print(df_yes.shape, df_no.shape)\n",
        "df = df_yes.append(df_no, ignore_index=True)\n",
        "print(df['image'][0])"
      ],
      "execution_count": 21,
      "outputs": [
        {
          "output_type": "stream",
          "text": [
            "(5160, 2) (6580, 2)\n",
            "./ml-data/helmet-dataset/Train_positive/Train_positive/4325.jpg\n"
          ],
          "name": "stdout"
        }
      ]
    },
    {
      "cell_type": "markdown",
      "metadata": {
        "id": "YGKxg5LT2kHD"
      },
      "source": [
        "## 2. Training data"
      ]
    },
    {
      "cell_type": "code",
      "metadata": {
        "id": "ldR4U_TD2kHD"
      },
      "source": [
        "# Hyperparameters\n",
        "BATCH_SIZE=32\n",
        "EPOCHS=20"
      ],
      "execution_count": 22,
      "outputs": []
    },
    {
      "cell_type": "code",
      "metadata": {
        "id": "FGJ3njNpyNA4",
        "colab": {
          "base_uri": "https://localhost:8080/"
        },
        "outputId": "f351be00-1241-416f-9514-4f45dddabe82"
      },
      "source": [
        "#split data into train and valid set\n",
        "train_df, valid_df = train_test_split(df, test_size = 0.15, stratify = df['category'], random_state = 3)\n",
        "train_df = train_df.reset_index(drop=True)\n",
        "valid_df = valid_df.reset_index(drop=True)\n",
        "total_train = train_df.shape[0]\n",
        "total_valid = valid_df.shape[0]\n",
        "print(train_df.shape)\n",
        "print(valid_df.shape)"
      ],
      "execution_count": 23,
      "outputs": [
        {
          "output_type": "stream",
          "text": [
            "(9979, 2)\n",
            "(1761, 2)\n"
          ],
          "name": "stdout"
        }
      ]
    },
    {
      "cell_type": "code",
      "metadata": {
        "id": "tD1sYQF-yYFW",
        "colab": {
          "base_uri": "https://localhost:8080/"
        },
        "outputId": "22cf0c40-e06e-4eef-f41a-0092b1b167e2"
      },
      "source": [
        "#We'll perform individually on train and validation set.\n",
        "train_datagen = ImageDataGenerator(\n",
        "                                   rescale=1./255,\n",
        "                                   )\n",
        "\n",
        "train_gen = train_datagen.flow_from_dataframe(train_df,\n",
        "                                              x_col = 'image',\n",
        "                                              y_col = 'category',\n",
        "                                              target_size = IMAGE_SIZE,\n",
        "                                              batch_size = BATCH_SIZE,\n",
        "                                              class_mode='binary',\n",
        "                                              validate_filenames=False\n",
        "                                             )\n",
        "\n",
        "#we do not augment validation data.\n",
        "validation_datagen = ImageDataGenerator(rescale=1./255)\n",
        "valid_gen = validation_datagen.flow_from_dataframe(\n",
        "    valid_df, \n",
        "    x_col=\"image\",\n",
        "    y_col=\"category\",\n",
        "    target_size=IMAGE_SIZE,\n",
        "    class_mode='binary',\n",
        "    batch_size=BATCH_SIZE,\n",
        "    validate_filenames=False\n",
        ")"
      ],
      "execution_count": 24,
      "outputs": [
        {
          "output_type": "stream",
          "text": [
            "Found 9979 non-validated image filenames belonging to 2 classes.\n",
            "Found 1761 non-validated image filenames belonging to 2 classes.\n"
          ],
          "name": "stdout"
        }
      ]
    },
    {
      "cell_type": "code",
      "metadata": {
        "id": "IFtLlcADyY8h"
      },
      "source": [
        "model = Sequential()\n",
        "model.add(Conv2D(64, (3,3), activation='relu', strides=(2,2), input_shape=(IMAGE_WIDTH, IMAGE_HEIGHT, IMAGE_CHANNELS)))\n",
        "model.add(Conv2D(32, (3,3), activation='relu'))\n",
        "model.add(Dropout(0.3))\n",
        "model.add(Conv2D(16, (3,3), activation='relu'))\n",
        "model.add(MaxPooling2D((2,2)))\n",
        "model.add(Dropout(0.2))\n",
        "model.add(Conv2D(8, (3,3), activation='relu'))\n",
        "model.add(MaxPooling2D((2,2)))\n",
        "model.add(Dropout(0.3))\n",
        "model.add(Flatten())\n",
        "model.add(Dense(256, activation='relu'))\n",
        "model.add(Dense(1, activation='sigmoid'))\n",
        "model.compile(loss='binary_crossentropy', optimizer='adam', metrics=['acc', tf.keras.metrics.Precision()])\n"
      ],
      "execution_count": 25,
      "outputs": []
    },
    {
      "cell_type": "code",
      "metadata": {
        "id": "eMNO2GhJye6l",
        "colab": {
          "base_uri": "https://localhost:8080/"
        },
        "outputId": "0392cd6c-ac9e-4ec5-d055-bd40e6f175e7"
      },
      "source": [
        "model.summary()"
      ],
      "execution_count": 26,
      "outputs": [
        {
          "output_type": "stream",
          "text": [
            "Model: \"sequential_1\"\n",
            "_________________________________________________________________\n",
            "Layer (type)                 Output Shape              Param #   \n",
            "=================================================================\n",
            "conv2d_4 (Conv2D)            (None, 49, 49, 64)        1792      \n",
            "_________________________________________________________________\n",
            "conv2d_5 (Conv2D)            (None, 47, 47, 32)        18464     \n",
            "_________________________________________________________________\n",
            "dropout_3 (Dropout)          (None, 47, 47, 32)        0         \n",
            "_________________________________________________________________\n",
            "conv2d_6 (Conv2D)            (None, 45, 45, 16)        4624      \n",
            "_________________________________________________________________\n",
            "max_pooling2d_2 (MaxPooling2 (None, 22, 22, 16)        0         \n",
            "_________________________________________________________________\n",
            "dropout_4 (Dropout)          (None, 22, 22, 16)        0         \n",
            "_________________________________________________________________\n",
            "conv2d_7 (Conv2D)            (None, 20, 20, 8)         1160      \n",
            "_________________________________________________________________\n",
            "max_pooling2d_3 (MaxPooling2 (None, 10, 10, 8)         0         \n",
            "_________________________________________________________________\n",
            "dropout_5 (Dropout)          (None, 10, 10, 8)         0         \n",
            "_________________________________________________________________\n",
            "flatten_1 (Flatten)          (None, 800)               0         \n",
            "_________________________________________________________________\n",
            "dense_2 (Dense)              (None, 256)               205056    \n",
            "_________________________________________________________________\n",
            "dense_3 (Dense)              (None, 1)                 257       \n",
            "=================================================================\n",
            "Total params: 231,353\n",
            "Trainable params: 231,353\n",
            "Non-trainable params: 0\n",
            "_________________________________________________________________\n"
          ],
          "name": "stdout"
        }
      ]
    },
    {
      "cell_type": "markdown",
      "metadata": {
        "id": "syx8YWEp2kHD"
      },
      "source": [
        "## 3. Train the model"
      ]
    },
    {
      "cell_type": "code",
      "metadata": {
        "id": "LDqX4hWTye8i"
      },
      "source": [
        "learning_rate_reduction = ReduceLROnPlateau(monitor='val_acc', \n",
        "                                            patience=2, \n",
        "                                            verbose=1, \n",
        "                                            factor=0.5, \n",
        "                                            min_lr=0.00001)\n",
        "checkpointer = ModelCheckpoint(filepath = 'mask.weights.best.hdf5', save_best_only = True, save_weights_only = True)\n",
        "early_stop = EarlyStopping(monitor='loss', patience=3)\n",
        "callbacks = [learning_rate_reduction, checkpointer, early_stop]"
      ],
      "execution_count": 27,
      "outputs": []
    },
    {
      "cell_type": "code",
      "metadata": {
        "id": "BqURES9vye_j",
        "colab": {
          "base_uri": "https://localhost:8080/"
        },
        "outputId": "36c977ae-618f-4c19-b719-8d83b83a3307"
      },
      "source": [
        "start = time.time()\n",
        "\n",
        "model.fit_generator(train_gen,\n",
        "                    epochs = EPOCHS,\n",
        "                    validation_data = valid_gen,\n",
        "                    validation_steps=total_valid//BATCH_SIZE,\n",
        "                    steps_per_epoch=total_train//BATCH_SIZE,\n",
        "                    callbacks = callbacks)\n",
        "\n",
        "endTime = time.time() - start\n",
        "print(\"Total time: \", endTime, \"seconds\")"
      ],
      "execution_count": 28,
      "outputs": [
        {
          "output_type": "stream",
          "text": [
            "Epoch 1/20\n",
            "309/311 [============================>.] - ETA: 0s - loss: 0.1942 - acc: 0.9207 - precision_1: 0.9102Epoch 1/20\n",
            "311/311 [==============================] - 13s 41ms/step - loss: 0.1939 - acc: 0.9207 - precision_1: 0.9100 - val_loss: 0.2259 - val_acc: 0.8989 - val_precision_1: 0.9934\n",
            "Epoch 2/20\n",
            "309/311 [============================>.] - ETA: 0s - loss: 0.1028 - acc: 0.9620 - precision_1: 0.9537Epoch 1/20\n",
            "311/311 [==============================] - 12s 37ms/step - loss: 0.1030 - acc: 0.9620 - precision_1: 0.9535 - val_loss: 0.1005 - val_acc: 0.9585 - val_precision_1: 0.9821\n",
            "Epoch 3/20\n",
            "309/311 [============================>.] - ETA: 0s - loss: 0.0846 - acc: 0.9693 - precision_1: 0.9624Epoch 1/20\n",
            "311/311 [==============================] - 12s 37ms/step - loss: 0.0842 - acc: 0.9695 - precision_1: 0.9626 - val_loss: 0.0835 - val_acc: 0.9716 - val_precision_1: 0.9826\n",
            "Epoch 4/20\n",
            "310/311 [============================>.] - ETA: 0s - loss: 0.0837 - acc: 0.9690 - precision_1: 0.9616Epoch 1/20\n",
            "311/311 [==============================] - 11s 37ms/step - loss: 0.0836 - acc: 0.9690 - precision_1: 0.9617 - val_loss: 0.0641 - val_acc: 0.9767 - val_precision_1: 0.9692\n",
            "Epoch 5/20\n",
            "309/311 [============================>.] - ETA: 0s - loss: 0.0729 - acc: 0.9728 - precision_1: 0.9661Epoch 1/20\n",
            "311/311 [==============================] - 11s 37ms/step - loss: 0.0730 - acc: 0.9726 - precision_1: 0.9657 - val_loss: 0.0809 - val_acc: 0.9705 - val_precision_1: 0.9478\n",
            "Epoch 6/20\n",
            "309/311 [============================>.] - ETA: 0s - loss: 0.0657 - acc: 0.9767 - precision_1: 0.9702Epoch 1/20\n",
            " 55/311 [====>.........................] - ETA: 7s - loss: 0.0779 - acc: 0.9733 - precision_1: 0.9666\n",
            "Epoch 00006: ReduceLROnPlateau reducing learning rate to 0.0005000000237487257.\n",
            "311/311 [==============================] - 11s 37ms/step - loss: 0.0659 - acc: 0.9766 - precision_1: 0.9700 - val_loss: 0.0779 - val_acc: 0.9733 - val_precision_1: 0.9666\n",
            "Epoch 7/20\n",
            "309/311 [============================>.] - ETA: 0s - loss: 0.0506 - acc: 0.9810 - precision_1: 0.9756Epoch 1/20\n",
            "311/311 [==============================] - 12s 37ms/step - loss: 0.0507 - acc: 0.9809 - precision_1: 0.9756 - val_loss: 0.0784 - val_acc: 0.9767 - val_precision_1: 0.9741\n",
            "Epoch 8/20\n",
            "309/311 [============================>.] - ETA: 0s - loss: 0.0486 - acc: 0.9813 - precision_1: 0.9759Epoch 1/20\n",
            "311/311 [==============================] - 12s 37ms/step - loss: 0.0486 - acc: 0.9811 - precision_1: 0.9754 - val_loss: 0.0588 - val_acc: 0.9807 - val_precision_1: 0.9792\n",
            "Epoch 9/20\n",
            "310/311 [============================>.] - ETA: 0s - loss: 0.0406 - acc: 0.9817 - precision_1: 0.9758Epoch 1/20\n",
            "311/311 [==============================] - 11s 36ms/step - loss: 0.0405 - acc: 0.9818 - precision_1: 0.9759 - val_loss: 0.0512 - val_acc: 0.9801 - val_precision_1: 0.9830\n",
            "Epoch 10/20\n",
            "309/311 [============================>.] - ETA: 0s - loss: 0.0425 - acc: 0.9833 - precision_1: 0.9787Epoch 1/20\n",
            " 54/311 [====>.........................] - ETA: 7s - loss: 0.0534 - acc: 0.9792 - precision_1: 0.9852\n",
            "Epoch 00010: ReduceLROnPlateau reducing learning rate to 0.0002500000118743628.\n",
            "311/311 [==============================] - 11s 36ms/step - loss: 0.0424 - acc: 0.9834 - precision_1: 0.9788 - val_loss: 0.0527 - val_acc: 0.9795 - val_precision_1: 0.9855\n",
            "Epoch 11/20\n",
            "309/311 [============================>.] - ETA: 0s - loss: 0.0319 - acc: 0.9882 - precision_1: 0.9847Epoch 1/20\n",
            "311/311 [==============================] - 11s 35ms/step - loss: 0.0319 - acc: 0.9881 - precision_1: 0.9845 - val_loss: 0.0455 - val_acc: 0.9824 - val_precision_1: 0.9869\n",
            "Epoch 12/20\n",
            "309/311 [============================>.] - ETA: 0s - loss: 0.0300 - acc: 0.9893 - precision_1: 0.9869Epoch 1/20\n",
            "311/311 [==============================] - 11s 35ms/step - loss: 0.0300 - acc: 0.9892 - precision_1: 0.9870 - val_loss: 0.0456 - val_acc: 0.9835 - val_precision_1: 0.9908\n",
            "Epoch 13/20\n",
            "309/311 [============================>.] - ETA: 0s - loss: 0.0299 - acc: 0.9877 - precision_1: 0.9835Epoch 1/20\n",
            "311/311 [==============================] - 11s 35ms/step - loss: 0.0298 - acc: 0.9877 - precision_1: 0.9836 - val_loss: 0.0364 - val_acc: 0.9852 - val_precision_1: 0.9844\n",
            "Epoch 14/20\n",
            "309/311 [============================>.] - ETA: 0s - loss: 0.0270 - acc: 0.9898 - precision_1: 0.9869Epoch 1/20\n",
            "311/311 [==============================] - 11s 36ms/step - loss: 0.0269 - acc: 0.9898 - precision_1: 0.9870 - val_loss: 0.0335 - val_acc: 0.9892 - val_precision_1: 0.9896\n",
            "Epoch 15/20\n",
            "310/311 [============================>.] - ETA: 0s - loss: 0.0249 - acc: 0.9907 - precision_1: 0.9890Epoch 1/20\n",
            "311/311 [==============================] - 11s 36ms/step - loss: 0.0248 - acc: 0.9908 - precision_1: 0.9890 - val_loss: 0.0332 - val_acc: 0.9881 - val_precision_1: 0.9845\n",
            "Epoch 16/20\n",
            "310/311 [============================>.] - ETA: 0s - loss: 0.0224 - acc: 0.9922 - precision_1: 0.9906Epoch 1/20\n",
            "311/311 [==============================] - 11s 35ms/step - loss: 0.0224 - acc: 0.9923 - precision_1: 0.9907 - val_loss: 0.0336 - val_acc: 0.9898 - val_precision_1: 0.9858\n",
            "Epoch 17/20\n",
            "309/311 [============================>.] - ETA: 0s - loss: 0.0228 - acc: 0.9910 - precision_1: 0.9883Epoch 1/20\n",
            "311/311 [==============================] - 11s 36ms/step - loss: 0.0229 - acc: 0.9910 - precision_1: 0.9882 - val_loss: 0.0381 - val_acc: 0.9847 - val_precision_1: 0.9921\n",
            "Epoch 18/20\n",
            "310/311 [============================>.] - ETA: 0s - loss: 0.0200 - acc: 0.9930 - precision_1: 0.9910Epoch 1/20\n",
            " 55/311 [====>.........................] - ETA: 7s - loss: 0.0470 - acc: 0.9835 - precision_1: 0.9947\n",
            "Epoch 00018: ReduceLROnPlateau reducing learning rate to 0.0001250000059371814.\n",
            "311/311 [==============================] - 11s 36ms/step - loss: 0.0201 - acc: 0.9930 - precision_1: 0.9911 - val_loss: 0.0470 - val_acc: 0.9835 - val_precision_1: 0.9947\n",
            "Epoch 19/20\n",
            "309/311 [============================>.] - ETA: 0s - loss: 0.0173 - acc: 0.9936 - precision_1: 0.9920Epoch 1/20\n",
            "311/311 [==============================] - 11s 36ms/step - loss: 0.0172 - acc: 0.9937 - precision_1: 0.9920 - val_loss: 0.0318 - val_acc: 0.9915 - val_precision_1: 0.9909\n",
            "Epoch 20/20\n",
            "310/311 [============================>.] - ETA: 0s - loss: 0.0157 - acc: 0.9948 - precision_1: 0.9938Epoch 1/20\n",
            "311/311 [==============================] - 11s 36ms/step - loss: 0.0157 - acc: 0.9948 - precision_1: 0.9938 - val_loss: 0.0326 - val_acc: 0.9903 - val_precision_1: 0.9896\n",
            "Total time:  226.29486632347107 seconds\n"
          ],
          "name": "stdout"
        }
      ]
    },
    {
      "cell_type": "code",
      "metadata": {
        "id": "jDcAQxo3ynRp",
        "colab": {
          "base_uri": "https://localhost:8080/",
          "height": 778
        },
        "outputId": "8a40352f-5ea0-4168-c940-15d695419545"
      },
      "source": [
        "loss = pd.DataFrame(model.history.history)\n",
        "loss[['loss', 'val_loss']].plot()\n",
        "loss[['acc', 'val_acc']].plot()\n",
        "loss[['precision_1', 'val_precision_1']].plot()"
      ],
      "execution_count": 32,
      "outputs": [
        {
          "output_type": "execute_result",
          "data": {
            "text/plain": [
              "<matplotlib.axes._subplots.AxesSubplot at 0x7f0df95ad278>"
            ]
          },
          "metadata": {
            "tags": []
          },
          "execution_count": 32
        },
        {
          "output_type": "display_data",
          "data": {
            "image/png": "[encoded data removed]",
            "text/plain": [
              "<Figure size 432x288 with 1 Axes>"
            ]
          },
          "metadata": {
            "tags": [],
            "needs_background": "light"
          }
        },
        {
          "output_type": "display_data",
          "data": {
            "image/png": "[encoded data removed]",
            "text/plain": [
              "<Figure size 432x288 with 1 Axes>"
            ]
          },
          "metadata": {
            "tags": [],
            "needs_background": "light"
          }
        },
        {
          "output_type": "display_data",
          "data": {
            "image/png": "[encoded data removed]",
            "text/plain": [
              "<Figure size 432x288 with 1 Axes>"
            ]
          },
          "metadata": {
            "tags": [],
            "needs_background": "light"
          }
        }
      ]
    },
    {
      "cell_type": "code",
      "metadata": {
        "colab": {
          "base_uri": "https://localhost:8080/"
        },
        "id": "FBJt2NeG67b2",
        "outputId": "1860865e-6ee3-4d05-8edd-e09ecaa88060"
      },
      "source": [
        "loss_mean = loss.mean()\n",
        "loss_mean"
      ],
      "execution_count": 35,
      "outputs": [
        {
          "output_type": "execute_result",
          "data": {
            "text/plain": [
              "loss               0.051373\n",
              "acc                0.980396\n",
              "precision_1        0.975801\n",
              "val_loss           0.062563\n",
              "val_acc            0.976733\n",
              "val_precision_1    0.982649\n",
              "lr                 0.000513\n",
              "dtype: float64"
            ]
          },
          "metadata": {
            "tags": []
          },
          "execution_count": 35
        }
      ]
    },
    {
      "cell_type": "code",
      "metadata": {
        "colab": {
          "base_uri": "https://localhost:8080/"
        },
        "id": "8fBKEAlA7uYZ",
        "outputId": "74f347a2-d7e1-43c2-c516-0134a0cd0ae9"
      },
      "source": [
        "print(\"Epochs: \", EPOCHS)\n",
        "print(\"Train time: \", endTime, \"seconds\") "
      ],
      "execution_count": 33,
      "outputs": [
        {
          "output_type": "stream",
          "text": [
            "Epochs:  20\n",
            "Train time:  226.29486632347107 seconds\n"
          ],
          "name": "stdout"
        }
      ]
    },
    {
      "cell_type": "code",
      "metadata": {
        "id": "eAlJfW17EyCU",
        "outputId": "fbbb4c3c-d387-40d9-c469-2ff35d89f70e",
        "colab": {
          "base_uri": "https://localhost:8080/"
        }
      },
      "source": [
        "print(\"| ALGORITMO | {} | {} |  {} |   {} |  {} |      {} | {} |      {} |   {} |     |\".format(loss_mean.acc, loss_mean.loss, loss_mean.val_acc, loss_mean.val_loss, loss_mean.precision_1, loss_mean.val_precision_1, loss_mean.lr, len(model.history.epoch), endTime))\n"
      ],
      "execution_count": 37,
      "outputs": [
        {
          "output_type": "stream",
          "text": [
            "| ALGORITMO | 0.980396232008934 | 0.051372701452739 |  0.9767329514026641 |   0.06256261812374841 |  0.9758009612560272 |      0.9826488226652146 | 0.0005125000243424438 |      20 |   226.29486632347107 |     |\n"
          ],
          "name": "stdout"
        }
      ]
    }
  ]
}